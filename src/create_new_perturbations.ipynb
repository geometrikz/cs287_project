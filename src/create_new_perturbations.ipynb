{
 "cells": [
  {
   "cell_type": "code",
   "execution_count": 16,
   "metadata": {},
   "outputs": [
    {
     "name": "stdout",
     "output_type": "stream",
     "text": [
      "/opt/conda/lib/python3.7/site-packages/secretstorage/dhcrypto.py:16: CryptographyDeprecationWarning: int_from_bytes is deprecated, use int.from_bytes instead\n",
      "  from cryptography.utils import int_from_bytes\n",
      "/opt/conda/lib/python3.7/site-packages/secretstorage/util.py:25: CryptographyDeprecationWarning: int_from_bytes is deprecated, use int.from_bytes instead\n",
      "  from cryptography.utils import int_from_bytes\n",
      "Requirement already satisfied: googletrans==4.0.0-rc1 in /opt/conda/lib/python3.7/site-packages (4.0.0rc1)\n",
      "Requirement already satisfied: httpx==0.13.3 in /opt/conda/lib/python3.7/site-packages (from googletrans==4.0.0-rc1) (0.13.3)\n",
      "Requirement already satisfied: hstspreload in /opt/conda/lib/python3.7/site-packages (from httpx==0.13.3->googletrans==4.0.0-rc1) (2021.12.1)\n",
      "Requirement already satisfied: chardet==3.* in /opt/conda/lib/python3.7/site-packages (from httpx==0.13.3->googletrans==4.0.0-rc1) (3.0.4)\n",
      "Requirement already satisfied: sniffio in /opt/conda/lib/python3.7/site-packages (from httpx==0.13.3->googletrans==4.0.0-rc1) (1.2.0)\n",
      "Requirement already satisfied: rfc3986<2,>=1.3 in /opt/conda/lib/python3.7/site-packages (from httpx==0.13.3->googletrans==4.0.0-rc1) (1.5.0)\n",
      "Requirement already satisfied: httpcore==0.9.* in /opt/conda/lib/python3.7/site-packages (from httpx==0.13.3->googletrans==4.0.0-rc1) (0.9.1)\n",
      "Requirement already satisfied: certifi in /opt/conda/lib/python3.7/site-packages (from httpx==0.13.3->googletrans==4.0.0-rc1) (2021.10.8)\n",
      "Requirement already satisfied: idna==2.* in /opt/conda/lib/python3.7/site-packages (from httpx==0.13.3->googletrans==4.0.0-rc1) (2.8)\n",
      "Requirement already satisfied: h2==3.* in /opt/conda/lib/python3.7/site-packages (from httpcore==0.9.*->httpx==0.13.3->googletrans==4.0.0-rc1) (3.2.0)\n",
      "Requirement already satisfied: h11<0.10,>=0.8 in /opt/conda/lib/python3.7/site-packages (from httpcore==0.9.*->httpx==0.13.3->googletrans==4.0.0-rc1) (0.9.0)\n",
      "Requirement already satisfied: hpack<4,>=3.0 in /opt/conda/lib/python3.7/site-packages (from h2==3.*->httpcore==0.9.*->httpx==0.13.3->googletrans==4.0.0-rc1) (3.0.0)\n",
      "Requirement already satisfied: hyperframe<6,>=5.2.0 in /opt/conda/lib/python3.7/site-packages (from h2==3.*->httpcore==0.9.*->httpx==0.13.3->googletrans==4.0.0-rc1) (5.2.0)\n",
      "\u001b[33mWARNING: Running pip as the 'root' user can result in broken permissions and conflicting behaviour with the system package manager. It is recommended to use a virtual environment instead: https://pip.pypa.io/warnings/venv\u001b[0m\n",
      "/opt/conda/lib/python3.7/site-packages/secretstorage/dhcrypto.py:16: CryptographyDeprecationWarning: int_from_bytes is deprecated, use int.from_bytes instead\n",
      "  from cryptography.utils import int_from_bytes\n",
      "/opt/conda/lib/python3.7/site-packages/secretstorage/util.py:25: CryptographyDeprecationWarning: int_from_bytes is deprecated, use int.from_bytes instead\n",
      "  from cryptography.utils import int_from_bytes\n",
      "Requirement already satisfied: pyinflect in /opt/conda/lib/python3.7/site-packages (0.5.1)\n",
      "\u001b[33mWARNING: Running pip as the 'root' user can result in broken permissions and conflicting behaviour with the system package manager. It is recommended to use a virtual environment instead: https://pip.pypa.io/warnings/venv\u001b[0m\n"
     ]
    },
    {
     "name": "stderr",
     "output_type": "stream",
     "text": [
      "2021-12-07 02:32:50 WARNING: Directory ./corenlp already exists. Please install CoreNLP to a new directory.\n"
     ]
    },
    {
     "name": "stdout",
     "output_type": "stream",
     "text": [
      "CoreNLP-to-HTML.xsl\n",
      "LIBRARY-LICENSES\n",
      "LICENSE.txt\n",
      "Makefile\n",
      "README.txt\n",
      "RESOURCE-LICENSES\n",
      "SemgrexDemo.java\n",
      "ShiftReduceDemo.java\n",
      "StanfordCoreNlpDemo.java\n",
      "StanfordDependenciesManual.pdf\n",
      "build.xml\n",
      "corenlp.sh\n",
      "ejml-core-0.39-sources.jar\n",
      "ejml-core-0.39.jar\n",
      "ejml-ddense-0.39-sources.jar\n",
      "ejml-ddense-0.39.jar\n",
      "ejml-simple-0.39-sources.jar\n",
      "ejml-simple-0.39.jar\n",
      "input.txt\n",
      "input.txt.out\n",
      "input.txt.xml\n",
      "istack-commons-runtime-3.0.7-sources.jar\n",
      "istack-commons-runtime-3.0.7.jar\n",
      "javax.activation-api-1.2.0-sources.jar\n",
      "javax.activation-api-1.2.0.jar\n",
      "javax.json-api-1.0-sources.jar\n",
      "javax.json.jar\n",
      "jaxb-api-2.4.0-b180830.0359-sources.jar\n",
      "jaxb-api-2.4.0-b180830.0359.jar\n",
      "jaxb-impl-2.4.0-b180830.0438-sources.jar\n",
      "jaxb-impl-2.4.0-b180830.0438.jar\n",
      "joda-time-2.10.5-sources.jar\n",
      "joda-time.jar\n",
      "jollyday-0.4.9-sources.jar\n",
      "jollyday.jar\n",
      "patterns\n",
      "pom-java-11.xml\n",
      "pom-java-17.xml\n",
      "pom.xml\n",
      "protobuf-java-3.11.4.jar\n",
      "slf4j-api.jar\n",
      "slf4j-simple.jar\n",
      "stanford-corenlp-4.3.2-javadoc.jar\n",
      "stanford-corenlp-4.3.2-models.jar\n",
      "stanford-corenlp-4.3.2-sources.jar\n",
      "stanford-corenlp-4.3.2.jar\n",
      "sutime\n",
      "tokensregex\n",
      "xom-1.3.7-sources.jar\n",
      "xom.jar\n",
      "/opt/conda/lib/python3.7/site-packages/secretstorage/dhcrypto.py:16: CryptographyDeprecationWarning: int_from_bytes is deprecated, use int.from_bytes instead\n",
      "  from cryptography.utils import int_from_bytes\n",
      "/opt/conda/lib/python3.7/site-packages/secretstorage/util.py:25: CryptographyDeprecationWarning: int_from_bytes is deprecated, use int.from_bytes instead\n",
      "  from cryptography.utils import int_from_bytes\n",
      "Requirement already satisfied: nltk in /opt/conda/lib/python3.7/site-packages (3.6.5)\n",
      "Requirement already satisfied: joblib in /opt/conda/lib/python3.7/site-packages (from nltk) (0.14.1)\n",
      "Requirement already satisfied: click in /opt/conda/lib/python3.7/site-packages (from nltk) (8.0.3)\n",
      "Requirement already satisfied: tqdm in /opt/conda/lib/python3.7/site-packages (from nltk) (4.62.3)\n",
      "Requirement already satisfied: regex>=2021.8.3 in /opt/conda/lib/python3.7/site-packages (from nltk) (2021.11.10)\n",
      "Requirement already satisfied: importlib-metadata in /opt/conda/lib/python3.7/site-packages (from click->nltk) (1.5.0)\n",
      "Requirement already satisfied: zipp>=0.5 in /opt/conda/lib/python3.7/site-packages (from importlib-metadata->click->nltk) (2.2.0)\n",
      "\u001b[33mWARNING: Running pip as the 'root' user can result in broken permissions and conflicting behaviour with the system package manager. It is recommended to use a virtual environment instead: https://pip.pypa.io/warnings/venv\u001b[0m\n"
     ]
    },
    {
     "name": "stderr",
     "output_type": "stream",
     "text": [
      "[nltk_data] Downloading package wordnet to /root/nltk_data...\n",
      "[nltk_data]   Package wordnet is already up-to-date!\n"
     ]
    }
   ],
   "source": [
    "# !pip install transformers sentence-transformers stanza datasets rouge_score spacy\n",
    "# ! python -m spacy download en_core_web_lg\n",
    "!pip install googletrans==4.0.0-rc1\n",
    "!pip install pyinflect\n",
    "\n",
    "import stanza\n",
    "\n",
    "corenlp_dir = './corenlp'\n",
    "stanza.install_corenlp(dir=corenlp_dir)\n",
    "\n",
    "# Set the CORENLP_HOME environment variable to point to the installation location\n",
    "import os\n",
    "os.environ[\"CORENLP_HOME\"] = corenlp_dir\n",
    "\n",
    "!ls $CORENLP_HOME\n",
    "from stanza.server import CoreNLPClient\n",
    "\n",
    "\n",
    "import datasets\n",
    "import transformers\n",
    "\n",
    "\n",
    "import logging\n",
    "import os\n",
    "\n",
    "import re\n",
    "import sys\n",
    "import numpy as np\n",
    "import pandas as pd\n",
    "import torch\n",
    "from tqdm import tqdm\n",
    "\n",
    "from datasets import load_dataset, load_metric\n",
    "from dataclasses import dataclass, field\n",
    "from typing import Optional\n",
    "from rouge_score import rouge_scorer\n",
    "\n",
    "from tqdm.notebook import tqdm\n",
    "from stanza.server import CoreNLPClient\n",
    "\n",
    "import pandas as pd\n",
    "import googletrans\n",
    "from googletrans import Translator\n",
    "\n",
    "import pyinflect\n",
    "import spacy\n",
    "nlp = spacy.load(\"en_core_web_lg\")\n",
    "\n",
    "\n",
    "\n",
    "import pandas as pd\n",
    "import googletrans\n",
    "from googletrans import Translator\n",
    "translator = Translator()\n",
    "import random\n",
    "\n",
    "!pip install nltk --upgrade\n",
    "\n",
    "import nltk\n",
    "nltk.download('wordnet')\n",
    "from nltk.corpus import wordnet as wn"
   ]
  },
  {
   "cell_type": "code",
   "execution_count": 17,
   "metadata": {},
   "outputs": [],
   "source": [
    "def align_ws(old_token, new_token):\n",
    "    # Align trailing whitespaces between tokens\n",
    "    if old_token[-1] == new_token[-1] == \" \":\n",
    "        return new_token\n",
    "    elif old_token[-1] == \" \":\n",
    "        return new_token + \" \"\n",
    "    elif new_token[-1] == \" \":\n",
    "        return new_token[:-1]\n",
    "    else:\n",
    "        return new_token\n",
    "    \n",
    "NEGATABLE_TOKENS = (\"are\", \"is\", \"was\", \"were\", \"have\", \"has\", \"had\",\n",
    "                                   \"do\", \"does\", \"did\", \"can\", \"ca\", \"could\", \"may\",\n",
    "                                   \"might\", \"must\", \"shall\", \"should\", \"will\", \"would\")\n",
    "\n",
    "\n",
    "\n",
    "def negation(summary):\n",
    "  candidate_tokens = [token for token in summary if token.text in NEGATABLE_TOKENS]\n",
    "\n",
    "  if not candidate_tokens:\n",
    "      return None, None\n",
    "\n",
    "  # choose random token to negate\n",
    "  negated_token = random.choice(candidate_tokens)\n",
    "  negated_index = negated_token.i\n",
    "  L = len(summary)\n",
    "\n",
    "  # negation occurs at the first negatable token (e.g. does not have)\n",
    "  if negated_index > 0:\n",
    "    if summary[negated_index-1].text in NEGATABLE_TOKENS:\n",
    "      negated_token = summary[negated_index-1]\n",
    "      negated_index = negated_index-1\n",
    "  \n",
    "  #check whether qualified by a negative\n",
    "  is_negative = False\n",
    "  if (L-1) > negated_index:\n",
    "    if summary[negated_index + 1].text in [\"not\", \"n't\"]:\n",
    "      is_negative = True\n",
    "    elif summary[negated_index+1].text == \"no\":\n",
    "      return None, None\n",
    "\n",
    "  #add not/n't if is_negative is False, remove if True\n",
    "  tokens = [token.text_with_ws for token in summary]\n",
    "  if is_negative:\n",
    "      if summary[negated_index + 1].text.lower() == \"n't\":\n",
    "          if summary[negated_index + 1].text.lower() == \"ca\":\n",
    "              tokens[negated_index] = \"can\" if tokens[negated_index].islower() else \"Can\"\n",
    "          tokens[negated_index] = tokens[negated_index] + \" \"\n",
    "      tokens.pop(negated_index + 1)\n",
    "\n",
    "  else:\n",
    "      if summary[negated_index].text.lower() in [\"am\", \"may\", \"might\", \"must\", \"shall\", \"will\"]:\n",
    "          negation = \"not \"\n",
    "      else:\n",
    "          negation = random.choice([\"not \", \"n't \"])\n",
    "\n",
    "      if negation == \"n't \":\n",
    "          if summary[negated_index].text.lower() == \"can\":\n",
    "              tokens[negated_index] = \"ca\" if tokens[negated_index].islower() else \"Ca\"\n",
    "          else:\n",
    "              tokens[negated_index] = tokens[negated_index][:-1]\n",
    "      tokens.insert(negated_index + 1, negation)\n",
    "  \n",
    "  new_summary = spacy(\"\".join(tokens))\n",
    "  augmentation_span = [(negated_index, negated_index if is_negative else negated_index + 1)]\n",
    "\n",
    "  if new_summary.text == summary.text:\n",
    "    return None, None\n",
    "  else:\n",
    "    return new_summary, augmentation_span\n",
    "\n",
    "CLASS_TO_PRONOUN = {\n",
    "            \"SUBJECT\": [\"you\", \"he\", \"she\", \"we\", \"they\"],\n",
    "            \"OBJECT\": [\"me\", \"you\", \"him\", \"her\", \"us\", \"them\"],\n",
    "            \"POSSESSIVE\": [\"my\", \"your\", \"his\", \"her\", \"its\", \"our\", \"your\", \"their\"],\n",
    "            \"REFLEXIVE\": [\"myself\", \"yourself\", \"himself\", \"itself\", \"ourselves\", \"yourselves\", \"themselves\"]\n",
    "        }\n",
    "\n",
    "\n",
    "PRONOUN_TO_CLASS = {pronoun: key for (key, values) in CLASS_TO_PRONOUN.items() for pronoun in values}\n",
    "PRONOUNS = [pronoun for pronoun in PRONOUN_TO_CLASS.keys()]\n",
    "\n",
    "\n",
    "def pronounswap(summary):\n",
    "  summary_pronouns = [token for token in summary if token.text.lower() in PRONOUNS]\n",
    "\n",
    "  if not summary_pronouns:\n",
    "    return None, None\n",
    "\n",
    "  swap = random.choice(summary_pronouns)\n",
    "  swap_index = swap.i\n",
    "  swap_class = PRONOUN_TO_CLASS[swap.text.lower()]\n",
    "\n",
    "  candidate_tokens = [token for token in CLASS_TO_PRONOUN[swap_class] if token != swap.text.lower()]\n",
    "\n",
    "  if not candidate_tokens:\n",
    "    return None, None\n",
    "\n",
    "  swapped_token = random.choice(candidate_tokens)\n",
    "  swapped_token = align_ws(swap.text_with_ws, swapped_token)\n",
    "  swapped_token = swapped_token if swap.text.islower() else swapped_token.capitalize()\n",
    "\n",
    "  summary_tokens = [token.text_with_ws for token in summary]\n",
    "  summary_tokens[swap_index] = swapped_token\n",
    "\n",
    "  new_summary = spacy(\"\".join(summary_tokens))\n",
    "\n",
    "  augmentation_span = [(swap_index, swap_index)]\n",
    "\n",
    "  if new_summary.text == summary.text:\n",
    "    return None, None\n",
    "\n",
    "  else:\n",
    "    return new_summary, augmentation_span\n",
    "\n",
    "\n",
    "ENTITY_CATEGORIES = (\"PERSON\", \"ORG\", \"NORP\", \"FAC\", \"GPE\", \"LOC\", \"PRODUCT\",\n",
    "                           \"WORK_OF_ART\", \"EVENT\")\n",
    "\n",
    "def entityswap(summary, source):\n",
    "  source_ents = [ent for ent in source.ents if ent.label_ in ENTITY_CATEGORIES]\n",
    "  summary_ents = [ent for ent in summary.ents if ent.label_ in ENTITY_CATEGORIES]\n",
    "\n",
    "  if not source_ents or not summary_ents:\n",
    "    return None, None\n",
    "\n",
    "  swap = random.choice(summary_ents)\n",
    "  candidate_ents = [ent for ent in source_ents if ent.text != swap.text and ent.text not in swap.text and swap.text not in ent.text]\n",
    "\n",
    "  if not candidate_ents:\n",
    "    return None, None\n",
    "\n",
    "  swapped_ent = random.choice(candidate_ents)\n",
    "  summary_tokens = [token.text_with_ws for token in summary]\n",
    "  swapped_token = align_ws(swap.text_with_ws, swapped_ent.text_with_ws)\n",
    "  summary_tokens = summary_tokens[:swap.start] + [swapped_token] + summary_tokens[swap.end:]\n",
    "\n",
    "  new_summary = spacy(\"\".join(summary_tokens))\n",
    "  augmentation_span = [(swap.start, swap.start + len(swapped_ent) - 1)]\n",
    "\n",
    "  if new_summary.text == summary.text:\n",
    "    return None, None\n",
    "\n",
    "  else:\n",
    "    return new_summary, augmentation_span\n",
    "\n",
    "NUMBER_CATEGORIES = (\"PERCENT\", \"MONEY\", \"QUANTITY\", \"CARDINAL\")\n",
    "\n",
    "def numberswap(summary, source):\n",
    "  source_ents = [ent for ent in source.ents if ent.label_ in NUMBER_CATEGORIES]\n",
    "  summary_ents = [ent for ent in summary.ents if ent.label_ in NUMBER_CATEGORIES]\n",
    "\n",
    "  if not source_ents or not summary_ents:\n",
    "    return None, None\n",
    "\n",
    "  swap = random.choice(summary_ents)\n",
    "  candidate_ents = [ent for ent in source_ents if ent.text != swap.text and ent.text not in swap.text and swap.text not in ent.text]\n",
    "\n",
    "  if not candidate_ents:\n",
    "    return None, None\n",
    "\n",
    "  swapped_ent = random.choice(candidate_ents)\n",
    "  summary_tokens = [token.text_with_ws for token in summary]\n",
    "  swapped_token = align_ws(swap.text_with_ws, swapped_ent.text_with_ws)\n",
    "  summary_tokens = summary_tokens[:swap.start] + [swapped_token] + summary_tokens[swap.end:]\n",
    "\n",
    "  new_summary = spacy(\"\".join(summary_tokens))\n",
    "  augmentation_span = [(swap.start, swap.start + len(swapped_ent) - 1)]\n",
    "\n",
    "  if new_summary.text == summary.text:\n",
    "    return None, None\n",
    "\n",
    "  else:\n",
    "    return new_summary, augmentation_span\n",
    "\n",
    "DATE_CATEGORIES = (\"DATE\", \"TIME\")\n",
    "\n",
    "def dateswap(summary, source):\n",
    "  source_ents = [ent for ent in source.ents if ent.label_ in DATE_CATEGORIES]\n",
    "  summary_ents = [ent for ent in summary.ents if ent.label_ in DATE_CATEGORIES]\n",
    "\n",
    "  if not source_ents or not summary_ents:\n",
    "    return None, None\n",
    "\n",
    "  swap = random.choice(summary_ents)\n",
    "  candidate_ents = [ent for ent in source_ents if ent.text != swap.text and ent.text not in swap.text and swap.text not in ent.text]\n",
    "\n",
    "  if not candidate_ents:\n",
    "    return None, None\n",
    "\n",
    "  swapped_ent = random.choice(candidate_ents)\n",
    "  summary_tokens = [token.text_with_ws for token in summary]\n",
    "  swapped_token = align_ws(swap.text_with_ws, swapped_ent.text_with_ws)\n",
    "  summary_tokens = summary_tokens[:swap.start] + [swapped_token] + summary_tokens[swap.end:]\n",
    "\n",
    "  new_summary = spacy(\"\".join(summary_tokens))\n",
    "  augmentation_span = [(swap.start, swap.start + len(swapped_ent) - 1)]\n",
    "\n",
    "  if new_summary.text == summary.text:\n",
    "    return None, None\n",
    "\n",
    "  else:\n",
    "    return new_summary, augmentation_span\n",
    "\n",
    "from stanza.server import CoreNLPClient\n",
    "\n",
    "\n",
    "POS_TAGS = (\"NOUN\", \"ADJ\", \"PROPN\")\n",
    "\n",
    "\n",
    "# def openIE_filter(extract, summary):\n",
    "#   new_text = \"\"\n",
    "#   extract = spacy(extract)\n",
    "\n",
    "#   start_index = 0\n",
    "#   for token in summary:\n",
    "#     if token.text != extract[0].text:\n",
    "#       start_index+=1\n",
    "#     else:\n",
    "#       break\n",
    "#   tracking_index = start_index\n",
    "#   for word in extract:\n",
    "#     while (summary[tracking_index].text != word.text):\n",
    "#       tracking_index+=1\n",
    "#     if summary[tracking_index].pos_ in POS_TAGS:\n",
    "#       break\n",
    "#   start_index = tracking_index\n",
    "\n",
    "#   while (summary[tracking_index].pos_ != \"NOUN\" and summary[tracking_index].pos_ != \"PROPN\"):\n",
    "#     new_text+=(summary[tracking_index].text_with_ws)\n",
    "#     tracking_index += 1\n",
    "#   while (summary[tracking_index].pos_ == \"NOUN\" or summary[tracking_index].pos_ == \"PROPN\"):\n",
    "#     new_text+=(summary[tracking_index].text_with_ws)\n",
    "#     tracking_index += 1\n",
    "#   return new_text, start_index, tracking_index\n",
    "\n",
    "def openIE_filter(extract, summary):\n",
    "  new_text = \"\"\n",
    "  extract = spacy(extract)\n",
    "  start_index = 0\n",
    "  for token in summary:\n",
    "    if token.text != extract[0].text:\n",
    "      start_index+=1\n",
    "    else:\n",
    "      break\n",
    "  tracking_index = start_index\n",
    "  for word in extract:\n",
    "    while (summary[tracking_index].text != word.text):\n",
    "      tracking_index+=1\n",
    "    if summary[tracking_index].pos_ in POS_TAGS:\n",
    "      break\n",
    "  start_index = tracking_index\n",
    "  while (summary[tracking_index].pos_ != \"NOUN\" and summary[tracking_index].pos_ != \"PROPN\" and tracking_index < len(summary)):\n",
    "    new_text+=(summary[tracking_index].text_with_ws)\n",
    "    tracking_index += 1\n",
    "  if len(summary) == tracking_index:\n",
    "    return new_text, start_index, tracking_index\n",
    "  while (summary[tracking_index].pos_ == \"NOUN\" or summary[tracking_index].pos_ == \"PROPN\"):\n",
    "    new_text+=(summary[tracking_index].text_with_ws)\n",
    "    tracking_index += 1\n",
    "  return new_text, start_index, tracking_index\n",
    "\n",
    "\n",
    "# def s_o_swap(summary):\n",
    "#   summary_ents = [ent for ent in summary.ents]\n",
    "#   client = CoreNLPClient(timeout=150000000, be_quiet=True, annotators=['openie'], \n",
    "#   endpoint='http://localhost:9002')\n",
    "#   client.start()\n",
    "#   import time\n",
    "#   time.sleep(2)\n",
    "#   story_triples = []\n",
    "\n",
    "#   document = client.annotate(summary.text, output_format='json')\n",
    "#   triples = []\n",
    "#   for sentence in document['sentences']:\n",
    "#       for triple in sentence['openie']:\n",
    "#           triples.append({\n",
    "#             'subject': triple['subject'],\n",
    "#             'relation': triple['relation'],\n",
    "#               'object': triple['object']\n",
    "#           })\n",
    "  \n",
    "#   client.stop()\n",
    "#   time.sleep(2)\n",
    "\n",
    "#   if not triples:\n",
    "#     return None, None\n",
    "#   candidate_triples = []\n",
    "#   for triple in triples:\n",
    "#     subj = triple['subject']\n",
    "#     obj = triple['object']\n",
    "#     allow_triple = False\n",
    "#     for ent in summary_ents:\n",
    "#       if subj == ent.text or subj in ent.text or ent.text in subj:\n",
    "#         allow_triple = True\n",
    "#       if obj == ent.text or obj in ent.text or ent.text in obj:\n",
    "#         allow_triple = True\n",
    "#     if allow_triple == True:\n",
    "#       candidate_triples.append(triple)\n",
    "#   if not candidate_triples:\n",
    "#     return None, None\n",
    "#   triple_swap = random.choice(candidate_triples)\n",
    "#   triple_swap[\"subject\"], s_start, s_end = openIE_filter(triple_swap[\"subject\"], summary)\n",
    "#   triple_swap[\"object\"], o_start, o_end = openIE_filter(triple_swap[\"object\"], summary)\n",
    "#   if s_start == 0:\n",
    "#     triple_swap[\"object\"] = triple_swap[\"object\"].capitalize()\n",
    "#     if summary[s_start].pos_ != \"PROPN\":\n",
    "#       triple_swap[\"subject\"] = triple_swap[\"subject\"][0].lower() + triple_swap[\"subject\"][1:]\n",
    "#   if o_start == 0:\n",
    "#     triple_swap[\"subject\"] = triple_swap[\"subject\"].capitalize()\n",
    "#     if summary[o_start].pos_ != \"PROPN\":\n",
    "#       triple_swap[\"object\"] = triple_swap[\"object\"][0].lower() + triple_swap[\"object\"][1:]\n",
    "  \n",
    "#   if s_end <= o_start:\n",
    "#     new_summary = summary[:s_start].text_with_ws + triple_swap[\"object\"] + summary[s_end:o_start].text_with_ws + triple_swap[\"subject\"] + summary[o_end:].text_with_ws\n",
    "#     augmentation_span = [(s_start, o_end - o_start + s_start-1), (o_end - s_end + s_start, o_end-1)]\n",
    "#   elif o_end <= s_start:\n",
    "#     new_summary = summary[:o_start].text_with_ws + triple_swap[\"subject\"] + summary[o_end:s_start].text_with_ws + triple_swap[\"object\"] + summary[s_end:].text_with_ws\n",
    "#     augmentation_span = [(o_start, s_end - s_start + o_start-1), (s_end - o_end + o_start-1, s_end-2)]\n",
    "#   else:\n",
    "#     return None, None\n",
    "#   new_summary = spacy(new_summary)\n",
    "#   if new_summary.text == summary.text:\n",
    "#     return None, None\n",
    "\n",
    "#   else:\n",
    "#     return new_summary, augmentation_span\n",
    "\n",
    "\n",
    "def s_o_swap(summary):\n",
    "  summary_ents = [ent for ent in summary.ents]\n",
    "  story_triples = []\n",
    "  document = client.annotate(summary.text, output_format='json')\n",
    "  triples = []\n",
    "  for sentence in document['sentences']:\n",
    "      for triple in sentence['openie']:\n",
    "          triples.append({\n",
    "            'subject': triple['subject'],\n",
    "            'relation': triple['relation'],\n",
    "              'object': triple['object']\n",
    "          })\n",
    "  if not triples:\n",
    "    return None, None\n",
    "  candidate_triples = []\n",
    "  for triple in triples:\n",
    "    subj = triple['subject']\n",
    "    obj = triple['object']\n",
    "    allow_triple = False\n",
    "    for ent in summary_ents:\n",
    "      if subj == ent.text or subj in ent.text or ent.text in subj:\n",
    "        allow_triple = True\n",
    "      if obj == ent.text or obj in ent.text or ent.text in obj:\n",
    "        allow_triple = True\n",
    "    if allow_triple == True:\n",
    "      candidate_triples.append(triple)\n",
    "  if not candidate_triples:\n",
    "    return None, None\n",
    "  triple_swap = random.choice(candidate_triples)\n",
    "  triple_swap[\"subject\"], s_start, s_end = openIE_filter(triple_swap[\"subject\"], summary)\n",
    "  triple_swap[\"object\"], o_start, o_end = openIE_filter(triple_swap[\"object\"], summary)\n",
    "  if s_start == 0:\n",
    "    triple_swap[\"object\"] = triple_swap[\"object\"].capitalize()\n",
    "    if summary[s_start].pos_ != \"PROPN\":\n",
    "      triple_swap[\"subject\"] = triple_swap[\"subject\"][0].lower() + triple_swap[\"subject\"][1:]\n",
    "  if o_start == 0:\n",
    "    triple_swap[\"subject\"] = triple_swap[\"subject\"].capitalize()\n",
    "    if summary[o_start].pos_ != \"PROPN\":\n",
    "      triple_swap[\"object\"] = triple_swap[\"object\"][0].lower() + triple_swap[\"object\"][1:]\n",
    "  if s_end <= o_start:\n",
    "    new_summary = summary[:s_start].text_with_ws + triple_swap[\"object\"] + summary[s_end:o_start].text_with_ws + triple_swap[\"subject\"] + summary[o_end:].text_with_ws\n",
    "    augmentation_span = [(s_start, o_end - o_start + s_start-1), (o_end - s_end + s_start, o_end-1)]\n",
    "  elif o_end <= s_start:\n",
    "    new_summary = summary[:o_start].text_with_ws + triple_swap[\"subject\"] + summary[o_end:s_start].text_with_ws + triple_swap[\"object\"] + summary[s_end:].text_with_ws\n",
    "    augmentation_span = [(o_start, s_end - s_start + o_start-1), (s_end - o_end + o_start-1, s_end-2)]\n",
    "  else:\n",
    "    return None, None\n",
    "  new_summary = spacy(new_summary)\n",
    "  if new_summary.text == summary.text:\n",
    "    return None, None\n",
    "  else:\n",
    "    return new_summary, augmentation_span\n",
    "\n",
    "SOURCE_LANG = \"en\"\n",
    "ACCEPTED_LANGS = [\"fr\", \"de\", \"zh-TW\", \"es\", \"ru\"]\n",
    "translator = Translator()\n",
    "\n",
    "def backtranslate(summary):\n",
    "  new_lang = random.choice(ACCEPTED_LANGS)\n",
    "  summary_trans = translator.translate(summary.text, dest=new_lang)\n",
    "  summary_btrans = translator.translate(summary_trans.text, dest=SOURCE_LANG)\n",
    "\n",
    "  new_summary = spacy(summary_btrans.text)\n",
    "  augmentation_span = (new_summary[0].i, new_summary[-1].i)\n",
    "\n",
    "  if summary.text == new_summary.text:\n",
    "    return None, None\n",
    "  else:\n",
    "    return new_summary, [augmentation_span]\n",
    "\n",
    "\n",
    "NOISE_PROB = 0.05\n",
    "DELETE_PROB = 0.8\n",
    "def addnoise(summary, augmentation_span):\n",
    "        summary_tokens = [token.text_with_ws for token in summary]\n",
    "\n",
    "        new_summary = []\n",
    "        for ix, token in enumerate(summary_tokens):\n",
    "            # don't modify text inside an augmented span\n",
    "            apply_augmentation = True\n",
    "            if augmentation_span:\n",
    "              for aug_span in augmentation_span:\n",
    "                if aug_span:\n",
    "                  span_start, span_end = aug_span\n",
    "                  if span_start <= ix <= span_end:\n",
    "                      apply_augmentation = False\n",
    "\n",
    "            # decide whether to add noise\n",
    "            if apply_augmentation and random.random() < NOISE_PROB:\n",
    "                # decide whether to replicate or delete token\n",
    "                if random.random() < DELETE_PROB:\n",
    "                    # update spans and skip token\n",
    "                    if augmentation_span:\n",
    "                      for el in range(0, len(augmentation_span)):\n",
    "                        aug_span = augmentation_span[el]\n",
    "                        if aug_span:\n",
    "                          span_start, span_end = aug_span\n",
    "                          if ix < span_start:\n",
    "                            span_start -= 1\n",
    "                            span_end -= 1\n",
    "                          aug_span = span_start, span_end\n",
    "                          augmentation_span[el] = aug_span\n",
    "                      if len(new_summary) > 0:\n",
    "                        if new_summary[-1][-1] != \" \":\n",
    "                          new_summary[-1] = new_summary[-1] + \" \"\n",
    "                      continue      \n",
    "                else:\n",
    "                  if augmentation_span:\n",
    "                    for el in range(0, len(augmentation_span)):\n",
    "                      aug_span = augmentation_span[el]\n",
    "                      if aug_span:\n",
    "                        span_start, span_end = aug_span\n",
    "                        if ix < span_start:\n",
    "                          span_start += 1\n",
    "                          span_end += 1\n",
    "                        aug_span = span_start, span_end\n",
    "                        augmentation_span[el] = aug_span\n",
    "\n",
    "                  new_summary.append(token)\n",
    "            new_summary.append(token)\n",
    "        new_summary = spacy(\"\".join(new_summary))\n",
    "\n",
    "        if summary.text == new_summary.text:\n",
    "            return None\n",
    "        else:\n",
    "            return new_summary\n",
    "        \n",
    "# def predicateswap(summary, source):\n",
    "#   source_verbs = [token for token in source if token.pos_ == \"VERB\"]\n",
    "#   source_adverbs = [token for token in source if token.pos_ == \"ADV\"]\n",
    "#   summary_preds = [token for token in summary if token.pos_ == \"VERB\" or token.pos_ == \"ADV\"]\n",
    "#   if not summary_preds or not source_adverbs or not source_verbs:\n",
    "#     return None, None\n",
    "#   original = random.choice(summary_preds)\n",
    "#   ix = original.i\n",
    "#   if original.pos_ == \"VERB\":\n",
    "#     new = random.choice(source_verbs)\n",
    "#   else:\n",
    "#     new = random.choice(source_adverbs)\n",
    "\n",
    "#   summary_tokens = [token.text_with_ws for token in summary]\n",
    "#   summary_tokens[ix] = new.text_with_ws\n",
    "#   new_summary = \"\".join(summary_tokens)\n",
    "#   new_summary = spacy(new_summary)\n",
    "#   augmentation_span = (ix, ix)\n",
    "#   if new_summary.text == summary.text:\n",
    "#     return None, None\n",
    "#   else:\n",
    "#     return new_summary, [augmentation_span]\n",
    "\n",
    "\n",
    "# PERTURBABLE = (\"ADJ\", \"ADV\", \"VERB\", \"ADP\", \"CONJ\")\n",
    "\n",
    "# def sem_pert(word, N):\n",
    "#   translated_word = translator.translate(word, dest='zh-cn')\n",
    "#   translated_word = translated_word.text\n",
    "#   for i in range(0, N):\n",
    "#     query_result = hownet_dict_advanced.get_nearest_words_via_sememes(translated_word,15)\n",
    "#     if not query_result:\n",
    "#       return None\n",
    "#     translated_word = random.choice((random.choice(query_result))['synset'])['word']\n",
    "#   replacement_word = translator.translate(translated_word, dest='en')\n",
    "#   if replacement_word == translated_word:\n",
    "#     return None\n",
    "#   return replacement_word.text\n",
    "\n",
    "# hownet_dict_advanced = OpenHowNet.HowNetDict(use_sim=True)\n",
    "\n",
    "# def smartswap(summary):\n",
    "#   summary_ents = [ent for ent in summary.ents]\n",
    "#   if not summary_ents[1:]:\n",
    "#     return None, None\n",
    "  \n",
    "#   document = client.annotate(summary.text, output_format='json')\n",
    "#   triples = []\n",
    "#   for sentence in document['sentences']:\n",
    "#       for triple in sentence['openie']:\n",
    "#           triples.append({\n",
    "#             'subject': triple['subject'],\n",
    "#             'relation': triple['relation'],\n",
    "#               'object': triple['object']\n",
    "#           })\n",
    "  \n",
    "  \n",
    "#   if not triples:\n",
    "#     return None, None\n",
    "#   candidate_triples = []\n",
    "#   for triple in triples:\n",
    "#     subj = triple['subject']\n",
    "#     obj = triple['object']\n",
    "#     allow_triple = False\n",
    "#     for ent in summary_ents:\n",
    "#       if subj == ent.text or subj in ent.text or ent.text in subj:\n",
    "#         allow_triple = True\n",
    "#       if obj == ent.text or obj in ent.text or ent.text in obj:\n",
    "#         allow_triple = True\n",
    "#     if allow_triple == True:\n",
    "#       candidate_triples.append(triple)\n",
    "#   if not candidate_triples:\n",
    "#     return None, None\n",
    "#   triple_pert = random.choice(candidate_triples)\n",
    "#   triple_rel = spacy(triple_pert[\"relation\"])\n",
    "#   triple_rel = [token.text for token in triple_rel]\n",
    "  \n",
    "#   target_tokens = [token for token in summary if token.text in triple_rel and token.pos_ in PERTURBABLE]\n",
    "#   if not target_tokens:\n",
    "#     return None, None\n",
    "#   if len(target_tokens) > 4:\n",
    "#     target_tokens = random.sample(target_tokens, 4)\n",
    "#   indices = [token.i for token in target_tokens]\n",
    "#   replacements = []\n",
    "#   for word in target_tokens:\n",
    "#     new = sem_pert(word.text, random.randint(1, 4))\n",
    "#     if new[0].isupper:\n",
    "#       new = new[0].lower() + new[1:]\n",
    "#     replacements.append(spacy(new))\n",
    "#   summary_tokens = [token.text_with_ws for token in summary]\n",
    "#   for ix in range(0, len(indices)):\n",
    "#     summary_tokens[indices[ix]] = replacements[ix].text_with_ws + \" \"\n",
    "#   new_summary = \"\".join(summary_tokens)\n",
    "\n",
    "#   new_summary = spacy(new_summary)\n",
    "#   augmentation_span = []\n",
    "#   for ix in indices:\n",
    "#     augmentation_span.append((ix, ix))\n",
    "#   if summary.text == new_summary.text:\n",
    "#       return None, None\n",
    "#   else:\n",
    "#       return new_summary, augmentation_span\n",
    "\n",
    "\n",
    "def tree_traverse(tree):\n",
    "  used_names = []\n",
    "  used_names.append(tree[0].name().split(\".\")[0])\n",
    "  while tree[1:]:\n",
    "    tree = random.choice(tree[1:])\n",
    "    used_names.append(tree[0].name().split(\".\")[0])\n",
    "  return used_names\n",
    "\n",
    "def find_syn(word):\n",
    "  syns = wn.synsets(word)\n",
    "  if not syns:\n",
    "    return None\n",
    "  syn = random.choice(syns)\n",
    "  return syn\n",
    "\n",
    "def pos_to_wn(pos):\n",
    "  if pos == \"VERB\":\n",
    "    return wn.VERB\n",
    "  if pos == \"ADV\":\n",
    "    return wn.ADV\n",
    "  if pos == \"ADJ\":\n",
    "    return wn.ADJ\n",
    "  \n",
    "\n",
    "\n",
    "def rand(a, b):\n",
    "  if not a:\n",
    "    return b\n",
    "  elif not b:\n",
    "    return a\n",
    "  else:\n",
    "    r = random.random()\n",
    "    if r < 0.5:\n",
    "      return a\n",
    "    else:\n",
    "      return b\n",
    "\n",
    "\n",
    "def tree_pert(word, POS):\n",
    "  synonyms = []\n",
    "  antonyms = []\n",
    "\n",
    "  ssets = wn.synsets(word, pos=pos_to_wn(POS))\n",
    "  if not ssets:\n",
    "    ssets = wn.synsets(word)\n",
    "    \n",
    "  for syn in ssets:\n",
    "      for l in syn.lemmas():\n",
    "          synonyms.append(l.name())\n",
    "          if l.antonyms():\n",
    "              antonyms.append(l.antonyms()[0].name())\n",
    "  if not synonyms and not antonyms:\n",
    "    return None\n",
    "  pert_base = rand(synonyms, antonyms)\n",
    "  pert_set = []\n",
    "  for el in pert_base:\n",
    "    if el != word:\n",
    "      pert_set.append(el)\n",
    "  for wrd in pert_base:\n",
    "    N = random.randint(1, 50)\n",
    "    for iter in range(0, N):\n",
    "      syn = find_syn(wrd)\n",
    "      if not syn:\n",
    "        break\n",
    "      tree = wn.synset(syn.name()).mst(lambda s:s.hyponyms())\n",
    "      choices = tree_traverse(tree)\n",
    "      wrd = random.choice(choices)\n",
    "      pert_set.append(wrd)\n",
    "\n",
    "  pert_set = list(set(pert_set))\n",
    "  new = random.choice(pert_set)\n",
    "  return new\n",
    "\n",
    "\n",
    "def generate_new(word, POS):\n",
    "  new = tree_pert(word, POS)\n",
    "  i = 0\n",
    "  while new == word and i < 20:\n",
    "    new = tree_pert(word, POS)\n",
    "    i+=1\n",
    "  if not new:\n",
    "    return None\n",
    "  new = new.split(\"_\")\n",
    "  new_word = \"\"\n",
    "  for i in range(0, len(new)):\n",
    "    if i < len(new) - 1:\n",
    "      new_word+=(new[i] + \" \")\n",
    "    else:\n",
    "      new_word+=new[i]\n",
    "  return new_word\n",
    "\n",
    "\n",
    "PERTURBABLE = (\"ADJ\", \"ADV\", \"VERB\")\n",
    "\n",
    "\n",
    "\n",
    "def smartswap(summary):  \n",
    "  document = client.annotate(summary.text, output_format='json')\n",
    "  triples = []\n",
    "  for sentence in document['sentences']:\n",
    "      for triple in sentence['openie']:\n",
    "          triples.append({\n",
    "            'subject': triple['subject'],\n",
    "            'relation': triple['relation'],\n",
    "              'object': triple['object']\n",
    "          })\n",
    "  if not triples:\n",
    "    return None, None\n",
    "  candidate_triples = triples\n",
    "  triple_pert = random.choice(candidate_triples)\n",
    "  triple_rel = spacy(triple_pert[\"relation\"] + \" \" + triple_pert[\"object\"])\n",
    "  triple_rel = [token.text for token in triple_rel]\n",
    "  target_tokens = [token for token in summary if token.text in triple_rel and token.pos_ in PERTURBABLE and token.text!=\"-\"]\n",
    "  timer = 0\n",
    "  while not target_tokens and timer < 20:\n",
    "    triple_pert = random.choice(candidate_triples)\n",
    "    triple_rel = spacy(triple_pert[\"relation\"] + \" \" + triple_pert[\"object\"])\n",
    "    triple_rel = [token.text for token in triple_rel]\n",
    "    target_tokens = [token for token in summary if token.text in triple_rel and token.pos_ in PERTURBABLE]\n",
    "    timer+=1\n",
    "\n",
    "  if not target_tokens:\n",
    "    return None, None\n",
    "  if len(target_tokens) > 4:\n",
    "    target_tokens = random.sample(target_tokens, 4)\n",
    "  \n",
    "  indices = [token.i for token in target_tokens]\n",
    "  replacements = []\n",
    "  span_len = []\n",
    "  for word in target_tokens:\n",
    "    new = generate_new(word.text, word.pos_)\n",
    "    if not new:\n",
    "      new = word.text\n",
    "    if new[0].isupper:\n",
    "      new = new[0].lower() + new[1:]\n",
    "    replacements.append(spacy(new))\n",
    "    span_len.append(new.count(\" \") + 1)\n",
    "  summary_tokens = [token.text_with_ws for token in summary]\n",
    "  for ix in range(0, len(indices)):\n",
    "    summary_tokens[indices[ix]] = replacements[ix].text_with_ws + \" \"\n",
    "  new_summary = \"\".join(summary_tokens)\n",
    "\n",
    "  new_summary = spacy(new_summary)\n",
    "  augmentation_span = []\n",
    "  for ix in range(0, len(indices)):\n",
    "    augmentation_span.append((indices[ix], indices[ix] + span_len[ix] - 1))\n",
    "\n",
    "  new_summary_tokens = [token.text_with_ws for token in new_summary]\n",
    "\n",
    "  for ix in range(0, len(indices)):\n",
    "    if summary[indices[ix]].pos_ == \"VERB\":\n",
    "      nlp_sum = nlp(summary.text)\n",
    "      nlp_new = nlp(new_summary.text)\n",
    "      if new_summary[indices[ix]].pos_ == \"VERB\":\n",
    "        adj = nlp_new[indices[ix]]._.inflect(nlp_sum[indices[ix]].tag_)\n",
    "        if adj:\n",
    "          new_summary_tokens[indices[ix]] = adj + \" \"\n",
    "\n",
    "  new_summary = \"\".join(new_summary_tokens)\n",
    "\n",
    "  new_summary = spacy(new_summary)\n",
    "\n",
    "  \n",
    "  if summary.text == new_summary.text:\n",
    "      return None, None\n",
    "  else:\n",
    "      return new_summary, augmentation_span\n",
    "\n",
    "\n",
    "def predicateswap(summary):\n",
    "  summary_preds = [token for token in summary if token.pos_ == \"VERB\" or token.pos_ == \"ADV\" or token.pos_ == \"ADJ\" and token.text!=\"-\"]\n",
    "  if not summary_preds:\n",
    "      return None, None\n",
    "  original = random.choice(summary_preds)\n",
    "  ix = original.i\n",
    "  new = generate_new(original.text, original.pos_)\n",
    "  if not new:\n",
    "    return None, None\n",
    "  span_len = new.count(\" \") + 1\n",
    "\n",
    "  summary_tokens = [token.text_with_ws for token in summary]\n",
    "  summary_tokens[ix] = new\n",
    "  if ix < len(summary_tokens) - 1 and summary_tokens[ix+1] != \"-\":\n",
    "    summary_tokens[ix] += \" \"\n",
    "  new_summary = \"\".join(summary_tokens)\n",
    "  new_summary = spacy(new_summary)\n",
    "  augmentation_span = [(ix, ix + span_len - 1)]\n",
    "\n",
    "\n",
    "  new_summary_tokens = [token.text_with_ws for token in new_summary]\n",
    "#   print(new_summary.text)\n",
    "  \n",
    "  if summary[ix].pos_ == \"VERB\":\n",
    "    nlp_sum = nlp(summary.text)\n",
    "    nlp_new = nlp(new_summary.text)\n",
    "    if new_summary[ix].pos_ == \"VERB\":\n",
    "      adj = nlp_new[ix]._.inflect(nlp_sum[ix].tag_)\n",
    "      if adj:\n",
    "        new_summary_tokens[ix] = adj + \" \"\n",
    "\n",
    "  new_summary = \"\".join(new_summary_tokens)\n",
    "\n",
    "  new_summary = spacy(new_summary)\n",
    "\n",
    "  if new_summary.text == summary.text:\n",
    "    return None, None\n",
    "  else:\n",
    "    return new_summary, augmentation_span\n",
    "\n"
   ]
  },
  {
   "cell_type": "code",
   "execution_count": 3,
   "metadata": {},
   "outputs": [],
   "source": [
    "from datasets import load_dataset\n",
    "from datasets import load_from_disk\n",
    "# ids_to_keep = np.load('ids_to_keep.npy')\n",
    "xsum_filtered_train = load_from_disk('data/xsum_filtered/train')\n",
    "xsum_filtered_train._data = xsum_filtered_train._data.filter(xsum_filtered_train['keep'])"
   ]
  },
  {
   "cell_type": "code",
   "execution_count": 18,
   "metadata": {},
   "outputs": [],
   "source": [
    "debug=False\n",
    "if debug:\n",
    "    client = CoreNLPClient(timeout=150000000, be_quiet=True, annotators=['openie'], \n",
    "    endpoint='http://localhost:9002')\n",
    "    client.start()\n",
    "    print(smartswap(spacy(xsum_filtered_train['summary'][0])))\n",
    "    client.stop()"
   ]
  },
  {
   "cell_type": "code",
   "execution_count": 19,
   "metadata": {},
   "outputs": [],
   "source": [
    "# xsum_df = pd.DataFrame(xsum_corrupted_train)\n",
    "# !pip install install-jdk -t."
   ]
  },
  {
   "cell_type": "code",
   "execution_count": 20,
   "metadata": {},
   "outputs": [
    {
     "name": "stderr",
     "output_type": "stream",
     "text": [
      "2021-12-07 02:34:48 INFO: Writing properties to tmp file: corenlp_server-efa83ce6eef44382.props\n",
      "2021-12-07 02:34:48 INFO: Starting server with command: java -Xmx5G -cp ./corenlp/* edu.stanford.nlp.pipeline.StanfordCoreNLPServer -port 9002 -timeout 150000000 -threads 5 -maxCharLength 100000 -quiet True -serverProperties corenlp_server-efa83ce6eef44382.props -annotators openie -preload -outputFormat serialized\n"
     ]
    }
   ],
   "source": [
    "#RUN THIS CELL TO START THE CORENLP TAGGER\n",
    "client = CoreNLPClient(timeout=150000000, be_quiet=True, annotators=['openie'], \n",
    "endpoint='http://localhost:9002')\n",
    "client.start()"
   ]
  },
  {
   "cell_type": "code",
   "execution_count": 7,
   "metadata": {},
   "outputs": [],
   "source": [
    "# !apt update\n",
    "# !apt install default-jre\n",
    "# conda install -c anaconda openjdk"
   ]
  },
  {
   "cell_type": "code",
   "execution_count": 21,
   "metadata": {},
   "outputs": [],
   "source": [
    "import tqdm\n",
    "xsum_corrupted_train = xsum_filtered_train\n",
    "# corrupted_summaries = xsum_corrupted_train['summary']\n",
    "already_done_tracker = []\n",
    "corrupted_summaries = {}"
   ]
  },
  {
   "cell_type": "code",
   "execution_count": 26,
   "metadata": {},
   "outputs": [
    {
     "name": "stderr",
     "output_type": "stream",
     "text": [
      "2021-12-07 05:50:43 INFO: Writing properties to tmp file: corenlp_server-3eba7db2a7ec4ff0.props\n",
      "2021-12-07 05:50:43 INFO: Starting server with command: java -Xmx5G -cp ./corenlp/* edu.stanford.nlp.pipeline.StanfordCoreNLPServer -port 9003 -timeout 150000000 -threads 5 -maxCharLength 100000 -quiet True -serverProperties corenlp_server-3eba7db2a7ec4ff0.props -annotators openie -preload -outputFormat serialized\n"
     ]
    },
    {
     "name": "stdout",
     "output_type": "stream",
     "text": [
      "loaded previous file\n",
      "Corruption: predicate\n"
     ]
    },
    {
     "name": "stderr",
     "output_type": "stream",
     "text": [
      "  2%|▏         | 298/13575 [00:16<08:34, 25.80it/s]"
     ]
    },
    {
     "name": "stdout",
     "output_type": "stream",
     "text": [
      "predicate, save_index: 100 - SAVED!\n",
      "8601\n"
     ]
    },
    {
     "name": "stderr",
     "output_type": "stream",
     "text": [
      "  4%|▍         | 600/13575 [00:30<07:48, 27.69it/s]"
     ]
    },
    {
     "name": "stdout",
     "output_type": "stream",
     "text": [
      "predicate, save_index: 200 - SAVED!\n",
      "8660\n"
     ]
    },
    {
     "name": "stderr",
     "output_type": "stream",
     "text": [
      "  7%|▋         | 925/13575 [00:46<05:21, 39.38it/s]"
     ]
    },
    {
     "name": "stdout",
     "output_type": "stream",
     "text": [
      "predicate, save_index: 300 - SAVED!\n",
      "8719\n"
     ]
    },
    {
     "name": "stderr",
     "output_type": "stream",
     "text": [
      "  9%|▉         | 1230/13575 [01:05<08:34, 23.99it/s]"
     ]
    },
    {
     "name": "stdout",
     "output_type": "stream",
     "text": [
      "predicate, save_index: 400 - SAVED!\n",
      "8784\n"
     ]
    },
    {
     "name": "stderr",
     "output_type": "stream",
     "text": [
      " 11%|█▏        | 1528/13575 [01:30<15:55, 12.60it/s]"
     ]
    },
    {
     "name": "stdout",
     "output_type": "stream",
     "text": [
      "predicate, save_index: 500 - SAVED!\n",
      "8845\n"
     ]
    },
    {
     "name": "stderr",
     "output_type": "stream",
     "text": [
      " 14%|█▎        | 1836/13575 [01:54<19:39,  9.96it/s]"
     ]
    },
    {
     "name": "stdout",
     "output_type": "stream",
     "text": [
      "predicate, save_index: 600 - SAVED!\n",
      "8906\n"
     ]
    },
    {
     "name": "stderr",
     "output_type": "stream",
     "text": [
      " 16%|█▌        | 2180/13575 [02:19<11:27, 16.58it/s]"
     ]
    },
    {
     "name": "stdout",
     "output_type": "stream",
     "text": [
      "predicate, save_index: 700 - SAVED!\n",
      "8959\n"
     ]
    },
    {
     "name": "stderr",
     "output_type": "stream",
     "text": [
      " 18%|█▊        | 2467/13575 [02:42<17:54, 10.34it/s]"
     ]
    },
    {
     "name": "stdout",
     "output_type": "stream",
     "text": [
      "predicate, save_index: 800 - SAVED!\n",
      "9023\n"
     ]
    },
    {
     "name": "stderr",
     "output_type": "stream",
     "text": [
      " 21%|██        | 2784/13575 [03:08<09:33, 18.82it/s]"
     ]
    },
    {
     "name": "stdout",
     "output_type": "stream",
     "text": [
      "predicate, save_index: 900 - SAVED!\n",
      "9076\n"
     ]
    },
    {
     "name": "stderr",
     "output_type": "stream",
     "text": [
      " 23%|██▎       | 3069/13575 [03:27<06:47, 25.80it/s]"
     ]
    },
    {
     "name": "stdout",
     "output_type": "stream",
     "text": [
      "predicate, save_index: 1000 - SAVED!\n",
      "9139\n"
     ]
    },
    {
     "name": "stderr",
     "output_type": "stream",
     "text": [
      " 25%|██▌       | 3405/13575 [03:43<08:58, 18.90it/s]"
     ]
    },
    {
     "name": "stdout",
     "output_type": "stream",
     "text": [
      "predicate, save_index: 1100 - SAVED!\n",
      "9206\n"
     ]
    },
    {
     "name": "stderr",
     "output_type": "stream",
     "text": [
      " 27%|██▋       | 3707/13575 [03:57<05:27, 30.09it/s]"
     ]
    },
    {
     "name": "stdout",
     "output_type": "stream",
     "text": [
      "predicate, save_index: 1200 - SAVED!\n",
      "9263\n"
     ]
    },
    {
     "name": "stderr",
     "output_type": "stream",
     "text": [
      " 29%|██▉       | 4003/13575 [04:13<08:05, 19.74it/s]"
     ]
    },
    {
     "name": "stdout",
     "output_type": "stream",
     "text": [
      "predicate, save_index: 1300 - SAVED!\n",
      "9327\n"
     ]
    },
    {
     "name": "stderr",
     "output_type": "stream",
     "text": [
      " 32%|███▏      | 4337/13575 [04:28<12:57, 11.88it/s]"
     ]
    },
    {
     "name": "stdout",
     "output_type": "stream",
     "text": [
      "predicate, save_index: 1400 - SAVED!\n",
      "9384\n"
     ]
    },
    {
     "name": "stderr",
     "output_type": "stream",
     "text": [
      " 34%|███▍      | 4658/13575 [04:43<11:42, 12.69it/s]"
     ]
    },
    {
     "name": "stdout",
     "output_type": "stream",
     "text": [
      "predicate, save_index: 1500 - SAVED!\n",
      "9443\n"
     ]
    },
    {
     "name": "stderr",
     "output_type": "stream",
     "text": [
      " 37%|███▋      | 4963/13575 [04:58<08:58, 16.00it/s]"
     ]
    },
    {
     "name": "stdout",
     "output_type": "stream",
     "text": [
      "predicate, save_index: 1600 - SAVED!\n",
      "9504\n"
     ]
    },
    {
     "name": "stderr",
     "output_type": "stream",
     "text": [
      " 39%|███▉      | 5273/13575 [05:13<05:12, 26.55it/s]"
     ]
    },
    {
     "name": "stdout",
     "output_type": "stream",
     "text": [
      "predicate, save_index: 1700 - SAVED!\n",
      "9567\n"
     ]
    },
    {
     "name": "stderr",
     "output_type": "stream",
     "text": [
      " 41%|████      | 5589/13575 [05:28<05:36, 23.72it/s]"
     ]
    },
    {
     "name": "stdout",
     "output_type": "stream",
     "text": [
      "predicate, save_index: 1800 - SAVED!\n",
      "9628\n"
     ]
    },
    {
     "name": "stderr",
     "output_type": "stream",
     "text": [
      " 44%|████▎     | 5908/13575 [05:43<08:12, 15.57it/s]"
     ]
    },
    {
     "name": "stdout",
     "output_type": "stream",
     "text": [
      "predicate, save_index: 1900 - SAVED!\n",
      "9684\n"
     ]
    },
    {
     "name": "stderr",
     "output_type": "stream",
     "text": [
      " 46%|████▌     | 6240/13575 [05:58<04:57, 24.62it/s]"
     ]
    },
    {
     "name": "stdout",
     "output_type": "stream",
     "text": [
      "predicate, save_index: 2000 - SAVED!\n",
      "9741\n"
     ]
    },
    {
     "name": "stderr",
     "output_type": "stream",
     "text": [
      " 48%|████▊     | 6529/13575 [06:13<05:46, 20.36it/s]"
     ]
    },
    {
     "name": "stdout",
     "output_type": "stream",
     "text": [
      "predicate, save_index: 2100 - SAVED!\n",
      "9804\n"
     ]
    },
    {
     "name": "stderr",
     "output_type": "stream",
     "text": [
      " 51%|█████     | 6913/13575 [06:28<04:34, 24.27it/s]"
     ]
    },
    {
     "name": "stdout",
     "output_type": "stream",
     "text": [
      "predicate, save_index: 2200 - SAVED!\n",
      "9865\n"
     ]
    },
    {
     "name": "stderr",
     "output_type": "stream",
     "text": [
      " 53%|█████▎    | 7214/13575 [06:43<05:18, 19.97it/s]"
     ]
    },
    {
     "name": "stdout",
     "output_type": "stream",
     "text": [
      "predicate, save_index: 2300 - SAVED!\n",
      "9921\n"
     ]
    },
    {
     "name": "stderr",
     "output_type": "stream",
     "text": [
      " 56%|█████▌    | 7539/13575 [06:58<02:51, 35.18it/s]"
     ]
    },
    {
     "name": "stdout",
     "output_type": "stream",
     "text": [
      "predicate, save_index: 2400 - SAVED!\n",
      "9976\n"
     ]
    },
    {
     "name": "stderr",
     "output_type": "stream",
     "text": [
      " 58%|█████▊    | 7849/13575 [07:13<06:07, 15.60it/s]"
     ]
    },
    {
     "name": "stdout",
     "output_type": "stream",
     "text": [
      "predicate, save_index: 2500 - SAVED!\n",
      "10047\n"
     ]
    },
    {
     "name": "stderr",
     "output_type": "stream",
     "text": [
      " 60%|██████    | 8176/13575 [07:28<04:18, 20.86it/s]"
     ]
    },
    {
     "name": "stdout",
     "output_type": "stream",
     "text": [
      "predicate, save_index: 2600 - SAVED!\n",
      "10105\n"
     ]
    },
    {
     "name": "stderr",
     "output_type": "stream",
     "text": [
      " 62%|██████▏   | 8455/13575 [07:43<04:43, 18.09it/s]"
     ]
    },
    {
     "name": "stdout",
     "output_type": "stream",
     "text": [
      "predicate, save_index: 2700 - SAVED!\n",
      "10156\n"
     ]
    },
    {
     "name": "stderr",
     "output_type": "stream",
     "text": [
      " 65%|██████▌   | 8830/13575 [07:58<04:17, 18.42it/s]"
     ]
    },
    {
     "name": "stdout",
     "output_type": "stream",
     "text": [
      "predicate, save_index: 2800 - SAVED!\n",
      "10226\n"
     ]
    },
    {
     "name": "stderr",
     "output_type": "stream",
     "text": [
      " 67%|██████▋   | 9098/13575 [08:14<04:54, 15.22it/s]"
     ]
    },
    {
     "name": "stdout",
     "output_type": "stream",
     "text": [
      "predicate, save_index: 2900 - SAVED!\n",
      "10286\n"
     ]
    },
    {
     "name": "stderr",
     "output_type": "stream",
     "text": [
      " 69%|██████▉   | 9361/13575 [08:29<06:24, 10.97it/s]"
     ]
    },
    {
     "name": "stdout",
     "output_type": "stream",
     "text": [
      "predicate, save_index: 3000 - SAVED!\n",
      "10352\n"
     ]
    },
    {
     "name": "stderr",
     "output_type": "stream",
     "text": [
      " 71%|███████   | 9650/13575 [08:43<04:21, 15.01it/s]"
     ]
    },
    {
     "name": "stdout",
     "output_type": "stream",
     "text": [
      "predicate, save_index: 3100 - SAVED!\n",
      "10411\n"
     ]
    },
    {
     "name": "stderr",
     "output_type": "stream",
     "text": [
      " 73%|███████▎  | 9974/13575 [08:58<02:45, 21.77it/s]"
     ]
    },
    {
     "name": "stdout",
     "output_type": "stream",
     "text": [
      "predicate, save_index: 3200 - SAVED!\n",
      "10475\n"
     ]
    },
    {
     "name": "stderr",
     "output_type": "stream",
     "text": [
      " 76%|███████▌  | 10276/13575 [09:12<02:39, 20.73it/s]"
     ]
    },
    {
     "name": "stdout",
     "output_type": "stream",
     "text": [
      "predicate, save_index: 3300 - SAVED!\n",
      "10538\n"
     ]
    },
    {
     "name": "stderr",
     "output_type": "stream",
     "text": [
      " 78%|███████▊  | 10566/13575 [09:27<01:38, 30.40it/s]"
     ]
    },
    {
     "name": "stdout",
     "output_type": "stream",
     "text": [
      "predicate, save_index: 3400 - SAVED!\n",
      "10600\n"
     ]
    },
    {
     "name": "stderr",
     "output_type": "stream",
     "text": [
      " 80%|████████  | 10902/13575 [09:42<01:16, 34.98it/s]"
     ]
    },
    {
     "name": "stdout",
     "output_type": "stream",
     "text": [
      "predicate, save_index: 3500 - SAVED!\n",
      "10660\n"
     ]
    },
    {
     "name": "stderr",
     "output_type": "stream",
     "text": [
      " 83%|████████▎ | 11213/13575 [09:58<01:19, 29.72it/s]"
     ]
    },
    {
     "name": "stdout",
     "output_type": "stream",
     "text": [
      "predicate, save_index: 3600 - SAVED!\n",
      "10724\n"
     ]
    },
    {
     "name": "stderr",
     "output_type": "stream",
     "text": [
      " 85%|████████▍ | 11533/13575 [10:12<01:37, 21.00it/s]"
     ]
    },
    {
     "name": "stdout",
     "output_type": "stream",
     "text": [
      "predicate, save_index: 3700 - SAVED!\n",
      "10783\n"
     ]
    },
    {
     "name": "stderr",
     "output_type": "stream",
     "text": [
      " 87%|████████▋ | 11827/13575 [10:27<01:33, 18.69it/s]"
     ]
    },
    {
     "name": "stdout",
     "output_type": "stream",
     "text": [
      "predicate, save_index: 3800 - SAVED!\n",
      "10848\n"
     ]
    },
    {
     "name": "stderr",
     "output_type": "stream",
     "text": [
      " 89%|████████▉ | 12116/13575 [10:43<01:22, 17.69it/s]"
     ]
    },
    {
     "name": "stdout",
     "output_type": "stream",
     "text": [
      "predicate, save_index: 3900 - SAVED!\n",
      "10901\n"
     ]
    },
    {
     "name": "stderr",
     "output_type": "stream",
     "text": [
      " 92%|█████████▏| 12449/13575 [10:58<00:48, 23.14it/s]"
     ]
    },
    {
     "name": "stdout",
     "output_type": "stream",
     "text": [
      "predicate, save_index: 4000 - SAVED!\n",
      "10962\n"
     ]
    },
    {
     "name": "stderr",
     "output_type": "stream",
     "text": [
      " 94%|█████████▍| 12738/13575 [11:12<00:50, 16.63it/s]"
     ]
    },
    {
     "name": "stdout",
     "output_type": "stream",
     "text": [
      "predicate, save_index: 4100 - SAVED!\n",
      "11013\n"
     ]
    },
    {
     "name": "stderr",
     "output_type": "stream",
     "text": [
      " 96%|█████████▌| 13006/13575 [11:28<00:37, 15.29it/s]"
     ]
    },
    {
     "name": "stdout",
     "output_type": "stream",
     "text": [
      "predicate, save_index: 4200 - SAVED!\n",
      "11077\n"
     ]
    },
    {
     "name": "stderr",
     "output_type": "stream",
     "text": [
      " 98%|█████████▊| 13328/13575 [11:43<00:07, 30.96it/s]"
     ]
    },
    {
     "name": "stdout",
     "output_type": "stream",
     "text": [
      "predicate, save_index: 4300 - SAVED!\n",
      "11144\n"
     ]
    },
    {
     "name": "stderr",
     "output_type": "stream",
     "text": [
      "100%|█████████▉| 13552/13575 [11:59<00:03,  7.59it/s]"
     ]
    },
    {
     "name": "stdout",
     "output_type": "stream",
     "text": [
      "predicate, save_index: 4400 - SAVED!\n",
      "11199\n"
     ]
    },
    {
     "name": "stderr",
     "output_type": "stream",
     "text": [
      "100%|██████████| 13575/13575 [12:02<00:00, 18.80it/s]\n"
     ]
    },
    {
     "name": "stdout",
     "output_type": "stream",
     "text": [
      "Corruption done and saved to: data/corruption_dict/predicate.pkl\n",
      "Total corruption_count = 2676\n",
      "loaded previous file\n",
      "Corruption: smart\n"
     ]
    },
    {
     "name": "stderr",
     "output_type": "stream",
     "text": [
      "  1%|▏         | 196/13575 [00:29<16:40, 13.37it/s] "
     ]
    },
    {
     "name": "stdout",
     "output_type": "stream",
     "text": [
      "smart, save_index: 100 - SAVED!\n",
      "6675\n"
     ]
    },
    {
     "name": "stderr",
     "output_type": "stream",
     "text": [
      "  3%|▎         | 401/13575 [00:49<19:15, 11.40it/s]"
     ]
    },
    {
     "name": "stdout",
     "output_type": "stream",
     "text": [
      "smart, save_index: 200 - SAVED!\n",
      "6710\n"
     ]
    },
    {
     "name": "stderr",
     "output_type": "stream",
     "text": [
      "  5%|▍         | 614/13575 [01:10<16:30, 13.09it/s]"
     ]
    },
    {
     "name": "stdout",
     "output_type": "stream",
     "text": [
      "smart, save_index: 300 - SAVED!\n",
      "6747\n"
     ]
    },
    {
     "name": "stderr",
     "output_type": "stream",
     "text": [
      "  6%|▋         | 856/13575 [01:32<30:11,  7.02it/s]"
     ]
    },
    {
     "name": "stdout",
     "output_type": "stream",
     "text": [
      "smart, save_index: 400 - SAVED!\n",
      "6780\n"
     ]
    },
    {
     "name": "stderr",
     "output_type": "stream",
     "text": [
      "  8%|▊         | 1051/13575 [01:53<24:47,  8.42it/s]"
     ]
    },
    {
     "name": "stdout",
     "output_type": "stream",
     "text": [
      "smart, save_index: 500 - SAVED!\n",
      "6816\n"
     ]
    },
    {
     "name": "stderr",
     "output_type": "stream",
     "text": [
      "  9%|▉         | 1244/13575 [02:15<23:44,  8.66it/s]"
     ]
    },
    {
     "name": "stdout",
     "output_type": "stream",
     "text": [
      "smart, save_index: 600 - SAVED!\n",
      "6844\n"
     ]
    },
    {
     "name": "stderr",
     "output_type": "stream",
     "text": [
      " 11%|█         | 1457/13575 [02:36<24:16,  8.32it/s]"
     ]
    },
    {
     "name": "stdout",
     "output_type": "stream",
     "text": [
      "smart, save_index: 700 - SAVED!\n",
      "6873\n"
     ]
    },
    {
     "name": "stderr",
     "output_type": "stream",
     "text": [
      " 12%|█▏        | 1657/13575 [02:55<16:08, 12.31it/s]"
     ]
    },
    {
     "name": "stdout",
     "output_type": "stream",
     "text": [
      "smart, save_index: 800 - SAVED!\n",
      "6905\n"
     ]
    },
    {
     "name": "stderr",
     "output_type": "stream",
     "text": [
      " 14%|█▎        | 1857/13575 [03:15<26:58,  7.24it/s]"
     ]
    },
    {
     "name": "stdout",
     "output_type": "stream",
     "text": [
      "smart, save_index: 900 - SAVED!\n",
      "6939\n"
     ]
    },
    {
     "name": "stderr",
     "output_type": "stream",
     "text": [
      " 15%|█▌        | 2098/13575 [03:35<22:06,  8.65it/s]"
     ]
    },
    {
     "name": "stdout",
     "output_type": "stream",
     "text": [
      "smart, save_index: 1000 - SAVED!\n",
      "6969\n"
     ]
    },
    {
     "name": "stderr",
     "output_type": "stream",
     "text": [
      " 17%|█▋        | 2315/13575 [03:54<14:33, 12.89it/s]"
     ]
    },
    {
     "name": "stdout",
     "output_type": "stream",
     "text": [
      "smart, save_index: 1100 - SAVED!\n",
      "6996\n"
     ]
    },
    {
     "name": "stderr",
     "output_type": "stream",
     "text": [
      " 19%|█▊        | 2512/13575 [04:14<21:18,  8.65it/s]"
     ]
    },
    {
     "name": "stdout",
     "output_type": "stream",
     "text": [
      "smart, save_index: 1200 - SAVED!\n",
      "7031\n"
     ]
    },
    {
     "name": "stderr",
     "output_type": "stream",
     "text": [
      " 20%|██        | 2726/13575 [04:35<10:06, 17.88it/s]"
     ]
    },
    {
     "name": "stdout",
     "output_type": "stream",
     "text": [
      "smart, save_index: 1300 - SAVED!\n",
      "7056\n"
     ]
    },
    {
     "name": "stderr",
     "output_type": "stream",
     "text": [
      " 22%|██▏       | 2941/13575 [04:56<10:10, 17.41it/s]"
     ]
    },
    {
     "name": "stdout",
     "output_type": "stream",
     "text": [
      "smart, save_index: 1400 - SAVED!\n",
      "7093\n"
     ]
    },
    {
     "name": "stderr",
     "output_type": "stream",
     "text": [
      " 23%|██▎       | 3162/13575 [05:16<22:48,  7.61it/s]"
     ]
    },
    {
     "name": "stdout",
     "output_type": "stream",
     "text": [
      "smart, save_index: 1500 - SAVED!\n",
      "7127\n"
     ]
    },
    {
     "name": "stderr",
     "output_type": "stream",
     "text": [
      " 25%|██▌       | 3398/13575 [05:36<09:10, 18.49it/s]"
     ]
    },
    {
     "name": "stdout",
     "output_type": "stream",
     "text": [
      "smart, save_index: 1600 - SAVED!\n",
      "7167\n"
     ]
    },
    {
     "name": "stderr",
     "output_type": "stream",
     "text": [
      " 27%|██▋       | 3622/13575 [05:58<10:12, 16.26it/s]"
     ]
    },
    {
     "name": "stdout",
     "output_type": "stream",
     "text": [
      "smart, save_index: 1700 - SAVED!\n",
      "7197\n"
     ]
    },
    {
     "name": "stderr",
     "output_type": "stream",
     "text": [
      " 28%|██▊       | 3822/13575 [06:18<23:23,  6.95it/s]"
     ]
    },
    {
     "name": "stdout",
     "output_type": "stream",
     "text": [
      "smart, save_index: 1800 - SAVED!\n",
      "7230\n"
     ]
    },
    {
     "name": "stderr",
     "output_type": "stream",
     "text": [
      " 30%|██▉       | 4050/13575 [06:40<22:04,  7.19it/s]"
     ]
    },
    {
     "name": "stdout",
     "output_type": "stream",
     "text": [
      "smart, save_index: 1900 - SAVED!\n",
      "7259\n"
     ]
    },
    {
     "name": "stderr",
     "output_type": "stream",
     "text": [
      " 31%|███▏      | 4259/13575 [07:00<25:54,  5.99it/s]"
     ]
    },
    {
     "name": "stdout",
     "output_type": "stream",
     "text": [
      "smart, save_index: 2000 - SAVED!\n",
      "7296\n"
     ]
    },
    {
     "name": "stderr",
     "output_type": "stream",
     "text": [
      " 33%|███▎      | 4478/13575 [07:21<14:12, 10.68it/s]"
     ]
    },
    {
     "name": "stdout",
     "output_type": "stream",
     "text": [
      "smart, save_index: 2100 - SAVED!\n",
      "7324\n"
     ]
    },
    {
     "name": "stderr",
     "output_type": "stream",
     "text": [
      " 35%|███▍      | 4714/13575 [07:42<10:31, 14.02it/s]"
     ]
    },
    {
     "name": "stdout",
     "output_type": "stream",
     "text": [
      "smart, save_index: 2200 - SAVED!\n",
      "7359\n"
     ]
    },
    {
     "name": "stderr",
     "output_type": "stream",
     "text": [
      " 36%|███▋      | 4954/13575 [08:02<10:20, 13.89it/s]"
     ]
    },
    {
     "name": "stdout",
     "output_type": "stream",
     "text": [
      "smart, save_index: 2300 - SAVED!\n",
      "7399\n"
     ]
    },
    {
     "name": "stderr",
     "output_type": "stream",
     "text": [
      " 38%|███▊      | 5148/13575 [08:21<14:22,  9.77it/s]"
     ]
    },
    {
     "name": "stdout",
     "output_type": "stream",
     "text": [
      "smart, save_index: 2400 - SAVED!\n",
      "7434\n"
     ]
    },
    {
     "name": "stderr",
     "output_type": "stream",
     "text": [
      " 40%|███▉      | 5385/13575 [08:43<21:41,  6.29it/s]"
     ]
    },
    {
     "name": "stdout",
     "output_type": "stream",
     "text": [
      "smart, save_index: 2500 - SAVED!\n",
      "7469\n"
     ]
    },
    {
     "name": "stderr",
     "output_type": "stream",
     "text": [
      " 41%|████      | 5580/13575 [09:01<14:43,  9.05it/s]"
     ]
    },
    {
     "name": "stdout",
     "output_type": "stream",
     "text": [
      "smart, save_index: 2600 - SAVED!\n",
      "7507\n"
     ]
    },
    {
     "name": "stderr",
     "output_type": "stream",
     "text": [
      " 43%|████▎     | 5790/13575 [09:21<12:52, 10.08it/s]"
     ]
    },
    {
     "name": "stdout",
     "output_type": "stream",
     "text": [
      "smart, save_index: 2700 - SAVED!\n",
      "7540\n"
     ]
    },
    {
     "name": "stderr",
     "output_type": "stream",
     "text": [
      " 44%|████▍     | 6024/13575 [09:42<06:44, 18.66it/s]"
     ]
    },
    {
     "name": "stdout",
     "output_type": "stream",
     "text": [
      "smart, save_index: 2800 - SAVED!\n",
      "7575\n"
     ]
    },
    {
     "name": "stderr",
     "output_type": "stream",
     "text": [
      " 46%|████▌     | 6222/13575 [10:00<06:26, 19.05it/s]"
     ]
    },
    {
     "name": "stdout",
     "output_type": "stream",
     "text": [
      "smart, save_index: 2900 - SAVED!\n",
      "7602\n"
     ]
    },
    {
     "name": "stderr",
     "output_type": "stream",
     "text": [
      " 47%|████▋     | 6422/13575 [10:21<10:43, 11.12it/s]"
     ]
    },
    {
     "name": "stdout",
     "output_type": "stream",
     "text": [
      "smart, save_index: 3000 - SAVED!\n",
      "7637\n"
     ]
    },
    {
     "name": "stderr",
     "output_type": "stream",
     "text": [
      " 49%|████▉     | 6643/13575 [10:41<09:03, 12.76it/s]"
     ]
    },
    {
     "name": "stdout",
     "output_type": "stream",
     "text": [
      "smart, save_index: 3100 - SAVED!\n",
      "7667\n"
     ]
    },
    {
     "name": "stderr",
     "output_type": "stream",
     "text": [
      " 51%|█████     | 6859/13575 [11:01<13:11,  8.48it/s]"
     ]
    },
    {
     "name": "stdout",
     "output_type": "stream",
     "text": [
      "smart, save_index: 3200 - SAVED!\n",
      "7703\n"
     ]
    },
    {
     "name": "stderr",
     "output_type": "stream",
     "text": [
      " 52%|█████▏    | 7054/13575 [11:20<09:07, 11.91it/s]"
     ]
    },
    {
     "name": "stdout",
     "output_type": "stream",
     "text": [
      "smart, save_index: 3300 - SAVED!\n",
      "7736\n"
     ]
    },
    {
     "name": "stderr",
     "output_type": "stream",
     "text": [
      " 54%|█████▎    | 7270/13575 [11:41<08:11, 12.82it/s]"
     ]
    },
    {
     "name": "stdout",
     "output_type": "stream",
     "text": [
      "smart, save_index: 3400 - SAVED!\n",
      "7773\n"
     ]
    },
    {
     "name": "stderr",
     "output_type": "stream",
     "text": [
      " 55%|█████▌    | 7501/13575 [12:01<04:51, 20.85it/s]"
     ]
    },
    {
     "name": "stdout",
     "output_type": "stream",
     "text": [
      "smart, save_index: 3500 - SAVED!\n",
      "7810\n"
     ]
    },
    {
     "name": "stderr",
     "output_type": "stream",
     "text": [
      " 57%|█████▋    | 7704/13575 [12:23<13:21,  7.32it/s]"
     ]
    },
    {
     "name": "stdout",
     "output_type": "stream",
     "text": [
      "smart, save_index: 3600 - SAVED!\n",
      "7843\n"
     ]
    },
    {
     "name": "stderr",
     "output_type": "stream",
     "text": [
      " 58%|█████▊    | 7941/13575 [12:43<07:14, 12.96it/s]"
     ]
    },
    {
     "name": "stdout",
     "output_type": "stream",
     "text": [
      "smart, save_index: 3700 - SAVED!\n",
      "7878\n"
     ]
    },
    {
     "name": "stderr",
     "output_type": "stream",
     "text": [
      " 60%|█████▉    | 8142/13575 [13:03<13:53,  6.52it/s]"
     ]
    },
    {
     "name": "stdout",
     "output_type": "stream",
     "text": [
      "smart, save_index: 3800 - SAVED!\n",
      "7908\n"
     ]
    },
    {
     "name": "stderr",
     "output_type": "stream",
     "text": [
      " 62%|██████▏   | 8358/13575 [13:23<11:50,  7.34it/s]"
     ]
    },
    {
     "name": "stdout",
     "output_type": "stream",
     "text": [
      "smart, save_index: 3900 - SAVED!\n",
      "7935\n"
     ]
    },
    {
     "name": "stderr",
     "output_type": "stream",
     "text": [
      " 63%|██████▎   | 8576/13575 [13:43<05:45, 14.48it/s]"
     ]
    },
    {
     "name": "stdout",
     "output_type": "stream",
     "text": [
      "smart, save_index: 4000 - SAVED!\n",
      "7971\n"
     ]
    },
    {
     "name": "stderr",
     "output_type": "stream",
     "text": [
      " 65%|██████▍   | 8788/13575 [14:04<08:14,  9.68it/s]"
     ]
    },
    {
     "name": "stdout",
     "output_type": "stream",
     "text": [
      "smart, save_index: 4100 - SAVED!\n",
      "7998\n"
     ]
    },
    {
     "name": "stderr",
     "output_type": "stream",
     "text": [
      " 66%|██████▌   | 8992/13575 [14:23<06:34, 11.61it/s]"
     ]
    },
    {
     "name": "stdout",
     "output_type": "stream",
     "text": [
      "smart, save_index: 4200 - SAVED!\n",
      "8029\n"
     ]
    },
    {
     "name": "stderr",
     "output_type": "stream",
     "text": [
      " 68%|██████▊   | 9215/13575 [14:42<05:41, 12.78it/s]"
     ]
    },
    {
     "name": "stdout",
     "output_type": "stream",
     "text": [
      "smart, save_index: 4300 - SAVED!\n",
      "8052\n"
     ]
    },
    {
     "name": "stderr",
     "output_type": "stream",
     "text": [
      " 69%|██████▉   | 9398/13575 [15:02<06:38, 10.48it/s]"
     ]
    },
    {
     "name": "stdout",
     "output_type": "stream",
     "text": [
      "smart, save_index: 4400 - SAVED!\n",
      "8087\n"
     ]
    },
    {
     "name": "stderr",
     "output_type": "stream",
     "text": [
      " 71%|███████   | 9600/13575 [15:21<05:49, 11.39it/s]"
     ]
    },
    {
     "name": "stdout",
     "output_type": "stream",
     "text": [
      "smart, save_index: 4500 - SAVED!\n",
      "8118\n"
     ]
    },
    {
     "name": "stderr",
     "output_type": "stream",
     "text": [
      " 72%|███████▏  | 9808/13575 [15:42<12:10,  5.16it/s]"
     ]
    },
    {
     "name": "stdout",
     "output_type": "stream",
     "text": [
      "smart, save_index: 4600 - SAVED!\n",
      "8150\n"
     ]
    },
    {
     "name": "stderr",
     "output_type": "stream",
     "text": [
      " 74%|███████▍  | 10025/13575 [16:01<04:43, 12.52it/s]"
     ]
    },
    {
     "name": "stdout",
     "output_type": "stream",
     "text": [
      "smart, save_index: 4700 - SAVED!\n",
      "8189\n"
     ]
    },
    {
     "name": "stderr",
     "output_type": "stream",
     "text": [
      " 75%|███████▌  | 10231/13575 [16:20<09:39,  5.77it/s]"
     ]
    },
    {
     "name": "stdout",
     "output_type": "stream",
     "text": [
      "smart, save_index: 4800 - SAVED!\n",
      "8211\n"
     ]
    },
    {
     "name": "stderr",
     "output_type": "stream",
     "text": [
      " 77%|███████▋  | 10444/13575 [16:40<03:58, 13.10it/s]"
     ]
    },
    {
     "name": "stdout",
     "output_type": "stream",
     "text": [
      "smart, save_index: 4900 - SAVED!\n",
      "8245\n"
     ]
    },
    {
     "name": "stderr",
     "output_type": "stream",
     "text": [
      " 79%|███████▊  | 10677/13575 [17:01<07:24,  6.52it/s]"
     ]
    },
    {
     "name": "stdout",
     "output_type": "stream",
     "text": [
      "smart, save_index: 5000 - SAVED!\n",
      "8278\n"
     ]
    },
    {
     "name": "stderr",
     "output_type": "stream",
     "text": [
      " 80%|████████  | 10903/13575 [17:22<05:30,  8.09it/s]"
     ]
    },
    {
     "name": "stdout",
     "output_type": "stream",
     "text": [
      "smart, save_index: 5100 - SAVED!\n",
      "8320\n"
     ]
    },
    {
     "name": "stderr",
     "output_type": "stream",
     "text": [
      " 82%|████████▏ | 11101/13575 [17:43<09:23,  4.39it/s]"
     ]
    },
    {
     "name": "stdout",
     "output_type": "stream",
     "text": [
      "smart, save_index: 5200 - SAVED!\n",
      "8356\n"
     ]
    },
    {
     "name": "stderr",
     "output_type": "stream",
     "text": [
      " 83%|████████▎ | 11317/13575 [18:02<04:07,  9.14it/s]"
     ]
    },
    {
     "name": "stdout",
     "output_type": "stream",
     "text": [
      "smart, save_index: 5300 - SAVED!\n",
      "8385\n"
     ]
    },
    {
     "name": "stderr",
     "output_type": "stream",
     "text": [
      " 85%|████████▍ | 11510/13575 [18:21<03:59,  8.64it/s]"
     ]
    },
    {
     "name": "stdout",
     "output_type": "stream",
     "text": [
      "smart, save_index: 5400 - SAVED!\n",
      "8415\n"
     ]
    },
    {
     "name": "stderr",
     "output_type": "stream",
     "text": [
      " 86%|████████▋ | 11736/13575 [18:40<03:13,  9.48it/s]"
     ]
    },
    {
     "name": "stdout",
     "output_type": "stream",
     "text": [
      "smart, save_index: 5500 - SAVED!\n",
      "8446\n"
     ]
    },
    {
     "name": "stderr",
     "output_type": "stream",
     "text": [
      " 88%|████████▊ | 11932/13575 [18:59<02:17, 11.93it/s]"
     ]
    },
    {
     "name": "stdout",
     "output_type": "stream",
     "text": [
      "smart, save_index: 5600 - SAVED!\n",
      "8480\n"
     ]
    },
    {
     "name": "stderr",
     "output_type": "stream",
     "text": [
      " 89%|████████▉ | 12129/13575 [19:17<04:13,  5.71it/s]"
     ]
    },
    {
     "name": "stdout",
     "output_type": "stream",
     "text": [
      "smart, save_index: 5700 - SAVED!\n",
      "8509\n"
     ]
    },
    {
     "name": "stderr",
     "output_type": "stream",
     "text": [
      " 91%|█████████ | 12320/13575 [19:36<01:44, 12.06it/s]"
     ]
    },
    {
     "name": "stdout",
     "output_type": "stream",
     "text": [
      "smart, save_index: 5800 - SAVED!\n",
      "8542\n"
     ]
    },
    {
     "name": "stderr",
     "output_type": "stream",
     "text": [
      " 92%|█████████▏| 12529/13575 [19:57<01:21, 12.84it/s]"
     ]
    },
    {
     "name": "stdout",
     "output_type": "stream",
     "text": [
      "smart, save_index: 5900 - SAVED!\n",
      "8574\n"
     ]
    },
    {
     "name": "stderr",
     "output_type": "stream",
     "text": [
      " 94%|█████████▎| 12726/13575 [20:16<01:25,  9.90it/s]"
     ]
    },
    {
     "name": "stdout",
     "output_type": "stream",
     "text": [
      "smart, save_index: 6000 - SAVED!\n",
      "8603\n"
     ]
    },
    {
     "name": "stderr",
     "output_type": "stream",
     "text": [
      " 95%|█████████▌| 12943/13575 [20:36<01:24,  7.49it/s]"
     ]
    },
    {
     "name": "stdout",
     "output_type": "stream",
     "text": [
      "smart, save_index: 6100 - SAVED!\n",
      "8640\n"
     ]
    },
    {
     "name": "stderr",
     "output_type": "stream",
     "text": [
      " 97%|█████████▋| 13153/13575 [20:55<00:50,  8.37it/s]"
     ]
    },
    {
     "name": "stdout",
     "output_type": "stream",
     "text": [
      "smart, save_index: 6200 - SAVED!\n",
      "8675\n"
     ]
    },
    {
     "name": "stderr",
     "output_type": "stream",
     "text": [
      " 98%|█████████▊| 13337/13575 [21:15<00:48,  4.95it/s]"
     ]
    },
    {
     "name": "stdout",
     "output_type": "stream",
     "text": [
      "smart, save_index: 6300 - SAVED!\n",
      "8711\n"
     ]
    },
    {
     "name": "stderr",
     "output_type": "stream",
     "text": [
      "100%|█████████▉| 13521/13575 [21:35<00:08,  6.19it/s]"
     ]
    },
    {
     "name": "stdout",
     "output_type": "stream",
     "text": [
      "smart, save_index: 6400 - SAVED!\n",
      "8752\n"
     ]
    },
    {
     "name": "stderr",
     "output_type": "stream",
     "text": [
      "100%|██████████| 13575/13575 [21:46<00:00, 10.39it/s]\n"
     ]
    },
    {
     "name": "stdout",
     "output_type": "stream",
     "text": [
      "Corruption done and saved to: data/corruption_dict/smart.pkl\n",
      "Total corruption_count = 2132\n",
      "loaded previous file\n",
      "Corruption: s_o\n"
     ]
    },
    {
     "name": "stderr",
     "output_type": "stream",
     "text": [
      "  0%|          | 13/13575 [00:01<21:08, 10.69it/s]"
     ]
    },
    {
     "name": "stdout",
     "output_type": "stream",
     "text": [
      "[E040] Attempt to access token at 24, max length 24.\n"
     ]
    },
    {
     "name": "stderr",
     "output_type": "stream",
     "text": [
      "  1%|▏         | 176/13575 [00:12<15:17, 14.61it/s]"
     ]
    },
    {
     "name": "stdout",
     "output_type": "stream",
     "text": [
      "s_o, save_index: 100 - SAVED!\n",
      "5261\n"
     ]
    },
    {
     "name": "stderr",
     "output_type": "stream",
     "text": [
      "  2%|▏         | 281/13575 [00:21<22:03, 10.04it/s]"
     ]
    },
    {
     "name": "stdout",
     "output_type": "stream",
     "text": [
      "[E040] Attempt to access token at 16, max length 16.\n"
     ]
    },
    {
     "name": "stderr",
     "output_type": "stream",
     "text": [
      "  3%|▎         | 343/13575 [00:25<23:01,  9.58it/s]"
     ]
    },
    {
     "name": "stdout",
     "output_type": "stream",
     "text": [
      "s_o, save_index: 200 - SAVED!\n",
      "5291\n"
     ]
    },
    {
     "name": "stderr",
     "output_type": "stream",
     "text": [
      "  4%|▍         | 521/13575 [00:39<15:18, 14.21it/s]"
     ]
    },
    {
     "name": "stdout",
     "output_type": "stream",
     "text": [
      "s_o, save_index: 300 - SAVED!\n",
      "5306\n"
     ]
    },
    {
     "name": "stderr",
     "output_type": "stream",
     "text": [
      "  5%|▌         | 679/13575 [00:54<24:38,  8.72it/s]"
     ]
    },
    {
     "name": "stdout",
     "output_type": "stream",
     "text": [
      "s_o, save_index: 400 - SAVED!\n",
      "5330\n"
     ]
    },
    {
     "name": "stderr",
     "output_type": "stream",
     "text": [
      "  5%|▌         | 689/13575 [00:54<14:10, 15.15it/s]"
     ]
    },
    {
     "name": "stdout",
     "output_type": "stream",
     "text": [
      "[E040] Attempt to access token at 20, max length 20.\n"
     ]
    },
    {
     "name": "stderr",
     "output_type": "stream",
     "text": [
      "  5%|▌         | 701/13575 [00:56<20:28, 10.48it/s]"
     ]
    },
    {
     "name": "stdout",
     "output_type": "stream",
     "text": [
      "[E040] Attempt to access token at 18, max length 18.\n",
      "[E040] Attempt to access token at 16, max length 16.\n"
     ]
    },
    {
     "name": "stderr",
     "output_type": "stream",
     "text": [
      "  6%|▌         | 762/13575 [01:01<12:24, 17.22it/s]"
     ]
    },
    {
     "name": "stdout",
     "output_type": "stream",
     "text": [
      "[E040] Attempt to access token at 30, max length 30.\n"
     ]
    },
    {
     "name": "stderr",
     "output_type": "stream",
     "text": [
      "  6%|▌         | 837/13575 [01:07<18:14, 11.64it/s]"
     ]
    },
    {
     "name": "stdout",
     "output_type": "stream",
     "text": [
      "s_o, save_index: 500 - SAVED!\n",
      "5347\n"
     ]
    },
    {
     "name": "stderr",
     "output_type": "stream",
     "text": [
      "  7%|▋         | 996/13575 [01:21<16:26, 12.75it/s]"
     ]
    },
    {
     "name": "stdout",
     "output_type": "stream",
     "text": [
      "s_o, save_index: 600 - SAVED!\n",
      "5375\n"
     ]
    },
    {
     "name": "stderr",
     "output_type": "stream",
     "text": [
      "  7%|▋         | 1008/13575 [01:23<29:26,  7.12it/s]"
     ]
    },
    {
     "name": "stdout",
     "output_type": "stream",
     "text": [
      "[E040] Attempt to access token at 10, max length 10.\n"
     ]
    },
    {
     "name": "stderr",
     "output_type": "stream",
     "text": [
      "  8%|▊         | 1114/13575 [01:32<13:49, 15.02it/s]"
     ]
    },
    {
     "name": "stdout",
     "output_type": "stream",
     "text": [
      "[E040] Attempt to access token at 29, max length 29.\n"
     ]
    },
    {
     "name": "stderr",
     "output_type": "stream",
     "text": [
      "  9%|▊         | 1163/13575 [01:36<17:14, 12.00it/s]"
     ]
    },
    {
     "name": "stdout",
     "output_type": "stream",
     "text": [
      "s_o, save_index: 700 - SAVED!\n",
      "5402\n"
     ]
    },
    {
     "name": "stderr",
     "output_type": "stream",
     "text": [
      "  9%|▉         | 1236/13575 [01:43<10:26, 19.71it/s]"
     ]
    },
    {
     "name": "stdout",
     "output_type": "stream",
     "text": [
      "[E040] Attempt to access token at 15, max length 15.\n"
     ]
    },
    {
     "name": "stderr",
     "output_type": "stream",
     "text": [
      " 10%|▉         | 1325/13575 [01:50<19:59, 10.21it/s]"
     ]
    },
    {
     "name": "stdout",
     "output_type": "stream",
     "text": [
      "s_o, save_index: 800 - SAVED!\n",
      "5424\n"
     ]
    },
    {
     "name": "stderr",
     "output_type": "stream",
     "text": [
      " 11%|█         | 1498/13575 [02:04<18:56, 10.62it/s]"
     ]
    },
    {
     "name": "stdout",
     "output_type": "stream",
     "text": [
      "s_o, save_index: 900 - SAVED!\n",
      "5450\n"
     ]
    },
    {
     "name": "stderr",
     "output_type": "stream",
     "text": [
      " 12%|█▏        | 1658/13575 [02:20<18:38, 10.66it/s]"
     ]
    },
    {
     "name": "stdout",
     "output_type": "stream",
     "text": [
      "s_o, save_index: 1000 - SAVED!\n",
      "5476\n"
     ]
    },
    {
     "name": "stderr",
     "output_type": "stream",
     "text": [
      " 13%|█▎        | 1715/13575 [02:25<17:44, 11.14it/s]"
     ]
    },
    {
     "name": "stdout",
     "output_type": "stream",
     "text": [
      "[E040] Attempt to access token at 26, max length 26.\n"
     ]
    },
    {
     "name": "stderr",
     "output_type": "stream",
     "text": [
      " 13%|█▎        | 1830/13575 [02:34<18:44, 10.44it/s]"
     ]
    },
    {
     "name": "stdout",
     "output_type": "stream",
     "text": [
      "s_o, save_index: 1100 - SAVED!\n",
      "5506\n"
     ]
    },
    {
     "name": "stderr",
     "output_type": "stream",
     "text": [
      " 14%|█▎        | 1862/13575 [02:37<11:55, 16.37it/s]"
     ]
    },
    {
     "name": "stdout",
     "output_type": "stream",
     "text": [
      "[E040] Attempt to access token at 16, max length 16.\n"
     ]
    },
    {
     "name": "stderr",
     "output_type": "stream",
     "text": [
      " 14%|█▍        | 1869/13575 [02:37<12:19, 15.82it/s]"
     ]
    },
    {
     "name": "stdout",
     "output_type": "stream",
     "text": [
      "[E040] Attempt to access token at 47, max length 47.\n"
     ]
    },
    {
     "name": "stderr",
     "output_type": "stream",
     "text": [
      " 14%|█▍        | 1952/13575 [02:44<12:38, 15.32it/s]"
     ]
    },
    {
     "name": "stdout",
     "output_type": "stream",
     "text": [
      "[E040] Attempt to access token at 21, max length 21.\n"
     ]
    },
    {
     "name": "stderr",
     "output_type": "stream",
     "text": [
      " 15%|█▍        | 1998/13575 [02:48<14:23, 13.41it/s]"
     ]
    },
    {
     "name": "stdout",
     "output_type": "stream",
     "text": [
      "s_o, save_index: 1200 - SAVED!\n",
      "5525\n"
     ]
    },
    {
     "name": "stderr",
     "output_type": "stream",
     "text": [
      " 15%|█▍        | 2002/13575 [02:48<14:23, 13.40it/s]"
     ]
    },
    {
     "name": "stdout",
     "output_type": "stream",
     "text": [
      "[E040] Attempt to access token at 24, max length 24.\n"
     ]
    },
    {
     "name": "stderr",
     "output_type": "stream",
     "text": [
      " 16%|█▌        | 2171/13575 [03:03<14:13, 13.37it/s]"
     ]
    },
    {
     "name": "stdout",
     "output_type": "stream",
     "text": [
      "s_o, save_index: 1300 - SAVED!\n",
      "5555\n"
     ]
    },
    {
     "name": "stderr",
     "output_type": "stream",
     "text": [
      " 16%|█▌        | 2185/13575 [03:04<15:12, 12.48it/s]"
     ]
    },
    {
     "name": "stdout",
     "output_type": "stream",
     "text": [
      "[E040] Attempt to access token at 21, max length 21.\n"
     ]
    },
    {
     "name": "stderr",
     "output_type": "stream",
     "text": [
      " 16%|█▌        | 2201/13575 [03:05<18:09, 10.44it/s]"
     ]
    },
    {
     "name": "stdout",
     "output_type": "stream",
     "text": [
      "[E040] Attempt to access token at 16, max length 16.\n"
     ]
    },
    {
     "name": "stderr",
     "output_type": "stream",
     "text": [
      " 17%|█▋        | 2270/13575 [03:12<18:37, 10.11it/s]"
     ]
    },
    {
     "name": "stdout",
     "output_type": "stream",
     "text": [
      "[E040] Attempt to access token at 19, max length 19.\n"
     ]
    },
    {
     "name": "stderr",
     "output_type": "stream",
     "text": [
      " 17%|█▋        | 2283/13575 [03:13<15:56, 11.81it/s]"
     ]
    },
    {
     "name": "stdout",
     "output_type": "stream",
     "text": [
      "[E040] Attempt to access token at 18, max length 18.\n"
     ]
    },
    {
     "name": "stderr",
     "output_type": "stream",
     "text": [
      " 17%|█▋        | 2312/13575 [03:16<21:36,  8.69it/s]"
     ]
    },
    {
     "name": "stdout",
     "output_type": "stream",
     "text": [
      "[E040] Attempt to access token at 25, max length 25.\n"
     ]
    },
    {
     "name": "stderr",
     "output_type": "stream",
     "text": [
      " 17%|█▋        | 2323/13575 [03:17<14:49, 12.65it/s]"
     ]
    },
    {
     "name": "stdout",
     "output_type": "stream",
     "text": [
      "s_o, save_index: 1400 - SAVED!\n",
      "5576\n"
     ]
    },
    {
     "name": "stderr",
     "output_type": "stream",
     "text": [
      " 18%|█▊        | 2451/13575 [03:27<15:25, 12.02it/s]"
     ]
    },
    {
     "name": "stdout",
     "output_type": "stream",
     "text": [
      "[E040] Attempt to access token at 21, max length 21.\n"
     ]
    },
    {
     "name": "stderr",
     "output_type": "stream",
     "text": [
      " 19%|█▊        | 2514/13575 [03:31<12:16, 15.01it/s]"
     ]
    },
    {
     "name": "stdout",
     "output_type": "stream",
     "text": [
      "s_o, save_index: 1500 - SAVED!\n",
      "5599\n"
     ]
    },
    {
     "name": "stderr",
     "output_type": "stream",
     "text": [
      " 19%|█▉        | 2630/13575 [03:41<13:51, 13.16it/s]"
     ]
    },
    {
     "name": "stdout",
     "output_type": "stream",
     "text": [
      "[E040] Attempt to access token at 29, max length 29.\n"
     ]
    },
    {
     "name": "stderr",
     "output_type": "stream",
     "text": [
      " 20%|█▉        | 2690/13575 [03:46<22:18,  8.13it/s]"
     ]
    },
    {
     "name": "stdout",
     "output_type": "stream",
     "text": [
      "s_o, save_index: 1600 - SAVED!\n",
      "5617\n"
     ]
    },
    {
     "name": "stderr",
     "output_type": "stream",
     "text": [
      " 21%|██        | 2797/13575 [03:55<12:03, 14.89it/s]"
     ]
    },
    {
     "name": "stdout",
     "output_type": "stream",
     "text": [
      "[E040] Attempt to access token at 13, max length 13.\n"
     ]
    },
    {
     "name": "stderr",
     "output_type": "stream",
     "text": [
      " 21%|██        | 2820/13575 [03:57<21:51,  8.20it/s]"
     ]
    },
    {
     "name": "stdout",
     "output_type": "stream",
     "text": [
      "[E040] Attempt to access token at 45, max length 45.\n"
     ]
    },
    {
     "name": "stderr",
     "output_type": "stream",
     "text": [
      " 21%|██        | 2829/13575 [03:58<16:22, 10.93it/s]"
     ]
    },
    {
     "name": "stdout",
     "output_type": "stream",
     "text": [
      "[E040] Attempt to access token at 13, max length 13.\n"
     ]
    },
    {
     "name": "stderr",
     "output_type": "stream",
     "text": [
      " 21%|██        | 2846/13575 [04:01<24:49,  7.20it/s]"
     ]
    },
    {
     "name": "stdout",
     "output_type": "stream",
     "text": [
      "s_o, save_index: 1700 - SAVED!\n",
      "5641\n"
     ]
    },
    {
     "name": "stderr",
     "output_type": "stream",
     "text": [
      " 22%|██▏       | 2966/13575 [04:12<15:35, 11.35it/s]"
     ]
    },
    {
     "name": "stdout",
     "output_type": "stream",
     "text": [
      "[E040] Attempt to access token at 22, max length 22.\n"
     ]
    },
    {
     "name": "stderr",
     "output_type": "stream",
     "text": [
      " 22%|██▏       | 2981/13575 [04:13<10:38, 16.60it/s]"
     ]
    },
    {
     "name": "stdout",
     "output_type": "stream",
     "text": [
      "[E040] Attempt to access token at 15, max length 15.\n"
     ]
    },
    {
     "name": "stderr",
     "output_type": "stream",
     "text": [
      " 22%|██▏       | 3015/13575 [04:16<16:13, 10.85it/s]"
     ]
    },
    {
     "name": "stdout",
     "output_type": "stream",
     "text": [
      "s_o, save_index: 1800 - SAVED!\n",
      "5669\n"
     ]
    },
    {
     "name": "stderr",
     "output_type": "stream",
     "text": [
      " 23%|██▎       | 3181/13575 [04:31<21:32,  8.04it/s]"
     ]
    },
    {
     "name": "stdout",
     "output_type": "stream",
     "text": [
      "s_o, save_index: 1900 - SAVED!\n",
      "5699\n"
     ]
    },
    {
     "name": "stderr",
     "output_type": "stream",
     "text": [
      " 24%|██▎       | 3202/13575 [04:33<13:04, 13.22it/s]"
     ]
    },
    {
     "name": "stdout",
     "output_type": "stream",
     "text": [
      "[E040] Attempt to access token at 22, max length 22.\n"
     ]
    },
    {
     "name": "stderr",
     "output_type": "stream",
     "text": [
      " 25%|██▍       | 3360/13575 [04:46<14:22, 11.84it/s]"
     ]
    },
    {
     "name": "stdout",
     "output_type": "stream",
     "text": [
      "s_o, save_index: 2000 - SAVED!\n",
      "5724\n"
     ]
    },
    {
     "name": "stderr",
     "output_type": "stream",
     "text": [
      " 25%|██▌       | 3446/13575 [04:54<18:28,  9.13it/s]"
     ]
    },
    {
     "name": "stdout",
     "output_type": "stream",
     "text": [
      "[E040] Attempt to access token at 26, max length 26.\n"
     ]
    },
    {
     "name": "stderr",
     "output_type": "stream",
     "text": [
      " 26%|██▌       | 3527/13575 [05:02<17:12,  9.73it/s]"
     ]
    },
    {
     "name": "stdout",
     "output_type": "stream",
     "text": [
      "s_o, save_index: 2100 - SAVED!\n",
      "5751\n"
     ]
    },
    {
     "name": "stderr",
     "output_type": "stream",
     "text": [
      " 26%|██▌       | 3547/13575 [05:04<13:58, 11.96it/s]"
     ]
    },
    {
     "name": "stdout",
     "output_type": "stream",
     "text": [
      "[E040] Attempt to access token at 22, max length 22.\n"
     ]
    },
    {
     "name": "stderr",
     "output_type": "stream",
     "text": [
      " 26%|██▌       | 3553/13575 [05:04<14:57, 11.17it/s]"
     ]
    },
    {
     "name": "stdout",
     "output_type": "stream",
     "text": [
      "[E040] Attempt to access token at 15, max length 15.\n"
     ]
    },
    {
     "name": "stderr",
     "output_type": "stream",
     "text": [
      " 27%|██▋       | 3633/13575 [05:11<09:45, 16.99it/s]"
     ]
    },
    {
     "name": "stdout",
     "output_type": "stream",
     "text": [
      "[E040] Attempt to access token at 15, max length 15.\n"
     ]
    },
    {
     "name": "stderr",
     "output_type": "stream",
     "text": [
      " 27%|██▋       | 3697/13575 [05:17<25:24,  6.48it/s]"
     ]
    },
    {
     "name": "stdout",
     "output_type": "stream",
     "text": [
      "s_o, save_index: 2200 - SAVED!\n",
      "5770\n"
     ]
    },
    {
     "name": "stderr",
     "output_type": "stream",
     "text": [
      " 28%|██▊       | 3867/13575 [05:32<16:53,  9.58it/s]"
     ]
    },
    {
     "name": "stdout",
     "output_type": "stream",
     "text": [
      "s_o, save_index: 2300 - SAVED!\n",
      "5799\n"
     ]
    },
    {
     "name": "stderr",
     "output_type": "stream",
     "text": [
      " 30%|██▉       | 4029/13575 [05:47<22:52,  6.95it/s]"
     ]
    },
    {
     "name": "stdout",
     "output_type": "stream",
     "text": [
      "s_o, save_index: 2400 - SAVED!\n",
      "5824\n"
     ]
    },
    {
     "name": "stderr",
     "output_type": "stream",
     "text": [
      " 30%|███       | 4087/13575 [05:53<16:10,  9.78it/s]"
     ]
    },
    {
     "name": "stdout",
     "output_type": "stream",
     "text": [
      "[E040] Attempt to access token at 29, max length 29.\n"
     ]
    },
    {
     "name": "stderr",
     "output_type": "stream",
     "text": [
      " 31%|███       | 4187/13575 [06:01<15:48,  9.90it/s]"
     ]
    },
    {
     "name": "stdout",
     "output_type": "stream",
     "text": [
      "s_o, save_index: 2500 - SAVED!\n",
      "5843\n"
     ]
    },
    {
     "name": "stderr",
     "output_type": "stream",
     "text": [
      " 32%|███▏      | 4348/13575 [06:15<15:50,  9.71it/s]"
     ]
    },
    {
     "name": "stdout",
     "output_type": "stream",
     "text": [
      "[E040] Attempt to access token at 42, max length 42.\n",
      "[E040] Attempt to access token at 26, max length 26.\n"
     ]
    },
    {
     "name": "stderr",
     "output_type": "stream",
     "text": [
      " 32%|███▏      | 4368/13575 [06:16<11:16, 13.60it/s]"
     ]
    },
    {
     "name": "stdout",
     "output_type": "stream",
     "text": [
      "s_o, save_index: 2600 - SAVED!\n",
      "5866\n"
     ]
    },
    {
     "name": "stderr",
     "output_type": "stream",
     "text": [
      " 33%|███▎      | 4459/13575 [06:23<13:05, 11.60it/s]"
     ]
    },
    {
     "name": "stdout",
     "output_type": "stream",
     "text": [
      "[E040] Attempt to access token at 23, max length 23.\n"
     ]
    },
    {
     "name": "stderr",
     "output_type": "stream",
     "text": [
      " 33%|███▎      | 4546/13575 [06:30<11:07, 13.52it/s]"
     ]
    },
    {
     "name": "stdout",
     "output_type": "stream",
     "text": [
      "s_o, save_index: 2700 - SAVED!\n",
      "5888\n"
     ]
    },
    {
     "name": "stderr",
     "output_type": "stream",
     "text": [
      " 34%|███▎      | 4560/13575 [06:31<12:16, 12.23it/s]"
     ]
    },
    {
     "name": "stdout",
     "output_type": "stream",
     "text": [
      "[E040] Attempt to access token at 20, max length 20.\n"
     ]
    },
    {
     "name": "stderr",
     "output_type": "stream",
     "text": [
      " 35%|███▍      | 4719/13575 [06:44<11:55, 12.37it/s]"
     ]
    },
    {
     "name": "stdout",
     "output_type": "stream",
     "text": [
      "s_o, save_index: 2800 - SAVED!\n",
      "5912\n",
      "[E040] Attempt to access token at 20, max length 20.\n"
     ]
    },
    {
     "name": "stderr",
     "output_type": "stream",
     "text": [
      " 35%|███▌      | 4794/13575 [06:51<09:23, 15.59it/s]"
     ]
    },
    {
     "name": "stdout",
     "output_type": "stream",
     "text": [
      "[E040] Attempt to access token at 20, max length 20.\n"
     ]
    },
    {
     "name": "stderr",
     "output_type": "stream",
     "text": [
      " 36%|███▌      | 4902/13575 [06:58<08:07, 17.79it/s]"
     ]
    },
    {
     "name": "stdout",
     "output_type": "stream",
     "text": [
      "[E040] Attempt to access token at 21, max length 21.\n",
      "[E040] Attempt to access token at 23, max length 23.\n"
     ]
    },
    {
     "name": "stderr",
     "output_type": "stream",
     "text": [
      " 36%|███▌      | 4913/13575 [06:59<14:12, 10.16it/s]"
     ]
    },
    {
     "name": "stdout",
     "output_type": "stream",
     "text": [
      "s_o, save_index: 2900 - SAVED!\n",
      "5933\n"
     ]
    },
    {
     "name": "stderr",
     "output_type": "stream",
     "text": [
      " 37%|███▋      | 4986/13575 [07:06<11:12, 12.78it/s]"
     ]
    },
    {
     "name": "stdout",
     "output_type": "stream",
     "text": [
      "[E040] Attempt to access token at 23, max length 23.\n"
     ]
    },
    {
     "name": "stderr",
     "output_type": "stream",
     "text": [
      " 37%|███▋      | 5085/13575 [07:14<14:01, 10.09it/s]"
     ]
    },
    {
     "name": "stdout",
     "output_type": "stream",
     "text": [
      "s_o, save_index: 3000 - SAVED!\n",
      "5960\n"
     ]
    },
    {
     "name": "stderr",
     "output_type": "stream",
     "text": [
      " 39%|███▊      | 5253/13575 [07:29<07:28, 18.57it/s]"
     ]
    },
    {
     "name": "stdout",
     "output_type": "stream",
     "text": [
      "s_o, save_index: 3100 - SAVED!\n",
      "5988\n"
     ]
    },
    {
     "name": "stderr",
     "output_type": "stream",
     "text": [
      " 39%|███▉      | 5318/13575 [07:34<08:38, 15.93it/s]"
     ]
    },
    {
     "name": "stdout",
     "output_type": "stream",
     "text": [
      "[E040] Attempt to access token at 28, max length 28.\n"
     ]
    },
    {
     "name": "stderr",
     "output_type": "stream",
     "text": [
      " 39%|███▉      | 5328/13575 [07:34<07:04, 19.43it/s]"
     ]
    },
    {
     "name": "stdout",
     "output_type": "stream",
     "text": [
      "[E040] Attempt to access token at 25, max length 25.\n"
     ]
    },
    {
     "name": "stderr",
     "output_type": "stream",
     "text": [
      " 39%|███▉      | 5333/13575 [07:35<09:08, 15.03it/s]"
     ]
    },
    {
     "name": "stdout",
     "output_type": "stream",
     "text": [
      "[E040] Attempt to access token at 23, max length 23.\n"
     ]
    },
    {
     "name": "stderr",
     "output_type": "stream",
     "text": [
      " 39%|███▉      | 5341/13575 [07:36<16:36,  8.27it/s]"
     ]
    },
    {
     "name": "stdout",
     "output_type": "stream",
     "text": [
      "[E040] Attempt to access token at 22, max length 22.\n"
     ]
    },
    {
     "name": "stderr",
     "output_type": "stream",
     "text": [
      " 40%|███▉      | 5366/13575 [07:37<05:38, 24.24it/s]"
     ]
    },
    {
     "name": "stdout",
     "output_type": "stream",
     "text": [
      "[E040] Attempt to access token at 21, max length 21.\n"
     ]
    },
    {
     "name": "stderr",
     "output_type": "stream",
     "text": [
      " 40%|███▉      | 5399/13575 [07:40<15:24,  8.84it/s]"
     ]
    },
    {
     "name": "stdout",
     "output_type": "stream",
     "text": [
      "[E040] Attempt to access token at 22, max length 22.\n"
     ]
    },
    {
     "name": "stderr",
     "output_type": "stream",
     "text": [
      " 40%|████      | 5446/13575 [07:45<12:45, 10.63it/s]"
     ]
    },
    {
     "name": "stdout",
     "output_type": "stream",
     "text": [
      "s_o, save_index: 3200 - SAVED!\n",
      "6011\n"
     ]
    },
    {
     "name": "stderr",
     "output_type": "stream",
     "text": [
      " 41%|████      | 5538/13575 [07:53<11:37, 11.52it/s]"
     ]
    },
    {
     "name": "stdout",
     "output_type": "stream",
     "text": [
      "[E040] Attempt to access token at 11, max length 11.\n"
     ]
    },
    {
     "name": "stderr",
     "output_type": "stream",
     "text": [
      " 41%|████▏     | 5605/13575 [07:59<11:13, 11.83it/s]"
     ]
    },
    {
     "name": "stdout",
     "output_type": "stream",
     "text": [
      "s_o, save_index: 3300 - SAVED!\n",
      "6033\n"
     ]
    },
    {
     "name": "stderr",
     "output_type": "stream",
     "text": [
      " 42%|████▏     | 5662/13575 [08:04<10:38, 12.40it/s]"
     ]
    },
    {
     "name": "stdout",
     "output_type": "stream",
     "text": [
      "[E040] Attempt to access token at 26, max length 26.\n"
     ]
    },
    {
     "name": "stderr",
     "output_type": "stream",
     "text": [
      " 42%|████▏     | 5672/13575 [08:05<13:51,  9.50it/s]"
     ]
    },
    {
     "name": "stdout",
     "output_type": "stream",
     "text": [
      "[E040] Attempt to access token at 27, max length 27.\n"
     ]
    },
    {
     "name": "stderr",
     "output_type": "stream",
     "text": [
      " 42%|████▏     | 5694/13575 [08:07<14:18,  9.18it/s]"
     ]
    },
    {
     "name": "stdout",
     "output_type": "stream",
     "text": [
      "[E040] Attempt to access token at 19, max length 19.\n"
     ]
    },
    {
     "name": "stderr",
     "output_type": "stream",
     "text": [
      " 42%|████▏     | 5720/13575 [08:10<15:29,  8.45it/s]"
     ]
    },
    {
     "name": "stdout",
     "output_type": "stream",
     "text": [
      "[E040] Attempt to access token at 18, max length 18.\n"
     ]
    },
    {
     "name": "stderr",
     "output_type": "stream",
     "text": [
      " 42%|████▏     | 5767/13575 [08:14<19:43,  6.60it/s]"
     ]
    },
    {
     "name": "stdout",
     "output_type": "stream",
     "text": [
      "s_o, save_index: 3400 - SAVED!\n",
      "6064\n"
     ]
    },
    {
     "name": "stderr",
     "output_type": "stream",
     "text": [
      " 43%|████▎     | 5781/13575 [08:15<09:49, 13.22it/s]"
     ]
    },
    {
     "name": "stdout",
     "output_type": "stream",
     "text": [
      "[E040] Attempt to access token at 27, max length 27.\n"
     ]
    },
    {
     "name": "stderr",
     "output_type": "stream",
     "text": [
      " 43%|████▎     | 5783/13575 [08:16<11:35, 11.20it/s]"
     ]
    },
    {
     "name": "stdout",
     "output_type": "stream",
     "text": [
      "[E040] Attempt to access token at 35, max length 35.\n"
     ]
    },
    {
     "name": "stderr",
     "output_type": "stream",
     "text": [
      " 43%|████▎     | 5812/13575 [08:19<12:09, 10.65it/s]"
     ]
    },
    {
     "name": "stdout",
     "output_type": "stream",
     "text": [
      "[E040] Attempt to access token at 21, max length 21.\n"
     ]
    },
    {
     "name": "stderr",
     "output_type": "stream",
     "text": [
      " 43%|████▎     | 5814/13575 [08:19<13:40,  9.46it/s]"
     ]
    },
    {
     "name": "stdout",
     "output_type": "stream",
     "text": [
      "[E040] Attempt to access token at 30, max length 30.\n"
     ]
    },
    {
     "name": "stderr",
     "output_type": "stream",
     "text": [
      " 43%|████▎     | 5864/13575 [08:24<11:53, 10.80it/s]"
     ]
    },
    {
     "name": "stdout",
     "output_type": "stream",
     "text": [
      "[E040] Attempt to access token at 19, max length 19.\n"
     ]
    },
    {
     "name": "stderr",
     "output_type": "stream",
     "text": [
      " 43%|████▎     | 5901/13575 [08:27<14:01,  9.12it/s]"
     ]
    },
    {
     "name": "stdout",
     "output_type": "stream",
     "text": [
      "[E040] Attempt to access token at 29, max length 29.\n"
     ]
    },
    {
     "name": "stderr",
     "output_type": "stream",
     "text": [
      " 44%|████▎     | 5933/13575 [08:30<11:07, 11.44it/s]"
     ]
    },
    {
     "name": "stdout",
     "output_type": "stream",
     "text": [
      "s_o, save_index: 3500 - SAVED!\n",
      "6089\n"
     ]
    },
    {
     "name": "stderr",
     "output_type": "stream",
     "text": [
      " 45%|████▍     | 6104/13575 [08:45<11:01, 11.30it/s]"
     ]
    },
    {
     "name": "stdout",
     "output_type": "stream",
     "text": [
      "[E040] Attempt to access token at 20, max length 20.\n",
      "s_o, save_index: 3600 - SAVED!\n",
      "6107\n"
     ]
    },
    {
     "name": "stderr",
     "output_type": "stream",
     "text": [
      " 45%|████▌     | 6150/13575 [08:49<06:42, 18.43it/s]"
     ]
    },
    {
     "name": "stdout",
     "output_type": "stream",
     "text": [
      "[E040] Attempt to access token at 22, max length 22.\n"
     ]
    },
    {
     "name": "stderr",
     "output_type": "stream",
     "text": [
      " 46%|████▌     | 6205/13575 [08:54<09:47, 12.54it/s]"
     ]
    },
    {
     "name": "stdout",
     "output_type": "stream",
     "text": [
      "[E040] Attempt to access token at 23, max length 23.\n"
     ]
    },
    {
     "name": "stderr",
     "output_type": "stream",
     "text": [
      " 46%|████▌     | 6274/13575 [09:00<10:44, 11.34it/s]"
     ]
    },
    {
     "name": "stdout",
     "output_type": "stream",
     "text": [
      "s_o, save_index: 3700 - SAVED!\n",
      "6131\n"
     ]
    },
    {
     "name": "stderr",
     "output_type": "stream",
     "text": [
      " 47%|████▋     | 6373/13575 [09:08<10:02, 11.95it/s]"
     ]
    },
    {
     "name": "stdout",
     "output_type": "stream",
     "text": [
      "[E040] Attempt to access token at 31, max length 31.\n"
     ]
    },
    {
     "name": "stderr",
     "output_type": "stream",
     "text": [
      " 48%|████▊     | 6450/13575 [09:15<09:44, 12.19it/s]"
     ]
    },
    {
     "name": "stdout",
     "output_type": "stream",
     "text": [
      "s_o, save_index: 3800 - SAVED!\n",
      "6152\n"
     ]
    },
    {
     "name": "stderr",
     "output_type": "stream",
     "text": [
      " 48%|████▊     | 6527/13575 [09:19<05:49, 20.17it/s]"
     ]
    },
    {
     "name": "stdout",
     "output_type": "stream",
     "text": [
      "[E040] Attempt to access token at 15, max length 15.\n"
     ]
    },
    {
     "name": "stderr",
     "output_type": "stream",
     "text": [
      " 48%|████▊     | 6561/13575 [09:22<11:20, 10.31it/s]"
     ]
    },
    {
     "name": "stdout",
     "output_type": "stream",
     "text": [
      "[E040] Attempt to access token at 13, max length 13.\n"
     ]
    },
    {
     "name": "stderr",
     "output_type": "stream",
     "text": [
      " 49%|████▊     | 6590/13575 [09:25<09:31, 12.21it/s]"
     ]
    },
    {
     "name": "stdout",
     "output_type": "stream",
     "text": [
      "[E040] Attempt to access token at 23, max length 23.\n"
     ]
    },
    {
     "name": "stderr",
     "output_type": "stream",
     "text": [
      " 49%|████▉     | 6630/13575 [09:29<11:32, 10.03it/s]"
     ]
    },
    {
     "name": "stdout",
     "output_type": "stream",
     "text": [
      "s_o, save_index: 3900 - SAVED!\n",
      "6174\n"
     ]
    },
    {
     "name": "stderr",
     "output_type": "stream",
     "text": [
      " 49%|████▉     | 6703/13575 [09:36<08:22, 13.68it/s]"
     ]
    },
    {
     "name": "stdout",
     "output_type": "stream",
     "text": [
      "[E040] Attempt to access token at 14, max length 14.\n"
     ]
    },
    {
     "name": "stderr",
     "output_type": "stream",
     "text": [
      " 50%|████▉     | 6722/13575 [09:38<06:52, 16.61it/s]"
     ]
    },
    {
     "name": "stdout",
     "output_type": "stream",
     "text": [
      "[E040] Attempt to access token at 16, max length 16.\n"
     ]
    },
    {
     "name": "stderr",
     "output_type": "stream",
     "text": [
      " 50%|████▉     | 6743/13575 [09:39<08:22, 13.59it/s]"
     ]
    },
    {
     "name": "stdout",
     "output_type": "stream",
     "text": [
      "[E040] Attempt to access token at 21, max length 21.\n"
     ]
    },
    {
     "name": "stderr",
     "output_type": "stream",
     "text": [
      " 50%|████▉     | 6786/13575 [09:43<08:47, 12.88it/s]"
     ]
    },
    {
     "name": "stdout",
     "output_type": "stream",
     "text": [
      "s_o, save_index: 4000 - SAVED!\n",
      "6202\n"
     ]
    },
    {
     "name": "stderr",
     "output_type": "stream",
     "text": [
      " 50%|█████     | 6821/13575 [09:45<07:53, 14.26it/s]"
     ]
    },
    {
     "name": "stdout",
     "output_type": "stream",
     "text": [
      "[E040] Attempt to access token at 16, max length 16.\n"
     ]
    },
    {
     "name": "stderr",
     "output_type": "stream",
     "text": [
      " 51%|█████     | 6951/13575 [09:57<16:39,  6.63it/s]"
     ]
    },
    {
     "name": "stdout",
     "output_type": "stream",
     "text": [
      "s_o, save_index: 4100 - SAVED!\n",
      "6224\n"
     ]
    },
    {
     "name": "stderr",
     "output_type": "stream",
     "text": [
      " 51%|█████▏    | 6963/13575 [09:58<09:32, 11.54it/s]"
     ]
    },
    {
     "name": "stdout",
     "output_type": "stream",
     "text": [
      "[E040] Attempt to access token at 27, max length 27.\n"
     ]
    },
    {
     "name": "stderr",
     "output_type": "stream",
     "text": [
      " 52%|█████▏    | 7000/13575 [10:01<09:16, 11.80it/s]"
     ]
    },
    {
     "name": "stdout",
     "output_type": "stream",
     "text": [
      "[E040] Attempt to access token at 23, max length 23.\n"
     ]
    },
    {
     "name": "stderr",
     "output_type": "stream",
     "text": [
      " 53%|█████▎    | 7132/13575 [10:11<06:45, 15.89it/s]"
     ]
    },
    {
     "name": "stdout",
     "output_type": "stream",
     "text": [
      "s_o, save_index: 4200 - SAVED!\n",
      "6240\n"
     ]
    },
    {
     "name": "stderr",
     "output_type": "stream",
     "text": [
      " 53%|█████▎    | 7225/13575 [10:20<12:20,  8.58it/s]"
     ]
    },
    {
     "name": "stdout",
     "output_type": "stream",
     "text": [
      "[E040] Attempt to access token at 14, max length 14.\n"
     ]
    },
    {
     "name": "stderr",
     "output_type": "stream",
     "text": [
      " 54%|█████▎    | 7288/13575 [10:25<08:22, 12.51it/s]"
     ]
    },
    {
     "name": "stdout",
     "output_type": "stream",
     "text": [
      "s_o, save_index: 4300 - SAVED!\n",
      "6260\n"
     ]
    },
    {
     "name": "stderr",
     "output_type": "stream",
     "text": [
      " 54%|█████▍    | 7300/13575 [10:26<07:03, 14.83it/s]"
     ]
    },
    {
     "name": "stdout",
     "output_type": "stream",
     "text": [
      "[E040] Attempt to access token at 17, max length 17.\n"
     ]
    },
    {
     "name": "stderr",
     "output_type": "stream",
     "text": [
      " 54%|█████▍    | 7375/13575 [10:32<08:13, 12.57it/s]"
     ]
    },
    {
     "name": "stdout",
     "output_type": "stream",
     "text": [
      "[E040] Attempt to access token at 21, max length 21.\n"
     ]
    },
    {
     "name": "stderr",
     "output_type": "stream",
     "text": [
      " 55%|█████▍    | 7457/13575 [10:39<08:03, 12.65it/s]"
     ]
    },
    {
     "name": "stdout",
     "output_type": "stream",
     "text": [
      "s_o, save_index: 4400 - SAVED!\n",
      "6285\n"
     ]
    },
    {
     "name": "stderr",
     "output_type": "stream",
     "text": [
      " 56%|█████▌    | 7612/13575 [10:52<12:15,  8.11it/s]"
     ]
    },
    {
     "name": "stdout",
     "output_type": "stream",
     "text": [
      "s_o, save_index: 4500 - SAVED!\n",
      "6314\n"
     ]
    },
    {
     "name": "stderr",
     "output_type": "stream",
     "text": [
      " 57%|█████▋    | 7774/13575 [11:07<08:12, 11.77it/s]"
     ]
    },
    {
     "name": "stdout",
     "output_type": "stream",
     "text": [
      "s_o, save_index: 4600 - SAVED!\n",
      "6330\n"
     ]
    },
    {
     "name": "stderr",
     "output_type": "stream",
     "text": [
      " 57%|█████▋    | 7781/13575 [11:08<10:58,  8.80it/s]"
     ]
    },
    {
     "name": "stdout",
     "output_type": "stream",
     "text": [
      "[E040] Attempt to access token at 21, max length 21.\n"
     ]
    },
    {
     "name": "stderr",
     "output_type": "stream",
     "text": [
      " 58%|█████▊    | 7935/13575 [11:22<07:20, 12.80it/s]"
     ]
    },
    {
     "name": "stdout",
     "output_type": "stream",
     "text": [
      "s_o, save_index: 4700 - SAVED!\n",
      "6351\n"
     ]
    },
    {
     "name": "stderr",
     "output_type": "stream",
     "text": [
      " 60%|█████▉    | 8083/13575 [11:47<18:05,  5.06it/s]"
     ]
    },
    {
     "name": "stdout",
     "output_type": "stream",
     "text": [
      "s_o, save_index: 4800 - SAVED!\n",
      "6372\n"
     ]
    },
    {
     "name": "stderr",
     "output_type": "stream",
     "text": [
      " 60%|██████    | 8188/13575 [12:01<26:52,  3.34it/s]"
     ]
    },
    {
     "name": "stdout",
     "output_type": "stream",
     "text": [
      "[E040] Attempt to access token at 22, max length 22.\n"
     ]
    },
    {
     "name": "stderr",
     "output_type": "stream",
     "text": [
      " 61%|██████    | 8254/13575 [12:10<10:55,  8.12it/s]"
     ]
    },
    {
     "name": "stdout",
     "output_type": "stream",
     "text": [
      "s_o, save_index: 4900 - SAVED!\n",
      "6396\n"
     ]
    },
    {
     "name": "stderr",
     "output_type": "stream",
     "text": [
      " 61%|██████    | 8274/13575 [12:13<13:15,  6.66it/s]"
     ]
    },
    {
     "name": "stdout",
     "output_type": "stream",
     "text": [
      "[E040] Attempt to access token at 28, max length 28.\n"
     ]
    },
    {
     "name": "stderr",
     "output_type": "stream",
     "text": [
      " 62%|██████▏   | 8418/13575 [12:35<14:55,  5.76it/s]"
     ]
    },
    {
     "name": "stdout",
     "output_type": "stream",
     "text": [
      "s_o, save_index: 5000 - SAVED!\n",
      "6417\n"
     ]
    },
    {
     "name": "stderr",
     "output_type": "stream",
     "text": [
      " 63%|██████▎   | 8599/13575 [13:01<15:45,  5.26it/s]"
     ]
    },
    {
     "name": "stdout",
     "output_type": "stream",
     "text": [
      "s_o, save_index: 5100 - SAVED!\n",
      "6440\n"
     ]
    },
    {
     "name": "stderr",
     "output_type": "stream",
     "text": [
      " 64%|██████▍   | 8666/13575 [13:10<13:40,  5.98it/s]"
     ]
    },
    {
     "name": "stdout",
     "output_type": "stream",
     "text": [
      "[E040] Attempt to access token at 29, max length 29.\n"
     ]
    },
    {
     "name": "stderr",
     "output_type": "stream",
     "text": [
      " 64%|██████▍   | 8679/13575 [13:12<10:27,  7.80it/s]"
     ]
    },
    {
     "name": "stdout",
     "output_type": "stream",
     "text": [
      "[E040] Attempt to access token at 25, max length 25.\n"
     ]
    },
    {
     "name": "stderr",
     "output_type": "stream",
     "text": [
      " 64%|██████▍   | 8685/13575 [13:13<11:20,  7.19it/s]"
     ]
    },
    {
     "name": "stdout",
     "output_type": "stream",
     "text": [
      "[E040] Attempt to access token at 23, max length 23.\n"
     ]
    },
    {
     "name": "stderr",
     "output_type": "stream",
     "text": [
      " 65%|██████▍   | 8777/13575 [13:26<06:58, 11.48it/s]"
     ]
    },
    {
     "name": "stdout",
     "output_type": "stream",
     "text": [
      "s_o, save_index: 5200 - SAVED!\n",
      "6468\n"
     ]
    },
    {
     "name": "stderr",
     "output_type": "stream",
     "text": [
      " 66%|██████▌   | 8909/13575 [13:41<03:48, 20.40it/s]"
     ]
    },
    {
     "name": "stdout",
     "output_type": "stream",
     "text": [
      "[E040] Attempt to access token at 21, max length 21.\n"
     ]
    },
    {
     "name": "stderr",
     "output_type": "stream",
     "text": [
      " 66%|██████▌   | 8960/13575 [13:45<08:36,  8.94it/s]"
     ]
    },
    {
     "name": "stdout",
     "output_type": "stream",
     "text": [
      "s_o, save_index: 5300 - SAVED!\n",
      "6487\n"
     ]
    },
    {
     "name": "stderr",
     "output_type": "stream",
     "text": [
      " 67%|██████▋   | 9090/13575 [13:55<05:06, 14.65it/s]"
     ]
    },
    {
     "name": "stdout",
     "output_type": "stream",
     "text": [
      "[E040] Attempt to access token at 26, max length 26.\n"
     ]
    },
    {
     "name": "stderr",
     "output_type": "stream",
     "text": [
      " 67%|██████▋   | 9126/13575 [13:59<11:10,  6.63it/s]"
     ]
    },
    {
     "name": "stdout",
     "output_type": "stream",
     "text": [
      "s_o, save_index: 5400 - SAVED!\n",
      "6507\n"
     ]
    },
    {
     "name": "stderr",
     "output_type": "stream",
     "text": [
      " 68%|██████▊   | 9208/13575 [14:05<06:09, 11.81it/s]"
     ]
    },
    {
     "name": "stdout",
     "output_type": "stream",
     "text": [
      "[E040] Attempt to access token at 31, max length 31.\n"
     ]
    },
    {
     "name": "stderr",
     "output_type": "stream",
     "text": [
      " 68%|██████▊   | 9232/13575 [14:07<04:20, 16.66it/s]"
     ]
    },
    {
     "name": "stdout",
     "output_type": "stream",
     "text": [
      "[E040] Attempt to access token at 6, max length 6.\n"
     ]
    },
    {
     "name": "stderr",
     "output_type": "stream",
     "text": [
      " 69%|██████▊   | 9302/13575 [14:13<05:33, 12.80it/s]"
     ]
    },
    {
     "name": "stdout",
     "output_type": "stream",
     "text": [
      "s_o, save_index: 5500 - SAVED!\n",
      "6533\n"
     ]
    },
    {
     "name": "stderr",
     "output_type": "stream",
     "text": [
      " 70%|██████▉   | 9478/13575 [14:27<06:03, 11.26it/s]"
     ]
    },
    {
     "name": "stdout",
     "output_type": "stream",
     "text": [
      "s_o, save_index: 5600 - SAVED!\n",
      "6552\n"
     ]
    },
    {
     "name": "stderr",
     "output_type": "stream",
     "text": [
      " 71%|███████   | 9597/13575 [14:37<04:58, 13.33it/s]"
     ]
    },
    {
     "name": "stdout",
     "output_type": "stream",
     "text": [
      "[E040] Attempt to access token at 23, max length 23.\n"
     ]
    },
    {
     "name": "stderr",
     "output_type": "stream",
     "text": [
      " 71%|███████   | 9646/13575 [14:42<07:35,  8.62it/s]"
     ]
    },
    {
     "name": "stdout",
     "output_type": "stream",
     "text": [
      "s_o, save_index: 5700 - SAVED!\n",
      "6576\n"
     ]
    },
    {
     "name": "stderr",
     "output_type": "stream",
     "text": [
      " 72%|███████▏  | 9822/13575 [14:57<04:53, 12.81it/s]"
     ]
    },
    {
     "name": "stdout",
     "output_type": "stream",
     "text": [
      "s_o, save_index: 5800 - SAVED!\n",
      "6604\n"
     ]
    },
    {
     "name": "stderr",
     "output_type": "stream",
     "text": [
      " 73%|███████▎  | 9921/13575 [15:04<07:30,  8.10it/s]"
     ]
    },
    {
     "name": "stdout",
     "output_type": "stream",
     "text": [
      "[E040] Attempt to access token at 26, max length 26.\n"
     ]
    },
    {
     "name": "stderr",
     "output_type": "stream",
     "text": [
      " 73%|███████▎  | 9948/13575 [15:06<06:23,  9.46it/s]"
     ]
    },
    {
     "name": "stdout",
     "output_type": "stream",
     "text": [
      "[E040] Attempt to access token at 25, max length 25.\n"
     ]
    },
    {
     "name": "stderr",
     "output_type": "stream",
     "text": [
      " 74%|███████▍  | 10013/13575 [15:11<03:02, 19.57it/s]"
     ]
    },
    {
     "name": "stdout",
     "output_type": "stream",
     "text": [
      "s_o, save_index: 5900 - SAVED!\n",
      "6618\n"
     ]
    },
    {
     "name": "stderr",
     "output_type": "stream",
     "text": [
      " 75%|███████▍  | 10177/13575 [15:26<04:28, 12.64it/s]"
     ]
    },
    {
     "name": "stdout",
     "output_type": "stream",
     "text": [
      "[E040] Attempt to access token at 25, max length 25.\n"
     ]
    },
    {
     "name": "stderr",
     "output_type": "stream",
     "text": [
      " 75%|███████▌  | 10184/13575 [15:26<02:58, 18.95it/s]"
     ]
    },
    {
     "name": "stdout",
     "output_type": "stream",
     "text": [
      "s_o, save_index: 6000 - SAVED!\n",
      "6637\n"
     ]
    },
    {
     "name": "stderr",
     "output_type": "stream",
     "text": [
      " 76%|███████▌  | 10276/13575 [15:34<05:09, 10.65it/s]"
     ]
    },
    {
     "name": "stdout",
     "output_type": "stream",
     "text": [
      "[E040] Attempt to access token at 29, max length 29.\n"
     ]
    },
    {
     "name": "stderr",
     "output_type": "stream",
     "text": [
      " 76%|███████▌  | 10337/13575 [15:39<03:20, 16.17it/s]"
     ]
    },
    {
     "name": "stdout",
     "output_type": "stream",
     "text": [
      "[E040] Attempt to access token at 24, max length 24.\n",
      "[E040] Attempt to access token at 24, max length 24.\n"
     ]
    },
    {
     "name": "stderr",
     "output_type": "stream",
     "text": [
      " 76%|███████▋  | 10356/13575 [15:41<02:43, 19.66it/s]"
     ]
    },
    {
     "name": "stdout",
     "output_type": "stream",
     "text": [
      "s_o, save_index: 6100 - SAVED!\n",
      "6668\n"
     ]
    },
    {
     "name": "stderr",
     "output_type": "stream",
     "text": [
      " 77%|███████▋  | 10428/13575 [15:47<03:13, 16.29it/s]"
     ]
    },
    {
     "name": "stdout",
     "output_type": "stream",
     "text": [
      "[E040] Attempt to access token at 22, max length 22.\n"
     ]
    },
    {
     "name": "stderr",
     "output_type": "stream",
     "text": [
      " 78%|███████▊  | 10533/13575 [15:56<05:07,  9.89it/s]"
     ]
    },
    {
     "name": "stdout",
     "output_type": "stream",
     "text": [
      "s_o, save_index: 6200 - SAVED!\n",
      "6702\n"
     ]
    },
    {
     "name": "stderr",
     "output_type": "stream",
     "text": [
      " 78%|███████▊  | 10629/13575 [16:04<03:15, 15.06it/s]"
     ]
    },
    {
     "name": "stdout",
     "output_type": "stream",
     "text": [
      "[E040] Attempt to access token at 27, max length 27.\n"
     ]
    },
    {
     "name": "stderr",
     "output_type": "stream",
     "text": [
      " 79%|███████▉  | 10703/13575 [16:10<03:55, 12.21it/s]"
     ]
    },
    {
     "name": "stdout",
     "output_type": "stream",
     "text": [
      "[E040] Attempt to access token at 28, max length 28.\n"
     ]
    },
    {
     "name": "stderr",
     "output_type": "stream",
     "text": [
      " 79%|███████▉  | 10709/13575 [16:10<05:32,  8.63it/s]"
     ]
    },
    {
     "name": "stdout",
     "output_type": "stream",
     "text": [
      "s_o, save_index: 6300 - SAVED!\n",
      "6727\n"
     ]
    },
    {
     "name": "stderr",
     "output_type": "stream",
     "text": [
      " 79%|███████▉  | 10722/13575 [16:12<03:21, 14.14it/s]"
     ]
    },
    {
     "name": "stdout",
     "output_type": "stream",
     "text": [
      "[E040] Attempt to access token at 14, max length 14.\n"
     ]
    },
    {
     "name": "stderr",
     "output_type": "stream",
     "text": [
      " 79%|███████▉  | 10757/13575 [16:14<03:11, 14.74it/s]"
     ]
    },
    {
     "name": "stdout",
     "output_type": "stream",
     "text": [
      "[E040] Attempt to access token at 18, max length 18.\n",
      "[E040] Attempt to access token at 20, max length 20.\n"
     ]
    },
    {
     "name": "stderr",
     "output_type": "stream",
     "text": [
      " 80%|████████  | 10888/13575 [16:24<04:02, 11.07it/s]"
     ]
    },
    {
     "name": "stdout",
     "output_type": "stream",
     "text": [
      "s_o, save_index: 6400 - SAVED!\n",
      "6753\n"
     ]
    },
    {
     "name": "stderr",
     "output_type": "stream",
     "text": [
      " 80%|████████  | 10919/13575 [16:26<02:25, 18.22it/s]"
     ]
    },
    {
     "name": "stdout",
     "output_type": "stream",
     "text": [
      "[E040] Attempt to access token at 20, max length 20.\n"
     ]
    },
    {
     "name": "stderr",
     "output_type": "stream",
     "text": [
      " 81%|████████  | 10933/13575 [16:27<03:20, 13.17it/s]"
     ]
    },
    {
     "name": "stdout",
     "output_type": "stream",
     "text": [
      "[E040] Attempt to access token at 19, max length 19.\n"
     ]
    },
    {
     "name": "stderr",
     "output_type": "stream",
     "text": [
      " 81%|████████  | 10949/13575 [16:28<03:15, 13.40it/s]"
     ]
    },
    {
     "name": "stdout",
     "output_type": "stream",
     "text": [
      "[E040] Attempt to access token at 11, max length 11.\n"
     ]
    },
    {
     "name": "stderr",
     "output_type": "stream",
     "text": [
      " 82%|████████▏ | 11068/13575 [16:38<03:27, 12.10it/s]"
     ]
    },
    {
     "name": "stdout",
     "output_type": "stream",
     "text": [
      "[E040] Attempt to access token at 26, max length 26.\n"
     ]
    },
    {
     "name": "stderr",
     "output_type": "stream",
     "text": [
      " 82%|████████▏ | 11074/13575 [16:39<03:54, 10.67it/s]"
     ]
    },
    {
     "name": "stdout",
     "output_type": "stream",
     "text": [
      "s_o, save_index: 6500 - SAVED!\n",
      "6774\n"
     ]
    },
    {
     "name": "stderr",
     "output_type": "stream",
     "text": [
      " 83%|████████▎ | 11244/13575 [16:52<03:59,  9.74it/s]"
     ]
    },
    {
     "name": "stdout",
     "output_type": "stream",
     "text": [
      "s_o, save_index: 6600 - SAVED!\n",
      "6796\n"
     ]
    },
    {
     "name": "stderr",
     "output_type": "stream",
     "text": [
      " 84%|████████▍ | 11421/13575 [17:06<03:43,  9.66it/s]"
     ]
    },
    {
     "name": "stdout",
     "output_type": "stream",
     "text": [
      "s_o, save_index: 6700 - SAVED!\n",
      "6819\n"
     ]
    },
    {
     "name": "stderr",
     "output_type": "stream",
     "text": [
      " 84%|████████▍ | 11446/13575 [17:09<02:26, 14.57it/s]"
     ]
    },
    {
     "name": "stdout",
     "output_type": "stream",
     "text": [
      "[E040] Attempt to access token at 27, max length 27.\n"
     ]
    },
    {
     "name": "stderr",
     "output_type": "stream",
     "text": [
      " 85%|████████▌ | 11586/13575 [17:21<02:27, 13.48it/s]"
     ]
    },
    {
     "name": "stdout",
     "output_type": "stream",
     "text": [
      "s_o, save_index: 6800 - SAVED!\n",
      "6842\n"
     ]
    },
    {
     "name": "stderr",
     "output_type": "stream",
     "text": [
      " 86%|████████▌ | 11650/13575 [17:26<02:37, 12.21it/s]"
     ]
    },
    {
     "name": "stdout",
     "output_type": "stream",
     "text": [
      "[E040] Attempt to access token at 34, max length 34.\n"
     ]
    },
    {
     "name": "stderr",
     "output_type": "stream",
     "text": [
      " 86%|████████▋ | 11738/13575 [17:33<02:22, 12.91it/s]"
     ]
    },
    {
     "name": "stdout",
     "output_type": "stream",
     "text": [
      "[E040] Attempt to access token at 20, max length 20.\n"
     ]
    },
    {
     "name": "stderr",
     "output_type": "stream",
     "text": [
      " 86%|████████▋ | 11742/13575 [17:33<03:21,  9.08it/s]"
     ]
    },
    {
     "name": "stdout",
     "output_type": "stream",
     "text": [
      "[E040] Attempt to access token at 7, max length 7.\n"
     ]
    },
    {
     "name": "stderr",
     "output_type": "stream",
     "text": [
      " 87%|████████▋ | 11762/13575 [17:35<02:30, 12.02it/s]"
     ]
    },
    {
     "name": "stdout",
     "output_type": "stream",
     "text": [
      "s_o, save_index: 6900 - SAVED!\n",
      "6862\n"
     ]
    },
    {
     "name": "stderr",
     "output_type": "stream",
     "text": [
      " 87%|████████▋ | 11816/13575 [17:40<01:38, 17.94it/s]"
     ]
    },
    {
     "name": "stdout",
     "output_type": "stream",
     "text": [
      "[E040] Attempt to access token at 21, max length 21.\n"
     ]
    },
    {
     "name": "stderr",
     "output_type": "stream",
     "text": [
      " 87%|████████▋ | 11875/13575 [17:44<02:01, 13.97it/s]"
     ]
    },
    {
     "name": "stdout",
     "output_type": "stream",
     "text": [
      "[E040] Attempt to access token at 29, max length 29.\n"
     ]
    },
    {
     "name": "stderr",
     "output_type": "stream",
     "text": [
      " 88%|████████▊ | 11931/13575 [17:49<02:47,  9.79it/s]"
     ]
    },
    {
     "name": "stdout",
     "output_type": "stream",
     "text": [
      "s_o, save_index: 7000 - SAVED!\n",
      "6885\n"
     ]
    },
    {
     "name": "stderr",
     "output_type": "stream",
     "text": [
      " 89%|████████▉ | 12110/13575 [18:03<02:01, 12.04it/s]"
     ]
    },
    {
     "name": "stdout",
     "output_type": "stream",
     "text": [
      "s_o, save_index: 7100 - SAVED!\n",
      "6908\n",
      "[E040] Attempt to access token at 29, max length 29.\n"
     ]
    },
    {
     "name": "stderr",
     "output_type": "stream",
     "text": [
      " 90%|█████████ | 12274/13575 [18:17<02:33,  8.47it/s]"
     ]
    },
    {
     "name": "stdout",
     "output_type": "stream",
     "text": [
      "s_o, save_index: 7200 - SAVED!\n",
      "6932\n"
     ]
    },
    {
     "name": "stderr",
     "output_type": "stream",
     "text": [
      " 91%|█████████ | 12310/13575 [18:20<01:21, 15.44it/s]"
     ]
    },
    {
     "name": "stdout",
     "output_type": "stream",
     "text": [
      "[E040] Attempt to access token at 25, max length 25.\n"
     ]
    },
    {
     "name": "stderr",
     "output_type": "stream",
     "text": [
      " 91%|█████████ | 12323/13575 [18:22<02:02, 10.23it/s]"
     ]
    },
    {
     "name": "stdout",
     "output_type": "stream",
     "text": [
      "[E040] Attempt to access token at 19, max length 19.\n"
     ]
    },
    {
     "name": "stderr",
     "output_type": "stream",
     "text": [
      " 92%|█████████▏| 12440/13575 [18:31<02:08,  8.86it/s]"
     ]
    },
    {
     "name": "stdout",
     "output_type": "stream",
     "text": [
      "s_o, save_index: 7300 - SAVED!\n",
      "6954\n"
     ]
    },
    {
     "name": "stderr",
     "output_type": "stream",
     "text": [
      " 92%|█████████▏| 12447/13575 [18:32<02:32,  7.38it/s]"
     ]
    },
    {
     "name": "stdout",
     "output_type": "stream",
     "text": [
      "[E040] Attempt to access token at 26, max length 26.\n"
     ]
    },
    {
     "name": "stderr",
     "output_type": "stream",
     "text": [
      " 93%|█████████▎| 12625/13575 [18:45<01:14, 12.81it/s]"
     ]
    },
    {
     "name": "stdout",
     "output_type": "stream",
     "text": [
      "s_o, save_index: 7400 - SAVED!\n",
      "6971\n"
     ]
    },
    {
     "name": "stderr",
     "output_type": "stream",
     "text": [
      " 94%|█████████▍| 12747/13575 [18:55<00:42, 19.26it/s]"
     ]
    },
    {
     "name": "stdout",
     "output_type": "stream",
     "text": [
      "[E040] Attempt to access token at 17, max length 17.\n"
     ]
    },
    {
     "name": "stderr",
     "output_type": "stream",
     "text": [
      " 94%|█████████▍| 12804/13575 [18:59<00:35, 22.01it/s]"
     ]
    },
    {
     "name": "stdout",
     "output_type": "stream",
     "text": [
      "[E040] Attempt to access token at 18, max length 18.\n"
     ]
    },
    {
     "name": "stderr",
     "output_type": "stream",
     "text": [
      " 94%|█████████▍| 12815/13575 [19:00<00:58, 13.05it/s]"
     ]
    },
    {
     "name": "stdout",
     "output_type": "stream",
     "text": [
      "s_o, save_index: 7500 - SAVED!\n",
      "6999\n"
     ]
    },
    {
     "name": "stderr",
     "output_type": "stream",
     "text": [
      " 96%|█████████▌| 12984/13575 [19:14<00:50, 11.71it/s]"
     ]
    },
    {
     "name": "stdout",
     "output_type": "stream",
     "text": [
      "s_o, save_index: 7600 - SAVED!\n",
      "7025\n"
     ]
    },
    {
     "name": "stderr",
     "output_type": "stream",
     "text": [
      " 96%|█████████▌| 13002/13575 [19:16<00:38, 14.91it/s]"
     ]
    },
    {
     "name": "stdout",
     "output_type": "stream",
     "text": [
      "[E040] Attempt to access token at 20, max length 20.\n"
     ]
    },
    {
     "name": "stderr",
     "output_type": "stream",
     "text": [
      " 97%|█████████▋| 13170/13575 [19:28<00:30, 13.21it/s]"
     ]
    },
    {
     "name": "stdout",
     "output_type": "stream",
     "text": [
      "s_o, save_index: 7700 - SAVED!\n",
      "7049\n"
     ]
    },
    {
     "name": "stderr",
     "output_type": "stream",
     "text": [
      " 98%|█████████▊| 13339/13575 [19:43<00:23, 10.11it/s]"
     ]
    },
    {
     "name": "stdout",
     "output_type": "stream",
     "text": [
      "[E040] Attempt to access token at 24, max length 24.\n"
     ]
    },
    {
     "name": "stderr",
     "output_type": "stream",
     "text": [
      " 98%|█████████▊| 13348/13575 [19:44<00:35,  6.45it/s]"
     ]
    },
    {
     "name": "stdout",
     "output_type": "stream",
     "text": [
      "s_o, save_index: 7800 - SAVED!\n",
      "7071\n"
     ]
    },
    {
     "name": "stderr",
     "output_type": "stream",
     "text": [
      " 99%|█████████▊| 13373/13575 [19:47<00:19, 10.17it/s]"
     ]
    },
    {
     "name": "stdout",
     "output_type": "stream",
     "text": [
      "[E040] Attempt to access token at 19, max length 19.\n"
     ]
    },
    {
     "name": "stderr",
     "output_type": "stream",
     "text": [
      " 99%|█████████▉| 13481/13575 [19:55<00:05, 17.60it/s]"
     ]
    },
    {
     "name": "stdout",
     "output_type": "stream",
     "text": [
      "[E040] Attempt to access token at 17, max length 17.\n"
     ]
    },
    {
     "name": "stderr",
     "output_type": "stream",
     "text": [
      " 99%|█████████▉| 13505/13575 [19:58<00:05, 12.83it/s]"
     ]
    },
    {
     "name": "stdout",
     "output_type": "stream",
     "text": [
      "s_o, save_index: 7900 - SAVED!\n",
      "7095\n"
     ]
    },
    {
     "name": "stderr",
     "output_type": "stream",
     "text": [
      "100%|█████████▉| 13535/13575 [20:02<00:04,  9.12it/s]"
     ]
    },
    {
     "name": "stdout",
     "output_type": "stream",
     "text": [
      "[E040] Attempt to access token at 39, max length 39.\n"
     ]
    },
    {
     "name": "stderr",
     "output_type": "stream",
     "text": [
      "100%|██████████| 13575/13575 [20:08<00:00, 11.23it/s]\n"
     ]
    },
    {
     "name": "stdout",
     "output_type": "stream",
     "text": [
      "Corruption done and saved to: data/corruption_dict/s_o.pkl\n",
      "Total corruption_count = 1887\n",
      "loaded previous file\n",
      "Corruption: prn\n"
     ]
    },
    {
     "name": "stderr",
     "output_type": "stream",
     "text": [
      "  1%|          | 138/13575 [00:09<13:50, 16.17it/s]"
     ]
    },
    {
     "name": "stdout",
     "output_type": "stream",
     "text": [
      "prn, save_index: 100 - SAVED!\n",
      "3614\n"
     ]
    },
    {
     "name": "stderr",
     "output_type": "stream",
     "text": [
      "  2%|▏         | 294/13575 [00:18<10:29, 21.09it/s]"
     ]
    },
    {
     "name": "stdout",
     "output_type": "stream",
     "text": [
      "prn, save_index: 200 - SAVED!\n",
      "3627\n"
     ]
    },
    {
     "name": "stderr",
     "output_type": "stream",
     "text": [
      "  3%|▎         | 439/13575 [00:27<14:01, 15.61it/s]"
     ]
    },
    {
     "name": "stdout",
     "output_type": "stream",
     "text": [
      "prn, save_index: 300 - SAVED!\n",
      "3636\n"
     ]
    },
    {
     "name": "stderr",
     "output_type": "stream",
     "text": [
      "  4%|▍         | 575/13575 [00:37<22:20,  9.70it/s]"
     ]
    },
    {
     "name": "stdout",
     "output_type": "stream",
     "text": [
      "prn, save_index: 400 - SAVED!\n",
      "3644\n"
     ]
    },
    {
     "name": "stderr",
     "output_type": "stream",
     "text": [
      "  5%|▌         | 710/13575 [00:47<16:21, 13.10it/s]"
     ]
    },
    {
     "name": "stdout",
     "output_type": "stream",
     "text": [
      "prn, save_index: 500 - SAVED!\n",
      "3651\n"
     ]
    },
    {
     "name": "stderr",
     "output_type": "stream",
     "text": [
      "  6%|▌         | 848/13575 [00:57<11:45, 18.05it/s]"
     ]
    },
    {
     "name": "stdout",
     "output_type": "stream",
     "text": [
      "prn, save_index: 600 - SAVED!\n",
      "3660\n"
     ]
    },
    {
     "name": "stderr",
     "output_type": "stream",
     "text": [
      "  7%|▋         | 979/13575 [01:07<21:50,  9.61it/s]"
     ]
    },
    {
     "name": "stdout",
     "output_type": "stream",
     "text": [
      "prn, save_index: 700 - SAVED!\n",
      "3670\n"
     ]
    },
    {
     "name": "stderr",
     "output_type": "stream",
     "text": [
      "  8%|▊         | 1123/13575 [01:16<09:59, 20.77it/s]"
     ]
    },
    {
     "name": "stdout",
     "output_type": "stream",
     "text": [
      "prn, save_index: 800 - SAVED!\n",
      "3682\n"
     ]
    },
    {
     "name": "stderr",
     "output_type": "stream",
     "text": [
      "  9%|▉         | 1266/13575 [01:26<16:25, 12.49it/s]"
     ]
    },
    {
     "name": "stdout",
     "output_type": "stream",
     "text": [
      "prn, save_index: 900 - SAVED!\n",
      "3695\n"
     ]
    },
    {
     "name": "stderr",
     "output_type": "stream",
     "text": [
      " 10%|█         | 1396/13575 [01:35<17:47, 11.40it/s]"
     ]
    },
    {
     "name": "stdout",
     "output_type": "stream",
     "text": [
      "prn, save_index: 1000 - SAVED!\n",
      "3702\n"
     ]
    },
    {
     "name": "stderr",
     "output_type": "stream",
     "text": [
      " 11%|█▏        | 1540/13575 [01:46<20:45,  9.66it/s]"
     ]
    },
    {
     "name": "stdout",
     "output_type": "stream",
     "text": [
      "prn, save_index: 1100 - SAVED!\n",
      "3713\n"
     ]
    },
    {
     "name": "stderr",
     "output_type": "stream",
     "text": [
      " 12%|█▏        | 1669/13575 [01:55<18:54, 10.49it/s]"
     ]
    },
    {
     "name": "stdout",
     "output_type": "stream",
     "text": [
      "prn, save_index: 1200 - SAVED!\n",
      "3718\n"
     ]
    },
    {
     "name": "stderr",
     "output_type": "stream",
     "text": [
      " 13%|█▎        | 1822/13575 [02:07<14:42, 13.32it/s]  "
     ]
    },
    {
     "name": "stdout",
     "output_type": "stream",
     "text": [
      "prn, save_index: 1300 - SAVED!\n",
      "3729\n"
     ]
    },
    {
     "name": "stderr",
     "output_type": "stream",
     "text": [
      " 14%|█▍        | 1952/13575 [02:17<18:18, 10.58it/s]"
     ]
    },
    {
     "name": "stdout",
     "output_type": "stream",
     "text": [
      "prn, save_index: 1400 - SAVED!\n",
      "3744\n"
     ]
    },
    {
     "name": "stderr",
     "output_type": "stream",
     "text": [
      " 15%|█▌        | 2085/13575 [02:26<17:42, 10.81it/s]"
     ]
    },
    {
     "name": "stdout",
     "output_type": "stream",
     "text": [
      "prn, save_index: 1500 - SAVED!\n",
      "3758\n"
     ]
    },
    {
     "name": "stderr",
     "output_type": "stream",
     "text": [
      " 16%|█▋        | 2215/13575 [02:35<15:01, 12.60it/s]"
     ]
    },
    {
     "name": "stdout",
     "output_type": "stream",
     "text": [
      "prn, save_index: 1600 - SAVED!\n",
      "3769\n"
     ]
    },
    {
     "name": "stderr",
     "output_type": "stream",
     "text": [
      " 17%|█▋        | 2349/13575 [02:45<09:06, 20.55it/s]"
     ]
    },
    {
     "name": "stdout",
     "output_type": "stream",
     "text": [
      "prn, save_index: 1700 - SAVED!\n",
      "3782\n"
     ]
    },
    {
     "name": "stderr",
     "output_type": "stream",
     "text": [
      " 18%|█▊        | 2495/13575 [02:55<12:07, 15.24it/s]"
     ]
    },
    {
     "name": "stdout",
     "output_type": "stream",
     "text": [
      "prn, save_index: 1800 - SAVED!\n",
      "3798\n"
     ]
    },
    {
     "name": "stderr",
     "output_type": "stream",
     "text": [
      " 19%|█▉        | 2634/13575 [03:05<08:10, 22.30it/s]"
     ]
    },
    {
     "name": "stdout",
     "output_type": "stream",
     "text": [
      "prn, save_index: 1900 - SAVED!\n",
      "3808\n"
     ]
    },
    {
     "name": "stderr",
     "output_type": "stream",
     "text": [
      " 20%|██        | 2777/13575 [03:15<16:28, 10.92it/s]"
     ]
    },
    {
     "name": "stdout",
     "output_type": "stream",
     "text": [
      "prn, save_index: 2000 - SAVED!\n",
      "3814\n"
     ]
    },
    {
     "name": "stderr",
     "output_type": "stream",
     "text": [
      " 22%|██▏       | 2925/13575 [03:25<09:36, 18.47it/s]"
     ]
    },
    {
     "name": "stdout",
     "output_type": "stream",
     "text": [
      "prn, save_index: 2100 - SAVED!\n",
      "3823\n"
     ]
    },
    {
     "name": "stderr",
     "output_type": "stream",
     "text": [
      " 23%|██▎       | 3072/13575 [03:35<08:42, 20.12it/s]"
     ]
    },
    {
     "name": "stdout",
     "output_type": "stream",
     "text": [
      "prn, save_index: 2200 - SAVED!\n",
      "3835\n"
     ]
    },
    {
     "name": "stderr",
     "output_type": "stream",
     "text": [
      " 24%|██▎       | 3205/13575 [03:45<12:38, 13.68it/s]"
     ]
    },
    {
     "name": "stdout",
     "output_type": "stream",
     "text": [
      "prn, save_index: 2300 - SAVED!\n",
      "3844\n"
     ]
    },
    {
     "name": "stderr",
     "output_type": "stream",
     "text": [
      " 25%|██▍       | 3338/13575 [03:54<12:17, 13.89it/s]"
     ]
    },
    {
     "name": "stdout",
     "output_type": "stream",
     "text": [
      "prn, save_index: 2400 - SAVED!\n",
      "3853\n"
     ]
    },
    {
     "name": "stderr",
     "output_type": "stream",
     "text": [
      " 26%|██▌       | 3469/13575 [04:04<13:42, 12.28it/s]"
     ]
    },
    {
     "name": "stdout",
     "output_type": "stream",
     "text": [
      "prn, save_index: 2500 - SAVED!\n",
      "3866\n"
     ]
    },
    {
     "name": "stderr",
     "output_type": "stream",
     "text": [
      " 27%|██▋       | 3600/13575 [04:13<15:28, 10.74it/s]"
     ]
    },
    {
     "name": "stdout",
     "output_type": "stream",
     "text": [
      "prn, save_index: 2600 - SAVED!\n",
      "3882\n"
     ]
    },
    {
     "name": "stderr",
     "output_type": "stream",
     "text": [
      " 28%|██▊       | 3737/13575 [04:23<08:27, 19.38it/s]"
     ]
    },
    {
     "name": "stdout",
     "output_type": "stream",
     "text": [
      "prn, save_index: 2700 - SAVED!\n",
      "3896\n"
     ]
    },
    {
     "name": "stderr",
     "output_type": "stream",
     "text": [
      " 29%|██▊       | 3891/13575 [04:34<09:59, 16.16it/s]"
     ]
    },
    {
     "name": "stdout",
     "output_type": "stream",
     "text": [
      "prn, save_index: 2800 - SAVED!\n",
      "3905\n"
     ]
    },
    {
     "name": "stderr",
     "output_type": "stream",
     "text": [
      " 30%|██▉       | 4026/13575 [04:43<13:13, 12.04it/s]"
     ]
    },
    {
     "name": "stdout",
     "output_type": "stream",
     "text": [
      "prn, save_index: 2900 - SAVED!\n",
      "3918\n"
     ]
    },
    {
     "name": "stderr",
     "output_type": "stream",
     "text": [
      " 31%|███       | 4158/13575 [04:52<09:56, 15.78it/s]"
     ]
    },
    {
     "name": "stdout",
     "output_type": "stream",
     "text": [
      "prn, save_index: 3000 - SAVED!\n",
      "3926\n"
     ]
    },
    {
     "name": "stderr",
     "output_type": "stream",
     "text": [
      " 32%|███▏      | 4300/13575 [05:02<09:50, 15.72it/s]"
     ]
    },
    {
     "name": "stdout",
     "output_type": "stream",
     "text": [
      "prn, save_index: 3100 - SAVED!\n",
      "3942\n"
     ]
    },
    {
     "name": "stderr",
     "output_type": "stream",
     "text": [
      " 33%|███▎      | 4442/13575 [05:13<14:23, 10.58it/s]"
     ]
    },
    {
     "name": "stdout",
     "output_type": "stream",
     "text": [
      "prn, save_index: 3200 - SAVED!\n",
      "3949\n"
     ]
    },
    {
     "name": "stderr",
     "output_type": "stream",
     "text": [
      " 34%|███▎      | 4581/13575 [05:23<11:31, 13.01it/s]"
     ]
    },
    {
     "name": "stdout",
     "output_type": "stream",
     "text": [
      "prn, save_index: 3300 - SAVED!\n",
      "3963\n"
     ]
    },
    {
     "name": "stderr",
     "output_type": "stream",
     "text": [
      " 35%|███▍      | 4726/13575 [05:33<08:12, 17.95it/s]"
     ]
    },
    {
     "name": "stdout",
     "output_type": "stream",
     "text": [
      "prn, save_index: 3400 - SAVED!\n",
      "3977\n"
     ]
    },
    {
     "name": "stderr",
     "output_type": "stream",
     "text": [
      " 36%|███▌      | 4870/13575 [05:43<12:25, 11.67it/s]"
     ]
    },
    {
     "name": "stdout",
     "output_type": "stream",
     "text": [
      "prn, save_index: 3500 - SAVED!\n",
      "3987\n"
     ]
    },
    {
     "name": "stderr",
     "output_type": "stream",
     "text": [
      " 37%|███▋      | 5006/13575 [05:53<06:32, 21.82it/s]"
     ]
    },
    {
     "name": "stdout",
     "output_type": "stream",
     "text": [
      "prn, save_index: 3600 - SAVED!\n",
      "3998\n"
     ]
    },
    {
     "name": "stderr",
     "output_type": "stream",
     "text": [
      " 38%|███▊      | 5163/13575 [06:03<07:41, 18.24it/s]"
     ]
    },
    {
     "name": "stdout",
     "output_type": "stream",
     "text": [
      "prn, save_index: 3700 - SAVED!\n",
      "4008\n"
     ]
    },
    {
     "name": "stderr",
     "output_type": "stream",
     "text": [
      " 39%|███▉      | 5300/13575 [06:12<17:34,  7.85it/s]"
     ]
    },
    {
     "name": "stdout",
     "output_type": "stream",
     "text": [
      "prn, save_index: 3800 - SAVED!\n",
      "4018\n"
     ]
    },
    {
     "name": "stderr",
     "output_type": "stream",
     "text": [
      " 40%|████      | 5450/13575 [06:22<12:40, 10.69it/s]"
     ]
    },
    {
     "name": "stdout",
     "output_type": "stream",
     "text": [
      "prn, save_index: 3900 - SAVED!\n",
      "4023\n"
     ]
    },
    {
     "name": "stderr",
     "output_type": "stream",
     "text": [
      " 41%|████      | 5584/13575 [06:31<10:56, 12.17it/s]"
     ]
    },
    {
     "name": "stdout",
     "output_type": "stream",
     "text": [
      "prn, save_index: 4000 - SAVED!\n",
      "4032\n"
     ]
    },
    {
     "name": "stderr",
     "output_type": "stream",
     "text": [
      " 42%|████▏     | 5723/13575 [06:41<09:03, 14.45it/s]"
     ]
    },
    {
     "name": "stdout",
     "output_type": "stream",
     "text": [
      "prn, save_index: 4100 - SAVED!\n",
      "4052\n"
     ]
    },
    {
     "name": "stderr",
     "output_type": "stream",
     "text": [
      " 43%|████▎     | 5859/13575 [06:51<10:45, 11.95it/s]"
     ]
    },
    {
     "name": "stdout",
     "output_type": "stream",
     "text": [
      "prn, save_index: 4200 - SAVED!\n",
      "4058\n"
     ]
    },
    {
     "name": "stderr",
     "output_type": "stream",
     "text": [
      " 44%|████▍     | 5994/13575 [07:01<10:42, 11.80it/s]"
     ]
    },
    {
     "name": "stdout",
     "output_type": "stream",
     "text": [
      "prn, save_index: 4300 - SAVED!\n",
      "4069\n"
     ]
    },
    {
     "name": "stderr",
     "output_type": "stream",
     "text": [
      " 45%|████▌     | 6125/13575 [07:11<11:32, 10.75it/s]"
     ]
    },
    {
     "name": "stdout",
     "output_type": "stream",
     "text": [
      "prn, save_index: 4400 - SAVED!\n",
      "4080\n"
     ]
    },
    {
     "name": "stderr",
     "output_type": "stream",
     "text": [
      " 46%|████▌     | 6268/13575 [07:20<09:51, 12.36it/s]"
     ]
    },
    {
     "name": "stdout",
     "output_type": "stream",
     "text": [
      "prn, save_index: 4500 - SAVED!\n",
      "4085\n"
     ]
    },
    {
     "name": "stderr",
     "output_type": "stream",
     "text": [
      " 47%|████▋     | 6407/13575 [07:30<08:22, 14.27it/s]"
     ]
    },
    {
     "name": "stdout",
     "output_type": "stream",
     "text": [
      "prn, save_index: 4600 - SAVED!\n",
      "4093\n"
     ]
    },
    {
     "name": "stderr",
     "output_type": "stream",
     "text": [
      " 48%|████▊     | 6550/13575 [07:40<08:28, 13.82it/s]"
     ]
    },
    {
     "name": "stdout",
     "output_type": "stream",
     "text": [
      "prn, save_index: 4700 - SAVED!\n",
      "4109\n"
     ]
    },
    {
     "name": "stderr",
     "output_type": "stream",
     "text": [
      " 49%|████▉     | 6685/13575 [07:49<09:39, 11.89it/s]"
     ]
    },
    {
     "name": "stdout",
     "output_type": "stream",
     "text": [
      "prn, save_index: 4800 - SAVED!\n",
      "4117\n"
     ]
    },
    {
     "name": "stderr",
     "output_type": "stream",
     "text": [
      " 50%|█████     | 6821/13575 [07:58<11:38,  9.67it/s]"
     ]
    },
    {
     "name": "stdout",
     "output_type": "stream",
     "text": [
      "prn, save_index: 4900 - SAVED!\n",
      "4126\n"
     ]
    },
    {
     "name": "stderr",
     "output_type": "stream",
     "text": [
      " 51%|█████     | 6947/13575 [08:09<08:31, 12.95it/s]"
     ]
    },
    {
     "name": "stdout",
     "output_type": "stream",
     "text": [
      "prn, save_index: 5000 - SAVED!\n",
      "4137\n"
     ]
    },
    {
     "name": "stderr",
     "output_type": "stream",
     "text": [
      " 52%|█████▏    | 7084/13575 [08:19<10:07, 10.68it/s]"
     ]
    },
    {
     "name": "stdout",
     "output_type": "stream",
     "text": [
      "prn, save_index: 5100 - SAVED!\n",
      "4147\n"
     ]
    },
    {
     "name": "stderr",
     "output_type": "stream",
     "text": [
      " 53%|█████▎    | 7222/13575 [08:28<09:08, 11.59it/s]"
     ]
    },
    {
     "name": "stdout",
     "output_type": "stream",
     "text": [
      "prn, save_index: 5200 - SAVED!\n",
      "4154\n"
     ]
    },
    {
     "name": "stderr",
     "output_type": "stream",
     "text": [
      " 54%|█████▍    | 7357/13575 [08:38<08:58, 11.56it/s]"
     ]
    },
    {
     "name": "stdout",
     "output_type": "stream",
     "text": [
      "prn, save_index: 5300 - SAVED!\n",
      "4166\n"
     ]
    },
    {
     "name": "stderr",
     "output_type": "stream",
     "text": [
      " 55%|█████▌    | 7493/13575 [08:46<07:14, 13.98it/s]"
     ]
    },
    {
     "name": "stdout",
     "output_type": "stream",
     "text": [
      "prn, save_index: 5400 - SAVED!\n",
      "4176\n"
     ]
    },
    {
     "name": "stderr",
     "output_type": "stream",
     "text": [
      " 56%|█████▋    | 7636/13575 [08:56<07:08, 13.85it/s]"
     ]
    },
    {
     "name": "stdout",
     "output_type": "stream",
     "text": [
      "prn, save_index: 5500 - SAVED!\n",
      "4187\n"
     ]
    },
    {
     "name": "stderr",
     "output_type": "stream",
     "text": [
      " 57%|█████▋    | 7769/13575 [09:05<08:31, 11.34it/s]"
     ]
    },
    {
     "name": "stdout",
     "output_type": "stream",
     "text": [
      "prn, save_index: 5600 - SAVED!\n",
      "4196\n"
     ]
    },
    {
     "name": "stderr",
     "output_type": "stream",
     "text": [
      " 58%|█████▊    | 7914/13575 [09:16<07:19, 12.89it/s]"
     ]
    },
    {
     "name": "stdout",
     "output_type": "stream",
     "text": [
      "prn, save_index: 5700 - SAVED!\n",
      "4209\n"
     ]
    },
    {
     "name": "stderr",
     "output_type": "stream",
     "text": [
      " 59%|█████▉    | 8054/13575 [09:26<07:46, 11.82it/s]"
     ]
    },
    {
     "name": "stdout",
     "output_type": "stream",
     "text": [
      "prn, save_index: 5800 - SAVED!\n",
      "4219\n"
     ]
    },
    {
     "name": "stderr",
     "output_type": "stream",
     "text": [
      " 60%|██████    | 8183/13575 [09:36<08:42, 10.32it/s]"
     ]
    },
    {
     "name": "stdout",
     "output_type": "stream",
     "text": [
      "prn, save_index: 5900 - SAVED!\n",
      "4234\n"
     ]
    },
    {
     "name": "stderr",
     "output_type": "stream",
     "text": [
      " 61%|██████▏   | 8329/13575 [09:46<05:56, 14.72it/s]"
     ]
    },
    {
     "name": "stdout",
     "output_type": "stream",
     "text": [
      "prn, save_index: 6000 - SAVED!\n",
      "4239\n"
     ]
    },
    {
     "name": "stderr",
     "output_type": "stream",
     "text": [
      " 62%|██████▏   | 8475/13575 [09:55<05:20, 15.89it/s]"
     ]
    },
    {
     "name": "stdout",
     "output_type": "stream",
     "text": [
      "prn, save_index: 6100 - SAVED!\n",
      "4247\n"
     ]
    },
    {
     "name": "stderr",
     "output_type": "stream",
     "text": [
      " 64%|██████▎   | 8621/13575 [10:06<03:15, 25.29it/s]"
     ]
    },
    {
     "name": "stdout",
     "output_type": "stream",
     "text": [
      "prn, save_index: 6200 - SAVED!\n",
      "4261\n"
     ]
    },
    {
     "name": "stderr",
     "output_type": "stream",
     "text": [
      " 64%|██████▍   | 8753/13575 [10:16<04:52, 16.49it/s]"
     ]
    },
    {
     "name": "stdout",
     "output_type": "stream",
     "text": [
      "prn, save_index: 6300 - SAVED!\n",
      "4271\n"
     ]
    },
    {
     "name": "stderr",
     "output_type": "stream",
     "text": [
      " 66%|██████▌   | 8892/13575 [10:26<07:18, 10.67it/s]"
     ]
    },
    {
     "name": "stdout",
     "output_type": "stream",
     "text": [
      "prn, save_index: 6400 - SAVED!\n",
      "4279\n"
     ]
    },
    {
     "name": "stderr",
     "output_type": "stream",
     "text": [
      " 67%|██████▋   | 9033/13575 [10:36<04:10, 18.14it/s]"
     ]
    },
    {
     "name": "stdout",
     "output_type": "stream",
     "text": [
      "prn, save_index: 6500 - SAVED!\n",
      "4293\n"
     ]
    },
    {
     "name": "stderr",
     "output_type": "stream",
     "text": [
      " 68%|██████▊   | 9178/13575 [10:45<04:31, 16.22it/s]"
     ]
    },
    {
     "name": "stdout",
     "output_type": "stream",
     "text": [
      "prn, save_index: 6600 - SAVED!\n",
      "4298\n"
     ]
    },
    {
     "name": "stderr",
     "output_type": "stream",
     "text": [
      " 69%|██████▊   | 9310/13575 [10:55<05:49, 12.20it/s]"
     ]
    },
    {
     "name": "stdout",
     "output_type": "stream",
     "text": [
      "prn, save_index: 6700 - SAVED!\n",
      "4307\n"
     ]
    },
    {
     "name": "stderr",
     "output_type": "stream",
     "text": [
      " 70%|██████▉   | 9443/13575 [11:04<03:45, 18.30it/s]"
     ]
    },
    {
     "name": "stdout",
     "output_type": "stream",
     "text": [
      "prn, save_index: 6800 - SAVED!\n",
      "4314\n"
     ]
    },
    {
     "name": "stderr",
     "output_type": "stream",
     "text": [
      " 71%|███████   | 9599/13575 [11:15<03:36, 18.33it/s]"
     ]
    },
    {
     "name": "stdout",
     "output_type": "stream",
     "text": [
      "prn, save_index: 6900 - SAVED!\n",
      "4326\n"
     ]
    },
    {
     "name": "stderr",
     "output_type": "stream",
     "text": [
      " 72%|███████▏  | 9745/13575 [11:24<02:58, 21.43it/s]"
     ]
    },
    {
     "name": "stdout",
     "output_type": "stream",
     "text": [
      "prn, save_index: 7000 - SAVED!\n",
      "4338\n"
     ]
    },
    {
     "name": "stderr",
     "output_type": "stream",
     "text": [
      " 73%|███████▎  | 9881/13575 [11:35<04:35, 13.39it/s]"
     ]
    },
    {
     "name": "stdout",
     "output_type": "stream",
     "text": [
      "prn, save_index: 7100 - SAVED!\n",
      "4350\n"
     ]
    },
    {
     "name": "stderr",
     "output_type": "stream",
     "text": [
      " 74%|███████▍  | 10040/13575 [11:44<04:24, 13.34it/s]"
     ]
    },
    {
     "name": "stdout",
     "output_type": "stream",
     "text": [
      "prn, save_index: 7200 - SAVED!\n",
      "4356\n"
     ]
    },
    {
     "name": "stderr",
     "output_type": "stream",
     "text": [
      " 75%|███████▍  | 10173/13575 [11:53<04:53, 11.59it/s]"
     ]
    },
    {
     "name": "stdout",
     "output_type": "stream",
     "text": [
      "prn, save_index: 7300 - SAVED!\n",
      "4364\n"
     ]
    },
    {
     "name": "stderr",
     "output_type": "stream",
     "text": [
      " 76%|███████▌  | 10318/13575 [12:03<02:50, 19.13it/s]"
     ]
    },
    {
     "name": "stdout",
     "output_type": "stream",
     "text": [
      "prn, save_index: 7400 - SAVED!\n",
      "4376\n"
     ]
    },
    {
     "name": "stderr",
     "output_type": "stream",
     "text": [
      " 77%|███████▋  | 10471/13575 [12:13<03:56, 13.14it/s]"
     ]
    },
    {
     "name": "stdout",
     "output_type": "stream",
     "text": [
      "prn, save_index: 7500 - SAVED!\n",
      "4387\n"
     ]
    },
    {
     "name": "stderr",
     "output_type": "stream",
     "text": [
      " 78%|███████▊  | 10603/13575 [12:23<05:09,  9.61it/s]"
     ]
    },
    {
     "name": "stdout",
     "output_type": "stream",
     "text": [
      "prn, save_index: 7600 - SAVED!\n",
      "4399\n"
     ]
    },
    {
     "name": "stderr",
     "output_type": "stream",
     "text": [
      " 79%|███████▉  | 10759/13575 [12:32<01:41, 27.77it/s]"
     ]
    },
    {
     "name": "stdout",
     "output_type": "stream",
     "text": [
      "prn, save_index: 7700 - SAVED!\n",
      "4409\n"
     ]
    },
    {
     "name": "stderr",
     "output_type": "stream",
     "text": [
      " 80%|████████  | 10881/13575 [12:41<02:55, 15.36it/s]"
     ]
    },
    {
     "name": "stdout",
     "output_type": "stream",
     "text": [
      "prn, save_index: 7800 - SAVED!\n",
      "4418\n"
     ]
    },
    {
     "name": "stderr",
     "output_type": "stream",
     "text": [
      " 81%|████████  | 11020/13575 [12:50<01:52, 22.63it/s]"
     ]
    },
    {
     "name": "stdout",
     "output_type": "stream",
     "text": [
      "prn, save_index: 7900 - SAVED!\n",
      "4434\n"
     ]
    },
    {
     "name": "stderr",
     "output_type": "stream",
     "text": [
      " 82%|████████▏ | 11157/13575 [13:01<03:26, 11.72it/s]"
     ]
    },
    {
     "name": "stdout",
     "output_type": "stream",
     "text": [
      "prn, save_index: 8000 - SAVED!\n",
      "4445\n"
     ]
    },
    {
     "name": "stderr",
     "output_type": "stream",
     "text": [
      " 83%|████████▎ | 11299/13575 [13:11<02:38, 14.33it/s]"
     ]
    },
    {
     "name": "stdout",
     "output_type": "stream",
     "text": [
      "prn, save_index: 8100 - SAVED!\n",
      "4454\n"
     ]
    },
    {
     "name": "stderr",
     "output_type": "stream",
     "text": [
      " 84%|████████▍ | 11430/13575 [13:22<03:15, 10.96it/s]"
     ]
    },
    {
     "name": "stdout",
     "output_type": "stream",
     "text": [
      "prn, save_index: 8200 - SAVED!\n",
      "4471\n"
     ]
    },
    {
     "name": "stderr",
     "output_type": "stream",
     "text": [
      " 85%|████████▌ | 11568/13575 [13:31<02:25, 13.82it/s]"
     ]
    },
    {
     "name": "stdout",
     "output_type": "stream",
     "text": [
      "prn, save_index: 8300 - SAVED!\n",
      "4487\n"
     ]
    },
    {
     "name": "stderr",
     "output_type": "stream",
     "text": [
      " 86%|████████▋ | 11718/13575 [13:41<02:02, 15.18it/s]"
     ]
    },
    {
     "name": "stdout",
     "output_type": "stream",
     "text": [
      "prn, save_index: 8400 - SAVED!\n",
      "4497\n"
     ]
    },
    {
     "name": "stderr",
     "output_type": "stream",
     "text": [
      " 87%|████████▋ | 11861/13575 [13:50<01:48, 15.78it/s]"
     ]
    },
    {
     "name": "stdout",
     "output_type": "stream",
     "text": [
      "prn, save_index: 8500 - SAVED!\n",
      "4511\n"
     ]
    },
    {
     "name": "stderr",
     "output_type": "stream",
     "text": [
      " 88%|████████▊ | 12011/13575 [14:00<02:16, 11.43it/s]"
     ]
    },
    {
     "name": "stdout",
     "output_type": "stream",
     "text": [
      "prn, save_index: 8600 - SAVED!\n",
      "4524\n"
     ]
    },
    {
     "name": "stderr",
     "output_type": "stream",
     "text": [
      " 89%|████████▉ | 12149/13575 [14:09<02:08, 11.10it/s]"
     ]
    },
    {
     "name": "stdout",
     "output_type": "stream",
     "text": [
      "prn, save_index: 8700 - SAVED!\n",
      "4536\n"
     ]
    },
    {
     "name": "stderr",
     "output_type": "stream",
     "text": [
      " 90%|█████████ | 12280/13575 [14:20<01:53, 11.42it/s]"
     ]
    },
    {
     "name": "stdout",
     "output_type": "stream",
     "text": [
      "prn, save_index: 8800 - SAVED!\n",
      "4545\n"
     ]
    },
    {
     "name": "stderr",
     "output_type": "stream",
     "text": [
      " 91%|█████████▏| 12420/13575 [14:29<01:32, 12.47it/s]"
     ]
    },
    {
     "name": "stdout",
     "output_type": "stream",
     "text": [
      "prn, save_index: 8900 - SAVED!\n",
      "4551\n"
     ]
    },
    {
     "name": "stderr",
     "output_type": "stream",
     "text": [
      " 93%|█████████▎| 12571/13575 [14:39<01:10, 14.25it/s]"
     ]
    },
    {
     "name": "stdout",
     "output_type": "stream",
     "text": [
      "prn, save_index: 9000 - SAVED!\n",
      "4560\n"
     ]
    },
    {
     "name": "stderr",
     "output_type": "stream",
     "text": [
      " 94%|█████████▎| 12714/13575 [14:49<01:03, 13.55it/s]"
     ]
    },
    {
     "name": "stdout",
     "output_type": "stream",
     "text": [
      "prn, save_index: 9100 - SAVED!\n",
      "4569\n"
     ]
    },
    {
     "name": "stderr",
     "output_type": "stream",
     "text": [
      " 95%|█████████▍| 12861/13575 [14:59<00:48, 14.74it/s]"
     ]
    },
    {
     "name": "stdout",
     "output_type": "stream",
     "text": [
      "prn, save_index: 9200 - SAVED!\n",
      "4579\n"
     ]
    },
    {
     "name": "stderr",
     "output_type": "stream",
     "text": [
      " 96%|█████████▌| 13009/13575 [15:08<00:26, 21.26it/s]"
     ]
    },
    {
     "name": "stdout",
     "output_type": "stream",
     "text": [
      "prn, save_index: 9300 - SAVED!\n",
      "4590\n"
     ]
    },
    {
     "name": "stderr",
     "output_type": "stream",
     "text": [
      " 97%|█████████▋| 13148/13575 [15:18<00:38, 11.02it/s]"
     ]
    },
    {
     "name": "stdout",
     "output_type": "stream",
     "text": [
      "prn, save_index: 9400 - SAVED!\n",
      "4597\n"
     ]
    },
    {
     "name": "stderr",
     "output_type": "stream",
     "text": [
      " 98%|█████████▊| 13280/13575 [15:27<00:24, 11.85it/s]"
     ]
    },
    {
     "name": "stdout",
     "output_type": "stream",
     "text": [
      "prn, save_index: 9500 - SAVED!\n",
      "4606\n"
     ]
    },
    {
     "name": "stderr",
     "output_type": "stream",
     "text": [
      " 99%|█████████▉| 13418/13575 [15:38<00:08, 17.98it/s]"
     ]
    },
    {
     "name": "stdout",
     "output_type": "stream",
     "text": [
      "prn, save_index: 9600 - SAVED!\n",
      "4620\n"
     ]
    },
    {
     "name": "stderr",
     "output_type": "stream",
     "text": [
      "100%|█████████▉| 13546/13575 [15:50<00:02, 11.91it/s]"
     ]
    },
    {
     "name": "stdout",
     "output_type": "stream",
     "text": [
      "prn, save_index: 9700 - SAVED!\n",
      "4640\n"
     ]
    },
    {
     "name": "stderr",
     "output_type": "stream",
     "text": [
      "100%|██████████| 13575/13575 [15:53<00:00, 14.23it/s]\n"
     ]
    },
    {
     "name": "stdout",
     "output_type": "stream",
     "text": [
      "Corruption done and saved to: data/corruption_dict/prn.pkl\n",
      "Total corruption_count = 1044\n",
      "loaded previous file\n",
      "Corruption: dat\n"
     ]
    },
    {
     "name": "stderr",
     "output_type": "stream",
     "text": [
      "  1%|          | 132/13575 [00:09<15:43, 14.24it/s]"
     ]
    },
    {
     "name": "stdout",
     "output_type": "stream",
     "text": [
      "dat, save_index: 100 - SAVED!\n",
      "2708\n"
     ]
    },
    {
     "name": "stderr",
     "output_type": "stream",
     "text": [
      "  2%|▏         | 259/13575 [00:20<18:19, 12.11it/s]"
     ]
    },
    {
     "name": "stdout",
     "output_type": "stream",
     "text": [
      "dat, save_index: 200 - SAVED!\n",
      "2713\n"
     ]
    },
    {
     "name": "stderr",
     "output_type": "stream",
     "text": [
      "  3%|▎         | 384/13575 [00:29<16:56, 12.98it/s]"
     ]
    },
    {
     "name": "stdout",
     "output_type": "stream",
     "text": [
      "dat, save_index: 300 - SAVED!\n",
      "2720\n"
     ]
    },
    {
     "name": "stderr",
     "output_type": "stream",
     "text": [
      "  4%|▎         | 503/13575 [00:39<16:55, 12.87it/s]"
     ]
    },
    {
     "name": "stdout",
     "output_type": "stream",
     "text": [
      "dat, save_index: 400 - SAVED!\n",
      "2733\n"
     ]
    },
    {
     "name": "stderr",
     "output_type": "stream",
     "text": [
      "  5%|▍         | 635/13575 [00:48<11:45, 18.34it/s]"
     ]
    },
    {
     "name": "stdout",
     "output_type": "stream",
     "text": [
      "dat, save_index: 500 - SAVED!\n",
      "2741\n"
     ]
    },
    {
     "name": "stderr",
     "output_type": "stream",
     "text": [
      "  6%|▌         | 760/13575 [00:57<15:26, 13.83it/s]"
     ]
    },
    {
     "name": "stdout",
     "output_type": "stream",
     "text": [
      "dat, save_index: 600 - SAVED!\n",
      "2755\n"
     ]
    },
    {
     "name": "stderr",
     "output_type": "stream",
     "text": [
      "  7%|▋         | 906/13575 [01:07<16:27, 12.83it/s]"
     ]
    },
    {
     "name": "stdout",
     "output_type": "stream",
     "text": [
      "dat, save_index: 700 - SAVED!\n",
      "2765\n"
     ]
    },
    {
     "name": "stderr",
     "output_type": "stream",
     "text": [
      "  8%|▊         | 1040/13575 [01:18<15:52, 13.17it/s]"
     ]
    },
    {
     "name": "stdout",
     "output_type": "stream",
     "text": [
      "dat, save_index: 800 - SAVED!\n",
      "2775\n"
     ]
    },
    {
     "name": "stderr",
     "output_type": "stream",
     "text": [
      "  9%|▊         | 1163/13575 [01:27<14:44, 14.04it/s]"
     ]
    },
    {
     "name": "stdout",
     "output_type": "stream",
     "text": [
      "dat, save_index: 900 - SAVED!\n",
      "2791\n"
     ]
    },
    {
     "name": "stderr",
     "output_type": "stream",
     "text": [
      " 10%|▉         | 1292/13575 [01:36<15:04, 13.58it/s]"
     ]
    },
    {
     "name": "stdout",
     "output_type": "stream",
     "text": [
      "dat, save_index: 1000 - SAVED!\n",
      "2798\n"
     ]
    },
    {
     "name": "stderr",
     "output_type": "stream",
     "text": [
      " 10%|█         | 1422/13575 [01:46<15:10, 13.34it/s]"
     ]
    },
    {
     "name": "stdout",
     "output_type": "stream",
     "text": [
      "dat, save_index: 1100 - SAVED!\n",
      "2809\n"
     ]
    },
    {
     "name": "stderr",
     "output_type": "stream",
     "text": [
      " 11%|█▏        | 1545/13575 [01:55<14:46, 13.57it/s]"
     ]
    },
    {
     "name": "stdout",
     "output_type": "stream",
     "text": [
      "dat, save_index: 1200 - SAVED!\n",
      "2824\n"
     ]
    },
    {
     "name": "stderr",
     "output_type": "stream",
     "text": [
      " 12%|█▏        | 1671/13575 [02:05<17:27, 11.37it/s]"
     ]
    },
    {
     "name": "stdout",
     "output_type": "stream",
     "text": [
      "dat, save_index: 1300 - SAVED!\n",
      "2836\n"
     ]
    },
    {
     "name": "stderr",
     "output_type": "stream",
     "text": [
      " 13%|█▎        | 1800/13575 [02:14<18:08, 10.82it/s]"
     ]
    },
    {
     "name": "stdout",
     "output_type": "stream",
     "text": [
      "dat, save_index: 1400 - SAVED!\n",
      "2845\n"
     ]
    },
    {
     "name": "stderr",
     "output_type": "stream",
     "text": [
      " 14%|█▍        | 1927/13575 [02:25<20:37,  9.41it/s]"
     ]
    },
    {
     "name": "stdout",
     "output_type": "stream",
     "text": [
      "dat, save_index: 1500 - SAVED!\n",
      "2860\n"
     ]
    },
    {
     "name": "stderr",
     "output_type": "stream",
     "text": [
      " 15%|█▌        | 2052/13575 [02:35<16:43, 11.48it/s]"
     ]
    },
    {
     "name": "stdout",
     "output_type": "stream",
     "text": [
      "dat, save_index: 1600 - SAVED!\n",
      "2872\n"
     ]
    },
    {
     "name": "stderr",
     "output_type": "stream",
     "text": [
      " 16%|█▌        | 2186/13575 [02:44<16:09, 11.74it/s]"
     ]
    },
    {
     "name": "stdout",
     "output_type": "stream",
     "text": [
      "dat, save_index: 1700 - SAVED!\n",
      "2874\n"
     ]
    },
    {
     "name": "stderr",
     "output_type": "stream",
     "text": [
      " 17%|█▋        | 2322/13575 [02:54<15:06, 12.42it/s]"
     ]
    },
    {
     "name": "stdout",
     "output_type": "stream",
     "text": [
      "dat, save_index: 1800 - SAVED!\n",
      "2881\n"
     ]
    },
    {
     "name": "stderr",
     "output_type": "stream",
     "text": [
      " 18%|█▊        | 2455/13575 [03:03<20:16,  9.14it/s]"
     ]
    },
    {
     "name": "stdout",
     "output_type": "stream",
     "text": [
      "dat, save_index: 1900 - SAVED!\n",
      "2887\n"
     ]
    },
    {
     "name": "stderr",
     "output_type": "stream",
     "text": [
      " 19%|█▉        | 2581/13575 [03:13<16:39, 11.00it/s]"
     ]
    },
    {
     "name": "stdout",
     "output_type": "stream",
     "text": [
      "dat, save_index: 2000 - SAVED!\n",
      "2895\n"
     ]
    },
    {
     "name": "stderr",
     "output_type": "stream",
     "text": [
      " 20%|██        | 2717/13575 [03:21<15:09, 11.93it/s]"
     ]
    },
    {
     "name": "stdout",
     "output_type": "stream",
     "text": [
      "dat, save_index: 2100 - SAVED!\n",
      "2902\n"
     ]
    },
    {
     "name": "stderr",
     "output_type": "stream",
     "text": [
      " 21%|██        | 2837/13575 [03:31<12:43, 14.07it/s]"
     ]
    },
    {
     "name": "stdout",
     "output_type": "stream",
     "text": [
      "dat, save_index: 2200 - SAVED!\n",
      "2911\n"
     ]
    },
    {
     "name": "stderr",
     "output_type": "stream",
     "text": [
      " 22%|██▏       | 2959/13575 [03:43<17:03, 10.37it/s]"
     ]
    },
    {
     "name": "stdout",
     "output_type": "stream",
     "text": [
      "dat, save_index: 2300 - SAVED!\n",
      "2916\n"
     ]
    },
    {
     "name": "stderr",
     "output_type": "stream",
     "text": [
      " 23%|██▎       | 3077/13575 [03:52<12:00, 14.57it/s]"
     ]
    },
    {
     "name": "stdout",
     "output_type": "stream",
     "text": [
      "dat, save_index: 2400 - SAVED!\n",
      "2924\n"
     ]
    },
    {
     "name": "stderr",
     "output_type": "stream",
     "text": [
      " 24%|██▎       | 3198/13575 [04:01<11:58, 14.45it/s]"
     ]
    },
    {
     "name": "stdout",
     "output_type": "stream",
     "text": [
      "dat, save_index: 2500 - SAVED!\n",
      "2937\n"
     ]
    },
    {
     "name": "stderr",
     "output_type": "stream",
     "text": [
      " 25%|██▍       | 3326/13575 [04:11<09:20, 18.28it/s]"
     ]
    },
    {
     "name": "stdout",
     "output_type": "stream",
     "text": [
      "dat, save_index: 2600 - SAVED!\n",
      "2948\n"
     ]
    },
    {
     "name": "stderr",
     "output_type": "stream",
     "text": [
      " 25%|██▌       | 3452/13575 [04:20<14:31, 11.62it/s]"
     ]
    },
    {
     "name": "stdout",
     "output_type": "stream",
     "text": [
      "dat, save_index: 2700 - SAVED!\n",
      "2955\n"
     ]
    },
    {
     "name": "stderr",
     "output_type": "stream",
     "text": [
      " 26%|██▋       | 3582/13575 [04:30<14:53, 11.18it/s]"
     ]
    },
    {
     "name": "stdout",
     "output_type": "stream",
     "text": [
      "dat, save_index: 2800 - SAVED!\n",
      "2960\n"
     ]
    },
    {
     "name": "stderr",
     "output_type": "stream",
     "text": [
      " 27%|██▋       | 3704/13575 [04:40<13:47, 11.94it/s]"
     ]
    },
    {
     "name": "stdout",
     "output_type": "stream",
     "text": [
      "dat, save_index: 2900 - SAVED!\n",
      "2976\n"
     ]
    },
    {
     "name": "stderr",
     "output_type": "stream",
     "text": [
      " 28%|██▊       | 3835/13575 [04:52<14:40, 11.06it/s]  "
     ]
    },
    {
     "name": "stdout",
     "output_type": "stream",
     "text": [
      "dat, save_index: 3000 - SAVED!\n",
      "2986\n"
     ]
    },
    {
     "name": "stderr",
     "output_type": "stream",
     "text": [
      " 29%|██▉       | 3961/13575 [05:02<19:34,  8.19it/s]"
     ]
    },
    {
     "name": "stdout",
     "output_type": "stream",
     "text": [
      "dat, save_index: 3100 - SAVED!\n",
      "2995\n"
     ]
    },
    {
     "name": "stderr",
     "output_type": "stream",
     "text": [
      " 30%|███       | 4089/13575 [05:13<15:05, 10.48it/s]"
     ]
    },
    {
     "name": "stdout",
     "output_type": "stream",
     "text": [
      "dat, save_index: 3200 - SAVED!\n",
      "3004\n"
     ]
    },
    {
     "name": "stderr",
     "output_type": "stream",
     "text": [
      " 31%|███       | 4202/13575 [05:23<12:01, 13.00it/s]"
     ]
    },
    {
     "name": "stdout",
     "output_type": "stream",
     "text": [
      "dat, save_index: 3300 - SAVED!\n",
      "3011\n"
     ]
    },
    {
     "name": "stderr",
     "output_type": "stream",
     "text": [
      " 32%|███▏      | 4337/13575 [05:33<14:13, 10.82it/s]"
     ]
    },
    {
     "name": "stdout",
     "output_type": "stream",
     "text": [
      "dat, save_index: 3400 - SAVED!\n",
      "3019\n"
     ]
    },
    {
     "name": "stderr",
     "output_type": "stream",
     "text": [
      " 33%|███▎      | 4460/13575 [05:43<16:29,  9.21it/s]"
     ]
    },
    {
     "name": "stdout",
     "output_type": "stream",
     "text": [
      "dat, save_index: 3500 - SAVED!\n",
      "3027\n"
     ]
    },
    {
     "name": "stderr",
     "output_type": "stream",
     "text": [
      " 34%|███▍      | 4590/13575 [05:53<13:08, 11.40it/s]"
     ]
    },
    {
     "name": "stdout",
     "output_type": "stream",
     "text": [
      "dat, save_index: 3600 - SAVED!\n",
      "3033\n"
     ]
    },
    {
     "name": "stderr",
     "output_type": "stream",
     "text": [
      " 35%|███▍      | 4721/13575 [06:02<15:03,  9.80it/s]"
     ]
    },
    {
     "name": "stdout",
     "output_type": "stream",
     "text": [
      "dat, save_index: 3700 - SAVED!\n",
      "3040\n"
     ]
    },
    {
     "name": "stderr",
     "output_type": "stream",
     "text": [
      " 36%|███▌      | 4860/13575 [06:13<07:41, 18.89it/s]"
     ]
    },
    {
     "name": "stdout",
     "output_type": "stream",
     "text": [
      "dat, save_index: 3800 - SAVED!\n",
      "3049\n"
     ]
    },
    {
     "name": "stderr",
     "output_type": "stream",
     "text": [
      " 37%|███▋      | 4981/13575 [06:22<08:58, 15.96it/s]"
     ]
    },
    {
     "name": "stdout",
     "output_type": "stream",
     "text": [
      "dat, save_index: 3900 - SAVED!\n",
      "3060\n"
     ]
    },
    {
     "name": "stderr",
     "output_type": "stream",
     "text": [
      " 38%|███▊      | 5109/13575 [06:32<11:23, 12.39it/s]"
     ]
    },
    {
     "name": "stdout",
     "output_type": "stream",
     "text": [
      "dat, save_index: 4000 - SAVED!\n",
      "3069\n"
     ]
    },
    {
     "name": "stderr",
     "output_type": "stream",
     "text": [
      " 39%|███▊      | 5236/13575 [06:41<09:34, 14.52it/s]"
     ]
    },
    {
     "name": "stdout",
     "output_type": "stream",
     "text": [
      "dat, save_index: 4100 - SAVED!\n",
      "3078\n"
     ]
    },
    {
     "name": "stderr",
     "output_type": "stream",
     "text": [
      " 39%|███▉      | 5361/13575 [06:50<06:30, 21.02it/s]"
     ]
    },
    {
     "name": "stdout",
     "output_type": "stream",
     "text": [
      "dat, save_index: 4200 - SAVED!\n",
      "3084\n"
     ]
    },
    {
     "name": "stderr",
     "output_type": "stream",
     "text": [
      " 40%|████      | 5488/13575 [07:00<09:15, 14.55it/s]"
     ]
    },
    {
     "name": "stdout",
     "output_type": "stream",
     "text": [
      "dat, save_index: 4300 - SAVED!\n",
      "3092\n"
     ]
    },
    {
     "name": "stderr",
     "output_type": "stream",
     "text": [
      " 41%|████▏     | 5615/13575 [07:09<10:41, 12.41it/s]"
     ]
    },
    {
     "name": "stdout",
     "output_type": "stream",
     "text": [
      "dat, save_index: 4400 - SAVED!\n",
      "3102\n"
     ]
    },
    {
     "name": "stderr",
     "output_type": "stream",
     "text": [
      " 42%|████▏     | 5744/13575 [07:18<08:44, 14.93it/s]"
     ]
    },
    {
     "name": "stdout",
     "output_type": "stream",
     "text": [
      "dat, save_index: 4500 - SAVED!\n",
      "3106\n"
     ]
    },
    {
     "name": "stderr",
     "output_type": "stream",
     "text": [
      " 43%|████▎     | 5882/13575 [07:27<07:19, 17.52it/s]"
     ]
    },
    {
     "name": "stdout",
     "output_type": "stream",
     "text": [
      "dat, save_index: 4600 - SAVED!\n",
      "3111\n"
     ]
    },
    {
     "name": "stderr",
     "output_type": "stream",
     "text": [
      " 44%|████▍     | 6007/13575 [07:36<09:07, 13.83it/s]"
     ]
    },
    {
     "name": "stdout",
     "output_type": "stream",
     "text": [
      "dat, save_index: 4700 - SAVED!\n",
      "3119\n"
     ]
    },
    {
     "name": "stderr",
     "output_type": "stream",
     "text": [
      " 45%|████▌     | 6145/13575 [07:45<10:34, 11.71it/s]"
     ]
    },
    {
     "name": "stdout",
     "output_type": "stream",
     "text": [
      "dat, save_index: 4800 - SAVED!\n",
      "3127\n"
     ]
    },
    {
     "name": "stderr",
     "output_type": "stream",
     "text": [
      " 46%|████▌     | 6269/13575 [07:55<07:16, 16.72it/s]"
     ]
    },
    {
     "name": "stdout",
     "output_type": "stream",
     "text": [
      "dat, save_index: 4900 - SAVED!\n",
      "3136\n"
     ]
    },
    {
     "name": "stderr",
     "output_type": "stream",
     "text": [
      " 47%|████▋     | 6391/13575 [08:05<08:23, 14.26it/s]"
     ]
    },
    {
     "name": "stdout",
     "output_type": "stream",
     "text": [
      "dat, save_index: 5000 - SAVED!\n",
      "3146\n"
     ]
    },
    {
     "name": "stderr",
     "output_type": "stream",
     "text": [
      " 48%|████▊     | 6528/13575 [08:15<15:31,  7.57it/s]"
     ]
    },
    {
     "name": "stdout",
     "output_type": "stream",
     "text": [
      "dat, save_index: 5100 - SAVED!\n",
      "3156\n"
     ]
    },
    {
     "name": "stderr",
     "output_type": "stream",
     "text": [
      " 49%|████▉     | 6660/13575 [08:24<05:23, 21.38it/s]"
     ]
    },
    {
     "name": "stdout",
     "output_type": "stream",
     "text": [
      "dat, save_index: 5200 - SAVED!\n",
      "3161\n"
     ]
    },
    {
     "name": "stderr",
     "output_type": "stream",
     "text": [
      " 50%|████▉     | 6782/13575 [08:34<10:54, 10.38it/s]"
     ]
    },
    {
     "name": "stdout",
     "output_type": "stream",
     "text": [
      "dat, save_index: 5300 - SAVED!\n",
      "3171\n"
     ]
    },
    {
     "name": "stderr",
     "output_type": "stream",
     "text": [
      " 51%|█████     | 6915/13575 [08:45<08:57, 12.39it/s]"
     ]
    },
    {
     "name": "stdout",
     "output_type": "stream",
     "text": [
      "dat, save_index: 5400 - SAVED!\n",
      "3176\n"
     ]
    },
    {
     "name": "stderr",
     "output_type": "stream",
     "text": [
      " 52%|█████▏    | 7045/13575 [08:54<07:53, 13.79it/s]"
     ]
    },
    {
     "name": "stdout",
     "output_type": "stream",
     "text": [
      "dat, save_index: 5500 - SAVED!\n",
      "3181\n"
     ]
    },
    {
     "name": "stderr",
     "output_type": "stream",
     "text": [
      " 53%|█████▎    | 7174/13575 [09:04<06:29, 16.45it/s]"
     ]
    },
    {
     "name": "stdout",
     "output_type": "stream",
     "text": [
      "dat, save_index: 5600 - SAVED!\n",
      "3189\n"
     ]
    },
    {
     "name": "stderr",
     "output_type": "stream",
     "text": [
      " 54%|█████▍    | 7309/13575 [09:14<07:06, 14.71it/s]"
     ]
    },
    {
     "name": "stdout",
     "output_type": "stream",
     "text": [
      "dat, save_index: 5700 - SAVED!\n",
      "3197\n"
     ]
    },
    {
     "name": "stderr",
     "output_type": "stream",
     "text": [
      " 55%|█████▍    | 7436/13575 [09:23<06:40, 15.33it/s]"
     ]
    },
    {
     "name": "stdout",
     "output_type": "stream",
     "text": [
      "dat, save_index: 5800 - SAVED!\n",
      "3200\n"
     ]
    },
    {
     "name": "stderr",
     "output_type": "stream",
     "text": [
      " 56%|█████▌    | 7555/13575 [09:32<07:56, 12.64it/s]"
     ]
    },
    {
     "name": "stdout",
     "output_type": "stream",
     "text": [
      "dat, save_index: 5900 - SAVED!\n",
      "3204\n"
     ]
    },
    {
     "name": "stderr",
     "output_type": "stream",
     "text": [
      " 57%|█████▋    | 7683/13575 [09:42<09:32, 10.29it/s]"
     ]
    },
    {
     "name": "stdout",
     "output_type": "stream",
     "text": [
      "dat, save_index: 6000 - SAVED!\n",
      "3210\n"
     ]
    },
    {
     "name": "stderr",
     "output_type": "stream",
     "text": [
      " 58%|█████▊    | 7811/13575 [09:52<10:02,  9.56it/s]"
     ]
    },
    {
     "name": "stdout",
     "output_type": "stream",
     "text": [
      "dat, save_index: 6100 - SAVED!\n",
      "3219\n"
     ]
    },
    {
     "name": "stderr",
     "output_type": "stream",
     "text": [
      " 58%|█████▊    | 7939/13575 [10:01<07:51, 11.95it/s]"
     ]
    },
    {
     "name": "stdout",
     "output_type": "stream",
     "text": [
      "dat, save_index: 6200 - SAVED!\n",
      "3226\n"
     ]
    },
    {
     "name": "stderr",
     "output_type": "stream",
     "text": [
      " 59%|█████▉    | 8063/13575 [10:11<07:09, 12.83it/s]"
     ]
    },
    {
     "name": "stdout",
     "output_type": "stream",
     "text": [
      "dat, save_index: 6300 - SAVED!\n",
      "3234\n"
     ]
    },
    {
     "name": "stderr",
     "output_type": "stream",
     "text": [
      " 60%|██████    | 8189/13575 [10:22<08:58, 10.01it/s]"
     ]
    },
    {
     "name": "stdout",
     "output_type": "stream",
     "text": [
      "dat, save_index: 6400 - SAVED!\n",
      "3244\n"
     ]
    },
    {
     "name": "stderr",
     "output_type": "stream",
     "text": [
      " 61%|██████▏   | 8318/13575 [10:31<07:13, 12.14it/s]"
     ]
    },
    {
     "name": "stdout",
     "output_type": "stream",
     "text": [
      "dat, save_index: 6500 - SAVED!\n",
      "3252\n"
     ]
    },
    {
     "name": "stderr",
     "output_type": "stream",
     "text": [
      " 62%|██████▏   | 8455/13575 [10:41<07:10, 11.90it/s]"
     ]
    },
    {
     "name": "stdout",
     "output_type": "stream",
     "text": [
      "dat, save_index: 6600 - SAVED!\n",
      "3262\n"
     ]
    },
    {
     "name": "stderr",
     "output_type": "stream",
     "text": [
      " 63%|██████▎   | 8587/13575 [10:50<07:20, 11.32it/s]"
     ]
    },
    {
     "name": "stdout",
     "output_type": "stream",
     "text": [
      "dat, save_index: 6700 - SAVED!\n",
      "3276\n"
     ]
    },
    {
     "name": "stderr",
     "output_type": "stream",
     "text": [
      " 64%|██████▍   | 8715/13575 [10:59<07:39, 10.59it/s]"
     ]
    },
    {
     "name": "stdout",
     "output_type": "stream",
     "text": [
      "dat, save_index: 6800 - SAVED!\n",
      "3282\n"
     ]
    },
    {
     "name": "stderr",
     "output_type": "stream",
     "text": [
      " 65%|██████▌   | 8848/13575 [11:09<05:58, 13.19it/s]"
     ]
    },
    {
     "name": "stdout",
     "output_type": "stream",
     "text": [
      "dat, save_index: 6900 - SAVED!\n",
      "3285\n"
     ]
    },
    {
     "name": "stderr",
     "output_type": "stream",
     "text": [
      " 66%|██████▌   | 8981/13575 [11:19<06:34, 11.65it/s]"
     ]
    },
    {
     "name": "stdout",
     "output_type": "stream",
     "text": [
      "dat, save_index: 7000 - SAVED!\n",
      "3293\n"
     ]
    },
    {
     "name": "stderr",
     "output_type": "stream",
     "text": [
      " 67%|██████▋   | 9112/13575 [11:29<07:18, 10.19it/s]"
     ]
    },
    {
     "name": "stdout",
     "output_type": "stream",
     "text": [
      "dat, save_index: 7100 - SAVED!\n",
      "3299\n"
     ]
    },
    {
     "name": "stderr",
     "output_type": "stream",
     "text": [
      " 68%|██████▊   | 9230/13575 [11:38<04:59, 14.49it/s]"
     ]
    },
    {
     "name": "stdout",
     "output_type": "stream",
     "text": [
      "dat, save_index: 7200 - SAVED!\n",
      "3308\n"
     ]
    },
    {
     "name": "stderr",
     "output_type": "stream",
     "text": [
      " 69%|██████▉   | 9363/13575 [11:47<03:34, 19.65it/s]"
     ]
    },
    {
     "name": "stdout",
     "output_type": "stream",
     "text": [
      "dat, save_index: 7300 - SAVED!\n",
      "3311\n"
     ]
    },
    {
     "name": "stderr",
     "output_type": "stream",
     "text": [
      " 70%|██████▉   | 9483/13575 [11:58<06:11, 11.02it/s]"
     ]
    },
    {
     "name": "stdout",
     "output_type": "stream",
     "text": [
      "dat, save_index: 7400 - SAVED!\n",
      "3317\n"
     ]
    },
    {
     "name": "stderr",
     "output_type": "stream",
     "text": [
      " 71%|███████   | 9612/13575 [12:07<04:04, 16.19it/s]"
     ]
    },
    {
     "name": "stdout",
     "output_type": "stream",
     "text": [
      "dat, save_index: 7500 - SAVED!\n",
      "3325\n"
     ]
    },
    {
     "name": "stderr",
     "output_type": "stream",
     "text": [
      " 72%|███████▏  | 9738/13575 [12:16<05:47, 11.03it/s]"
     ]
    },
    {
     "name": "stdout",
     "output_type": "stream",
     "text": [
      "dat, save_index: 7600 - SAVED!\n",
      "3334\n"
     ]
    },
    {
     "name": "stderr",
     "output_type": "stream",
     "text": [
      " 73%|███████▎  | 9863/13575 [12:25<05:40, 10.90it/s]"
     ]
    },
    {
     "name": "stdout",
     "output_type": "stream",
     "text": [
      "dat, save_index: 7700 - SAVED!\n",
      "3343\n"
     ]
    },
    {
     "name": "stderr",
     "output_type": "stream",
     "text": [
      " 74%|███████▎  | 9983/13575 [12:34<06:41,  8.95it/s]"
     ]
    },
    {
     "name": "stdout",
     "output_type": "stream",
     "text": [
      "dat, save_index: 7800 - SAVED!\n",
      "3349\n"
     ]
    },
    {
     "name": "stderr",
     "output_type": "stream",
     "text": [
      " 74%|███████▍  | 10110/13575 [12:44<03:42, 15.59it/s]"
     ]
    },
    {
     "name": "stdout",
     "output_type": "stream",
     "text": [
      "dat, save_index: 7900 - SAVED!\n",
      "3358\n"
     ]
    },
    {
     "name": "stderr",
     "output_type": "stream",
     "text": [
      " 75%|███████▌  | 10235/13575 [12:54<03:29, 15.95it/s]"
     ]
    },
    {
     "name": "stdout",
     "output_type": "stream",
     "text": [
      "dat, save_index: 8000 - SAVED!\n",
      "3366\n"
     ]
    },
    {
     "name": "stderr",
     "output_type": "stream",
     "text": [
      " 76%|███████▋  | 10353/13575 [13:03<03:30, 15.28it/s]"
     ]
    },
    {
     "name": "stdout",
     "output_type": "stream",
     "text": [
      "dat, save_index: 8100 - SAVED!\n",
      "3373\n"
     ]
    },
    {
     "name": "stderr",
     "output_type": "stream",
     "text": [
      " 77%|███████▋  | 10478/13575 [13:13<04:43, 10.91it/s]"
     ]
    },
    {
     "name": "stdout",
     "output_type": "stream",
     "text": [
      "dat, save_index: 8200 - SAVED!\n",
      "3380\n"
     ]
    },
    {
     "name": "stderr",
     "output_type": "stream",
     "text": [
      " 78%|███████▊  | 10601/13575 [13:24<04:16, 11.60it/s]"
     ]
    },
    {
     "name": "stdout",
     "output_type": "stream",
     "text": [
      "dat, save_index: 8300 - SAVED!\n",
      "3389\n"
     ]
    },
    {
     "name": "stderr",
     "output_type": "stream",
     "text": [
      " 79%|███████▉  | 10728/13575 [13:33<03:21, 14.12it/s]"
     ]
    },
    {
     "name": "stdout",
     "output_type": "stream",
     "text": [
      "dat, save_index: 8400 - SAVED!\n",
      "3401\n"
     ]
    },
    {
     "name": "stderr",
     "output_type": "stream",
     "text": [
      " 80%|███████▉  | 10850/13575 [13:42<03:18, 13.71it/s]"
     ]
    },
    {
     "name": "stdout",
     "output_type": "stream",
     "text": [
      "dat, save_index: 8500 - SAVED!\n",
      "3407\n"
     ]
    },
    {
     "name": "stderr",
     "output_type": "stream",
     "text": [
      " 81%|████████  | 10972/13575 [13:52<03:11, 13.61it/s]"
     ]
    },
    {
     "name": "stdout",
     "output_type": "stream",
     "text": [
      "dat, save_index: 8600 - SAVED!\n",
      "3417\n"
     ]
    },
    {
     "name": "stderr",
     "output_type": "stream",
     "text": [
      " 82%|████████▏ | 11087/13575 [14:01<03:23, 12.20it/s]"
     ]
    },
    {
     "name": "stdout",
     "output_type": "stream",
     "text": [
      "dat, save_index: 8700 - SAVED!\n",
      "3423\n"
     ]
    },
    {
     "name": "stderr",
     "output_type": "stream",
     "text": [
      " 83%|████████▎ | 11206/13575 [14:12<03:08, 12.57it/s]"
     ]
    },
    {
     "name": "stdout",
     "output_type": "stream",
     "text": [
      "dat, save_index: 8800 - SAVED!\n",
      "3429\n"
     ]
    },
    {
     "name": "stderr",
     "output_type": "stream",
     "text": [
      " 84%|████████▎ | 11336/13575 [14:23<03:19, 11.20it/s]"
     ]
    },
    {
     "name": "stdout",
     "output_type": "stream",
     "text": [
      "dat, save_index: 8900 - SAVED!\n",
      "3442\n"
     ]
    },
    {
     "name": "stderr",
     "output_type": "stream",
     "text": [
      " 84%|████████▍ | 11463/13575 [14:33<03:31, 10.00it/s]"
     ]
    },
    {
     "name": "stdout",
     "output_type": "stream",
     "text": [
      "dat, save_index: 9000 - SAVED!\n",
      "3454\n"
     ]
    },
    {
     "name": "stderr",
     "output_type": "stream",
     "text": [
      " 85%|████████▌ | 11585/13575 [14:42<03:12, 10.32it/s]"
     ]
    },
    {
     "name": "stdout",
     "output_type": "stream",
     "text": [
      "dat, save_index: 9100 - SAVED!\n",
      "3463\n"
     ]
    },
    {
     "name": "stderr",
     "output_type": "stream",
     "text": [
      " 86%|████████▋ | 11712/13575 [14:52<03:11,  9.73it/s]"
     ]
    },
    {
     "name": "stdout",
     "output_type": "stream",
     "text": [
      "dat, save_index: 9200 - SAVED!\n",
      "3476\n"
     ]
    },
    {
     "name": "stderr",
     "output_type": "stream",
     "text": [
      " 87%|████████▋ | 11834/13575 [15:01<03:00,  9.66it/s]"
     ]
    },
    {
     "name": "stdout",
     "output_type": "stream",
     "text": [
      "dat, save_index: 9300 - SAVED!\n",
      "3482\n"
     ]
    },
    {
     "name": "stderr",
     "output_type": "stream",
     "text": [
      " 88%|████████▊ | 11960/13575 [15:12<02:15, 11.93it/s]"
     ]
    },
    {
     "name": "stdout",
     "output_type": "stream",
     "text": [
      "dat, save_index: 9400 - SAVED!\n",
      "3495\n"
     ]
    },
    {
     "name": "stderr",
     "output_type": "stream",
     "text": [
      " 89%|████████▉ | 12089/13575 [15:20<01:25, 17.30it/s]"
     ]
    },
    {
     "name": "stdout",
     "output_type": "stream",
     "text": [
      "dat, save_index: 9500 - SAVED!\n",
      "3501\n"
     ]
    },
    {
     "name": "stderr",
     "output_type": "stream",
     "text": [
      " 90%|████████▉ | 12215/13575 [15:29<01:44, 13.02it/s]"
     ]
    },
    {
     "name": "stdout",
     "output_type": "stream",
     "text": [
      "dat, save_index: 9600 - SAVED!\n",
      "3511\n"
     ]
    },
    {
     "name": "stderr",
     "output_type": "stream",
     "text": [
      " 91%|█████████ | 12352/13575 [15:40<01:07, 18.10it/s]"
     ]
    },
    {
     "name": "stdout",
     "output_type": "stream",
     "text": [
      "dat, save_index: 9700 - SAVED!\n",
      "3517\n"
     ]
    },
    {
     "name": "stderr",
     "output_type": "stream",
     "text": [
      " 92%|█████████▏| 12475/13575 [15:49<01:21, 13.56it/s]"
     ]
    },
    {
     "name": "stdout",
     "output_type": "stream",
     "text": [
      "dat, save_index: 9800 - SAVED!\n",
      "3525\n"
     ]
    },
    {
     "name": "stderr",
     "output_type": "stream",
     "text": [
      " 93%|█████████▎| 12602/13575 [15:59<01:30, 10.71it/s]"
     ]
    },
    {
     "name": "stdout",
     "output_type": "stream",
     "text": [
      "dat, save_index: 9900 - SAVED!\n",
      "3535\n"
     ]
    },
    {
     "name": "stderr",
     "output_type": "stream",
     "text": [
      " 94%|█████████▍| 12733/13575 [16:08<01:06, 12.59it/s]"
     ]
    },
    {
     "name": "stdout",
     "output_type": "stream",
     "text": [
      "dat, save_index: 10000 - SAVED!\n",
      "3545\n"
     ]
    },
    {
     "name": "stderr",
     "output_type": "stream",
     "text": [
      " 95%|█████████▍| 12859/13575 [16:17<00:47, 14.98it/s]"
     ]
    },
    {
     "name": "stdout",
     "output_type": "stream",
     "text": [
      "dat, save_index: 10100 - SAVED!\n",
      "3554\n"
     ]
    },
    {
     "name": "stderr",
     "output_type": "stream",
     "text": [
      " 96%|█████████▌| 12992/13575 [16:27<00:38, 15.33it/s]"
     ]
    },
    {
     "name": "stdout",
     "output_type": "stream",
     "text": [
      "dat, save_index: 10200 - SAVED!\n",
      "3557\n"
     ]
    },
    {
     "name": "stderr",
     "output_type": "stream",
     "text": [
      " 97%|█████████▋| 13115/13575 [16:36<00:34, 13.46it/s]"
     ]
    },
    {
     "name": "stdout",
     "output_type": "stream",
     "text": [
      "dat, save_index: 10300 - SAVED!\n",
      "3562\n"
     ]
    },
    {
     "name": "stderr",
     "output_type": "stream",
     "text": [
      " 98%|█████████▊| 13255/13575 [16:45<00:24, 12.88it/s]"
     ]
    },
    {
     "name": "stdout",
     "output_type": "stream",
     "text": [
      "dat, save_index: 10400 - SAVED!\n",
      "3570\n"
     ]
    },
    {
     "name": "stderr",
     "output_type": "stream",
     "text": [
      " 99%|█████████▊| 13372/13575 [16:54<00:14, 13.90it/s]"
     ]
    },
    {
     "name": "stdout",
     "output_type": "stream",
     "text": [
      "dat, save_index: 10500 - SAVED!\n",
      "3576\n"
     ]
    },
    {
     "name": "stderr",
     "output_type": "stream",
     "text": [
      " 99%|█████████▉| 13502/13575 [17:04<00:05, 12.53it/s]"
     ]
    },
    {
     "name": "stdout",
     "output_type": "stream",
     "text": [
      "dat, save_index: 10600 - SAVED!\n",
      "3580\n"
     ]
    },
    {
     "name": "stderr",
     "output_type": "stream",
     "text": [
      "100%|██████████| 13575/13575 [17:09<00:00, 13.18it/s]\n"
     ]
    },
    {
     "name": "stdout",
     "output_type": "stream",
     "text": [
      "Corruption done and saved to: data/corruption_dict/dat.pkl\n",
      "Total corruption_count = 899\n",
      "loaded previous file\n",
      "Corruption: num\n"
     ]
    },
    {
     "name": "stderr",
     "output_type": "stream",
     "text": [
      "  1%|          | 119/13575 [00:09<14:02, 15.97it/s]"
     ]
    },
    {
     "name": "stdout",
     "output_type": "stream",
     "text": [
      "num, save_index: 100 - SAVED!\n",
      "96\n"
     ]
    },
    {
     "name": "stderr",
     "output_type": "stream",
     "text": [
      "  2%|▏         | 239/13575 [00:19<17:02, 13.04it/s]"
     ]
    },
    {
     "name": "stdout",
     "output_type": "stream",
     "text": [
      "num, save_index: 200 - SAVED!\n",
      "100\n"
     ]
    },
    {
     "name": "stderr",
     "output_type": "stream",
     "text": [
      "  3%|▎         | 360/13575 [00:29<16:18, 13.50it/s]"
     ]
    },
    {
     "name": "stdout",
     "output_type": "stream",
     "text": [
      "num, save_index: 300 - SAVED!\n",
      "108\n"
     ]
    },
    {
     "name": "stderr",
     "output_type": "stream",
     "text": [
      "  4%|▎         | 481/13575 [00:39<34:10,  6.39it/s]"
     ]
    },
    {
     "name": "stdout",
     "output_type": "stream",
     "text": [
      "num, save_index: 400 - SAVED!\n",
      "114\n"
     ]
    },
    {
     "name": "stderr",
     "output_type": "stream",
     "text": [
      "  4%|▍         | 585/13575 [00:49<21:48,  9.93it/s]"
     ]
    },
    {
     "name": "stdout",
     "output_type": "stream",
     "text": [
      "num, save_index: 500 - SAVED!\n",
      "131\n"
     ]
    },
    {
     "name": "stderr",
     "output_type": "stream",
     "text": [
      "  5%|▌         | 684/13575 [00:58<20:23, 10.53it/s]"
     ]
    },
    {
     "name": "stdout",
     "output_type": "stream",
     "text": [
      "num, save_index: 600 - SAVED!\n",
      "146\n"
     ]
    },
    {
     "name": "stderr",
     "output_type": "stream",
     "text": [
      "  6%|▌         | 785/13575 [01:09<22:27,  9.49it/s]"
     ]
    },
    {
     "name": "stdout",
     "output_type": "stream",
     "text": [
      "num, save_index: 700 - SAVED!\n",
      "159\n"
     ]
    },
    {
     "name": "stderr",
     "output_type": "stream",
     "text": [
      "  7%|▋         | 886/13575 [01:19<27:15,  7.76it/s]"
     ]
    },
    {
     "name": "stdout",
     "output_type": "stream",
     "text": [
      "num, save_index: 800 - SAVED!\n",
      "172\n"
     ]
    },
    {
     "name": "stderr",
     "output_type": "stream",
     "text": [
      "  7%|▋         | 986/13575 [01:27<20:15, 10.36it/s]"
     ]
    },
    {
     "name": "stdout",
     "output_type": "stream",
     "text": [
      "num, save_index: 900 - SAVED!\n",
      "180\n"
     ]
    },
    {
     "name": "stderr",
     "output_type": "stream",
     "text": [
      "  8%|▊         | 1086/13575 [01:38<20:47, 10.01it/s]"
     ]
    },
    {
     "name": "stdout",
     "output_type": "stream",
     "text": [
      "num, save_index: 1000 - SAVED!\n",
      "191\n"
     ]
    },
    {
     "name": "stderr",
     "output_type": "stream",
     "text": [
      "  9%|▉         | 1188/13575 [01:48<20:48,  9.93it/s]"
     ]
    },
    {
     "name": "stdout",
     "output_type": "stream",
     "text": [
      "num, save_index: 1100 - SAVED!\n",
      "204\n"
     ]
    },
    {
     "name": "stderr",
     "output_type": "stream",
     "text": [
      "  9%|▉         | 1286/13575 [01:59<24:37,  8.32it/s]"
     ]
    },
    {
     "name": "stdout",
     "output_type": "stream",
     "text": [
      "num, save_index: 1200 - SAVED!\n",
      "219\n"
     ]
    },
    {
     "name": "stderr",
     "output_type": "stream",
     "text": [
      " 10%|█         | 1387/13575 [02:09<19:39, 10.33it/s]"
     ]
    },
    {
     "name": "stdout",
     "output_type": "stream",
     "text": [
      "num, save_index: 1300 - SAVED!\n",
      "239\n"
     ]
    },
    {
     "name": "stderr",
     "output_type": "stream",
     "text": [
      " 11%|█         | 1489/13575 [02:19<19:32, 10.31it/s]"
     ]
    },
    {
     "name": "stdout",
     "output_type": "stream",
     "text": [
      "num, save_index: 1400 - SAVED!\n",
      "251\n"
     ]
    },
    {
     "name": "stderr",
     "output_type": "stream",
     "text": [
      " 12%|█▏        | 1589/13575 [02:29<20:39,  9.67it/s]"
     ]
    },
    {
     "name": "stdout",
     "output_type": "stream",
     "text": [
      "num, save_index: 1500 - SAVED!\n",
      "271\n"
     ]
    },
    {
     "name": "stderr",
     "output_type": "stream",
     "text": [
      " 12%|█▏        | 1688/13575 [02:39<20:56,  9.46it/s]"
     ]
    },
    {
     "name": "stdout",
     "output_type": "stream",
     "text": [
      "num, save_index: 1600 - SAVED!\n",
      "287\n"
     ]
    },
    {
     "name": "stderr",
     "output_type": "stream",
     "text": [
      " 13%|█▎        | 1789/13575 [02:50<20:29,  9.59it/s]"
     ]
    },
    {
     "name": "stdout",
     "output_type": "stream",
     "text": [
      "num, save_index: 1700 - SAVED!\n",
      "304\n"
     ]
    },
    {
     "name": "stderr",
     "output_type": "stream",
     "text": [
      " 14%|█▍        | 1890/13575 [03:01<24:28,  7.96it/s]"
     ]
    },
    {
     "name": "stdout",
     "output_type": "stream",
     "text": [
      "num, save_index: 1800 - SAVED!\n",
      "317\n"
     ]
    },
    {
     "name": "stderr",
     "output_type": "stream",
     "text": [
      " 15%|█▍        | 1990/13575 [03:12<23:00,  8.39it/s]"
     ]
    },
    {
     "name": "stdout",
     "output_type": "stream",
     "text": [
      "num, save_index: 1900 - SAVED!\n",
      "340\n"
     ]
    },
    {
     "name": "stderr",
     "output_type": "stream",
     "text": [
      " 15%|█▌        | 2091/13575 [03:21<21:13,  9.02it/s]"
     ]
    },
    {
     "name": "stdout",
     "output_type": "stream",
     "text": [
      "num, save_index: 2000 - SAVED!\n",
      "355\n"
     ]
    },
    {
     "name": "stderr",
     "output_type": "stream",
     "text": [
      " 16%|█▌        | 2190/13575 [03:31<17:57, 10.57it/s]"
     ]
    },
    {
     "name": "stdout",
     "output_type": "stream",
     "text": [
      "num, save_index: 2100 - SAVED!\n",
      "371\n"
     ]
    },
    {
     "name": "stderr",
     "output_type": "stream",
     "text": [
      " 17%|█▋        | 2289/13575 [03:40<19:57,  9.42it/s]"
     ]
    },
    {
     "name": "stdout",
     "output_type": "stream",
     "text": [
      "num, save_index: 2200 - SAVED!\n",
      "388\n"
     ]
    },
    {
     "name": "stderr",
     "output_type": "stream",
     "text": [
      " 18%|█▊        | 2390/13575 [03:50<19:23,  9.61it/s]"
     ]
    },
    {
     "name": "stdout",
     "output_type": "stream",
     "text": [
      "num, save_index: 2300 - SAVED!\n",
      "405\n"
     ]
    },
    {
     "name": "stderr",
     "output_type": "stream",
     "text": [
      " 18%|█▊        | 2491/13575 [04:00<17:26, 10.59it/s]"
     ]
    },
    {
     "name": "stdout",
     "output_type": "stream",
     "text": [
      "num, save_index: 2400 - SAVED!\n",
      "419\n"
     ]
    },
    {
     "name": "stderr",
     "output_type": "stream",
     "text": [
      " 19%|█▉        | 2589/13575 [04:11<21:20,  8.58it/s]"
     ]
    },
    {
     "name": "stdout",
     "output_type": "stream",
     "text": [
      "num, save_index: 2500 - SAVED!\n",
      "433\n"
     ]
    },
    {
     "name": "stderr",
     "output_type": "stream",
     "text": [
      " 20%|█▉        | 2690/13575 [04:21<15:20, 11.83it/s]"
     ]
    },
    {
     "name": "stdout",
     "output_type": "stream",
     "text": [
      "num, save_index: 2600 - SAVED!\n",
      "453\n"
     ]
    },
    {
     "name": "stderr",
     "output_type": "stream",
     "text": [
      " 21%|██        | 2793/13575 [04:31<19:45,  9.10it/s]"
     ]
    },
    {
     "name": "stdout",
     "output_type": "stream",
     "text": [
      "num, save_index: 2700 - SAVED!\n",
      "468\n"
     ]
    },
    {
     "name": "stderr",
     "output_type": "stream",
     "text": [
      " 21%|██▏       | 2894/13575 [04:40<21:22,  8.33it/s]"
     ]
    },
    {
     "name": "stdout",
     "output_type": "stream",
     "text": [
      "num, save_index: 2800 - SAVED!\n",
      "483\n"
     ]
    },
    {
     "name": "stderr",
     "output_type": "stream",
     "text": [
      " 22%|██▏       | 2995/13575 [04:50<12:56, 13.63it/s]"
     ]
    },
    {
     "name": "stdout",
     "output_type": "stream",
     "text": [
      "num, save_index: 2900 - SAVED!\n",
      "494\n"
     ]
    },
    {
     "name": "stderr",
     "output_type": "stream",
     "text": [
      " 23%|██▎       | 3093/13575 [05:00<17:22, 10.06it/s]"
     ]
    },
    {
     "name": "stdout",
     "output_type": "stream",
     "text": [
      "num, save_index: 3000 - SAVED!\n",
      "512\n"
     ]
    },
    {
     "name": "stderr",
     "output_type": "stream",
     "text": [
      " 24%|██▎       | 3193/13575 [05:11<19:29,  8.88it/s]"
     ]
    },
    {
     "name": "stdout",
     "output_type": "stream",
     "text": [
      "num, save_index: 3100 - SAVED!\n",
      "530\n"
     ]
    },
    {
     "name": "stderr",
     "output_type": "stream",
     "text": [
      " 24%|██▍       | 3294/13575 [05:21<14:53, 11.50it/s]"
     ]
    },
    {
     "name": "stdout",
     "output_type": "stream",
     "text": [
      "num, save_index: 3200 - SAVED!\n",
      "551\n"
     ]
    },
    {
     "name": "stderr",
     "output_type": "stream",
     "text": [
      " 25%|██▌       | 3395/13575 [05:31<14:26, 11.74it/s]"
     ]
    },
    {
     "name": "stdout",
     "output_type": "stream",
     "text": [
      "num, save_index: 3300 - SAVED!\n",
      "573\n"
     ]
    },
    {
     "name": "stderr",
     "output_type": "stream",
     "text": [
      " 26%|██▌       | 3494/13575 [05:40<16:39, 10.09it/s]"
     ]
    },
    {
     "name": "stdout",
     "output_type": "stream",
     "text": [
      "num, save_index: 3400 - SAVED!\n",
      "593\n"
     ]
    },
    {
     "name": "stderr",
     "output_type": "stream",
     "text": [
      " 26%|██▋       | 3597/13575 [05:51<20:06,  8.27it/s]"
     ]
    },
    {
     "name": "stdout",
     "output_type": "stream",
     "text": [
      "num, save_index: 3500 - SAVED!\n",
      "607\n"
     ]
    },
    {
     "name": "stderr",
     "output_type": "stream",
     "text": [
      " 27%|██▋       | 3695/13575 [05:59<12:25, 13.26it/s]"
     ]
    },
    {
     "name": "stdout",
     "output_type": "stream",
     "text": [
      "num, save_index: 3600 - SAVED!\n",
      "620\n"
     ]
    },
    {
     "name": "stderr",
     "output_type": "stream",
     "text": [
      " 28%|██▊       | 3796/13575 [06:09<16:41,  9.77it/s]"
     ]
    },
    {
     "name": "stdout",
     "output_type": "stream",
     "text": [
      "num, save_index: 3700 - SAVED!\n",
      "638\n"
     ]
    },
    {
     "name": "stderr",
     "output_type": "stream",
     "text": [
      " 29%|██▊       | 3897/13575 [06:19<15:00, 10.74it/s]"
     ]
    },
    {
     "name": "stdout",
     "output_type": "stream",
     "text": [
      "num, save_index: 3800 - SAVED!\n",
      "655\n"
     ]
    },
    {
     "name": "stderr",
     "output_type": "stream",
     "text": [
      " 29%|██▉       | 3999/13575 [06:30<13:58, 11.42it/s]"
     ]
    },
    {
     "name": "stdout",
     "output_type": "stream",
     "text": [
      "num, save_index: 3900 - SAVED!\n",
      "674\n"
     ]
    },
    {
     "name": "stderr",
     "output_type": "stream",
     "text": [
      " 30%|███       | 4098/13575 [06:40<12:43, 12.41it/s]"
     ]
    },
    {
     "name": "stdout",
     "output_type": "stream",
     "text": [
      "num, save_index: 4000 - SAVED!\n",
      "690\n"
     ]
    },
    {
     "name": "stderr",
     "output_type": "stream",
     "text": [
      " 31%|███       | 4199/13575 [06:50<14:00, 11.15it/s]"
     ]
    },
    {
     "name": "stdout",
     "output_type": "stream",
     "text": [
      "num, save_index: 4100 - SAVED!\n",
      "705\n"
     ]
    },
    {
     "name": "stderr",
     "output_type": "stream",
     "text": [
      " 32%|███▏      | 4298/13575 [07:00<14:14, 10.85it/s]"
     ]
    },
    {
     "name": "stdout",
     "output_type": "stream",
     "text": [
      "num, save_index: 4200 - SAVED!\n",
      "721\n"
     ]
    },
    {
     "name": "stderr",
     "output_type": "stream",
     "text": [
      " 32%|███▏      | 4399/13575 [07:10<13:13, 11.57it/s]"
     ]
    },
    {
     "name": "stdout",
     "output_type": "stream",
     "text": [
      "num, save_index: 4300 - SAVED!\n",
      "738\n"
     ]
    },
    {
     "name": "stderr",
     "output_type": "stream",
     "text": [
      " 33%|███▎      | 4499/13575 [07:20<16:49,  8.99it/s]"
     ]
    },
    {
     "name": "stdout",
     "output_type": "stream",
     "text": [
      "num, save_index: 4400 - SAVED!\n",
      "760\n"
     ]
    },
    {
     "name": "stderr",
     "output_type": "stream",
     "text": [
      " 34%|███▍      | 4600/13575 [07:29<11:49, 12.65it/s]"
     ]
    },
    {
     "name": "stdout",
     "output_type": "stream",
     "text": [
      "num, save_index: 4500 - SAVED!\n",
      "777\n"
     ]
    },
    {
     "name": "stderr",
     "output_type": "stream",
     "text": [
      " 35%|███▍      | 4701/13575 [07:39<15:51,  9.33it/s]"
     ]
    },
    {
     "name": "stdout",
     "output_type": "stream",
     "text": [
      "num, save_index: 4600 - SAVED!\n",
      "794\n"
     ]
    },
    {
     "name": "stderr",
     "output_type": "stream",
     "text": [
      " 35%|███▌      | 4802/13575 [07:48<12:40, 11.53it/s]"
     ]
    },
    {
     "name": "stdout",
     "output_type": "stream",
     "text": [
      "num, save_index: 4700 - SAVED!\n",
      "807\n"
     ]
    },
    {
     "name": "stderr",
     "output_type": "stream",
     "text": [
      " 36%|███▌      | 4902/13575 [07:58<14:35,  9.90it/s]"
     ]
    },
    {
     "name": "stdout",
     "output_type": "stream",
     "text": [
      "num, save_index: 4800 - SAVED!\n",
      "825\n"
     ]
    },
    {
     "name": "stderr",
     "output_type": "stream",
     "text": [
      " 37%|███▋      | 5001/13575 [08:08<19:32,  7.31it/s]"
     ]
    },
    {
     "name": "stdout",
     "output_type": "stream",
     "text": [
      "num, save_index: 4900 - SAVED!\n",
      "842\n"
     ]
    },
    {
     "name": "stderr",
     "output_type": "stream",
     "text": [
      " 38%|███▊      | 5101/13575 [08:18<13:30, 10.46it/s]"
     ]
    },
    {
     "name": "stdout",
     "output_type": "stream",
     "text": [
      "num, save_index: 5000 - SAVED!\n",
      "861\n"
     ]
    },
    {
     "name": "stderr",
     "output_type": "stream",
     "text": [
      " 38%|███▊      | 5202/13575 [08:28<12:49, 10.88it/s]"
     ]
    },
    {
     "name": "stdout",
     "output_type": "stream",
     "text": [
      "num, save_index: 5100 - SAVED!\n",
      "872\n"
     ]
    },
    {
     "name": "stderr",
     "output_type": "stream",
     "text": [
      " 39%|███▉      | 5303/13575 [08:39<10:08, 13.60it/s]"
     ]
    },
    {
     "name": "stdout",
     "output_type": "stream",
     "text": [
      "num, save_index: 5200 - SAVED!\n",
      "885\n"
     ]
    },
    {
     "name": "stderr",
     "output_type": "stream",
     "text": [
      " 40%|███▉      | 5404/13575 [08:48<12:14, 11.12it/s]"
     ]
    },
    {
     "name": "stdout",
     "output_type": "stream",
     "text": [
      "num, save_index: 5300 - SAVED!\n",
      "902\n"
     ]
    },
    {
     "name": "stderr",
     "output_type": "stream",
     "text": [
      " 41%|████      | 5503/13575 [08:57<14:55,  9.01it/s]"
     ]
    },
    {
     "name": "stdout",
     "output_type": "stream",
     "text": [
      "num, save_index: 5400 - SAVED!\n",
      "920\n"
     ]
    },
    {
     "name": "stderr",
     "output_type": "stream",
     "text": [
      " 41%|████▏     | 5603/13575 [09:06<14:13,  9.34it/s]"
     ]
    },
    {
     "name": "stdout",
     "output_type": "stream",
     "text": [
      "num, save_index: 5500 - SAVED!\n",
      "937\n"
     ]
    },
    {
     "name": "stderr",
     "output_type": "stream",
     "text": [
      " 42%|████▏     | 5704/13575 [09:17<15:20,  8.56it/s]"
     ]
    },
    {
     "name": "stdout",
     "output_type": "stream",
     "text": [
      "num, save_index: 5600 - SAVED!\n",
      "954\n"
     ]
    },
    {
     "name": "stderr",
     "output_type": "stream",
     "text": [
      " 43%|████▎     | 5805/13575 [09:28<11:36, 11.15it/s]"
     ]
    },
    {
     "name": "stdout",
     "output_type": "stream",
     "text": [
      "num, save_index: 5700 - SAVED!\n",
      "974\n"
     ]
    },
    {
     "name": "stderr",
     "output_type": "stream",
     "text": [
      " 43%|████▎     | 5905/13575 [09:38<11:29, 11.12it/s]"
     ]
    },
    {
     "name": "stdout",
     "output_type": "stream",
     "text": [
      "num, save_index: 5800 - SAVED!\n",
      "985\n"
     ]
    },
    {
     "name": "stderr",
     "output_type": "stream",
     "text": [
      " 44%|████▍     | 6004/13575 [09:48<12:47,  9.87it/s]"
     ]
    },
    {
     "name": "stdout",
     "output_type": "stream",
     "text": [
      "num, save_index: 5900 - SAVED!\n",
      "1000\n"
     ]
    },
    {
     "name": "stderr",
     "output_type": "stream",
     "text": [
      " 45%|████▍     | 6105/13575 [09:58<11:43, 10.61it/s]"
     ]
    },
    {
     "name": "stdout",
     "output_type": "stream",
     "text": [
      "num, save_index: 6000 - SAVED!\n",
      "1015\n"
     ]
    },
    {
     "name": "stderr",
     "output_type": "stream",
     "text": [
      " 46%|████▌     | 6204/13575 [10:07<11:01, 11.15it/s]"
     ]
    },
    {
     "name": "stdout",
     "output_type": "stream",
     "text": [
      "num, save_index: 6100 - SAVED!\n",
      "1034\n"
     ]
    },
    {
     "name": "stderr",
     "output_type": "stream",
     "text": [
      " 46%|████▋     | 6306/13575 [10:17<09:21, 12.95it/s]"
     ]
    },
    {
     "name": "stdout",
     "output_type": "stream",
     "text": [
      "num, save_index: 6200 - SAVED!\n",
      "1044\n"
     ]
    },
    {
     "name": "stderr",
     "output_type": "stream",
     "text": [
      " 47%|████▋     | 6409/13575 [10:28<13:06,  9.11it/s]"
     ]
    },
    {
     "name": "stdout",
     "output_type": "stream",
     "text": [
      "num, save_index: 6300 - SAVED!\n",
      "1059\n"
     ]
    },
    {
     "name": "stderr",
     "output_type": "stream",
     "text": [
      " 48%|████▊     | 6509/13575 [10:37<11:45, 10.01it/s]"
     ]
    },
    {
     "name": "stdout",
     "output_type": "stream",
     "text": [
      "num, save_index: 6400 - SAVED!\n",
      "1080\n"
     ]
    },
    {
     "name": "stderr",
     "output_type": "stream",
     "text": [
      " 49%|████▊     | 6608/13575 [10:48<12:09,  9.55it/s]"
     ]
    },
    {
     "name": "stdout",
     "output_type": "stream",
     "text": [
      "num, save_index: 6500 - SAVED!\n",
      "1094\n"
     ]
    },
    {
     "name": "stderr",
     "output_type": "stream",
     "text": [
      " 49%|████▉     | 6707/13575 [10:58<12:52,  8.89it/s]"
     ]
    },
    {
     "name": "stdout",
     "output_type": "stream",
     "text": [
      "num, save_index: 6600 - SAVED!\n",
      "1109\n"
     ]
    },
    {
     "name": "stderr",
     "output_type": "stream",
     "text": [
      " 50%|█████     | 6809/13575 [11:07<10:28, 10.77it/s]"
     ]
    },
    {
     "name": "stdout",
     "output_type": "stream",
     "text": [
      "num, save_index: 6700 - SAVED!\n",
      "1124\n"
     ]
    },
    {
     "name": "stderr",
     "output_type": "stream",
     "text": [
      " 51%|█████     | 6911/13575 [11:17<10:45, 10.32it/s]"
     ]
    },
    {
     "name": "stdout",
     "output_type": "stream",
     "text": [
      "num, save_index: 6800 - SAVED!\n",
      "1142\n"
     ]
    },
    {
     "name": "stderr",
     "output_type": "stream",
     "text": [
      " 52%|█████▏    | 7010/13575 [11:27<10:51, 10.07it/s]"
     ]
    },
    {
     "name": "stdout",
     "output_type": "stream",
     "text": [
      "num, save_index: 6900 - SAVED!\n",
      "1160\n"
     ]
    },
    {
     "name": "stderr",
     "output_type": "stream",
     "text": [
      " 52%|█████▏    | 7112/13575 [11:37<14:24,  7.47it/s]"
     ]
    },
    {
     "name": "stdout",
     "output_type": "stream",
     "text": [
      "num, save_index: 7000 - SAVED!\n",
      "1183\n"
     ]
    },
    {
     "name": "stderr",
     "output_type": "stream",
     "text": [
      " 53%|█████▎    | 7212/13575 [11:47<11:28,  9.24it/s]"
     ]
    },
    {
     "name": "stdout",
     "output_type": "stream",
     "text": [
      "num, save_index: 7100 - SAVED!\n",
      "1196\n"
     ]
    },
    {
     "name": "stderr",
     "output_type": "stream",
     "text": [
      " 54%|█████▍    | 7315/13575 [11:58<13:41,  7.62it/s]"
     ]
    },
    {
     "name": "stdout",
     "output_type": "stream",
     "text": [
      "num, save_index: 7200 - SAVED!\n",
      "1215\n"
     ]
    },
    {
     "name": "stderr",
     "output_type": "stream",
     "text": [
      " 55%|█████▍    | 7419/13575 [12:09<09:39, 10.62it/s]"
     ]
    },
    {
     "name": "stdout",
     "output_type": "stream",
     "text": [
      "num, save_index: 7300 - SAVED!\n",
      "1224\n"
     ]
    },
    {
     "name": "stderr",
     "output_type": "stream",
     "text": [
      " 55%|█████▌    | 7518/13575 [12:19<12:13,  8.26it/s]"
     ]
    },
    {
     "name": "stdout",
     "output_type": "stream",
     "text": [
      "num, save_index: 7400 - SAVED!\n",
      "1238\n"
     ]
    },
    {
     "name": "stderr",
     "output_type": "stream",
     "text": [
      " 56%|█████▌    | 7618/13575 [12:29<08:37, 11.51it/s]"
     ]
    },
    {
     "name": "stdout",
     "output_type": "stream",
     "text": [
      "num, save_index: 7500 - SAVED!\n",
      "1254\n"
     ]
    },
    {
     "name": "stderr",
     "output_type": "stream",
     "text": [
      " 57%|█████▋    | 7721/13575 [12:39<10:52,  8.98it/s]"
     ]
    },
    {
     "name": "stdout",
     "output_type": "stream",
     "text": [
      "num, save_index: 7600 - SAVED!\n",
      "1269\n"
     ]
    },
    {
     "name": "stderr",
     "output_type": "stream",
     "text": [
      " 58%|█████▊    | 7823/13575 [12:49<08:37, 11.11it/s]"
     ]
    },
    {
     "name": "stdout",
     "output_type": "stream",
     "text": [
      "num, save_index: 7700 - SAVED!\n",
      "1284\n"
     ]
    },
    {
     "name": "stderr",
     "output_type": "stream",
     "text": [
      " 58%|█████▊    | 7924/13575 [12:59<10:41,  8.81it/s]"
     ]
    },
    {
     "name": "stdout",
     "output_type": "stream",
     "text": [
      "num, save_index: 7800 - SAVED!\n",
      "1298\n"
     ]
    },
    {
     "name": "stderr",
     "output_type": "stream",
     "text": [
      " 59%|█████▉    | 8027/13575 [13:09<09:04, 10.18it/s]"
     ]
    },
    {
     "name": "stdout",
     "output_type": "stream",
     "text": [
      "num, save_index: 7900 - SAVED!\n",
      "1317\n"
     ]
    },
    {
     "name": "stderr",
     "output_type": "stream",
     "text": [
      " 60%|█████▉    | 8129/13575 [13:20<09:27,  9.59it/s]"
     ]
    },
    {
     "name": "stdout",
     "output_type": "stream",
     "text": [
      "num, save_index: 8000 - SAVED!\n",
      "1336\n"
     ]
    },
    {
     "name": "stderr",
     "output_type": "stream",
     "text": [
      " 61%|██████    | 8230/13575 [13:30<09:07,  9.76it/s]"
     ]
    },
    {
     "name": "stdout",
     "output_type": "stream",
     "text": [
      "num, save_index: 8100 - SAVED!\n",
      "1356\n"
     ]
    },
    {
     "name": "stderr",
     "output_type": "stream",
     "text": [
      " 61%|██████▏   | 8330/13575 [13:41<07:35, 11.51it/s]"
     ]
    },
    {
     "name": "stdout",
     "output_type": "stream",
     "text": [
      "num, save_index: 8200 - SAVED!\n",
      "1370\n"
     ]
    },
    {
     "name": "stderr",
     "output_type": "stream",
     "text": [
      " 62%|██████▏   | 8433/13575 [13:51<08:21, 10.25it/s]"
     ]
    },
    {
     "name": "stdout",
     "output_type": "stream",
     "text": [
      "num, save_index: 8300 - SAVED!\n",
      "1393\n"
     ]
    },
    {
     "name": "stderr",
     "output_type": "stream",
     "text": [
      " 63%|██████▎   | 8536/13575 [14:01<07:04, 11.88it/s]"
     ]
    },
    {
     "name": "stdout",
     "output_type": "stream",
     "text": [
      "num, save_index: 8400 - SAVED!\n",
      "1409\n"
     ]
    },
    {
     "name": "stderr",
     "output_type": "stream",
     "text": [
      " 64%|██████▎   | 8634/13575 [14:11<09:13,  8.93it/s]"
     ]
    },
    {
     "name": "stdout",
     "output_type": "stream",
     "text": [
      "num, save_index: 8500 - SAVED!\n",
      "1428\n"
     ]
    },
    {
     "name": "stderr",
     "output_type": "stream",
     "text": [
      " 64%|██████▍   | 8736/13575 [14:21<05:24, 14.91it/s]"
     ]
    },
    {
     "name": "stdout",
     "output_type": "stream",
     "text": [
      "num, save_index: 8600 - SAVED!\n",
      "1447\n"
     ]
    },
    {
     "name": "stderr",
     "output_type": "stream",
     "text": [
      " 65%|██████▌   | 8836/13575 [14:32<08:47,  8.99it/s]"
     ]
    },
    {
     "name": "stdout",
     "output_type": "stream",
     "text": [
      "num, save_index: 8700 - SAVED!\n",
      "1467\n"
     ]
    },
    {
     "name": "stderr",
     "output_type": "stream",
     "text": [
      " 66%|██████▌   | 8936/13575 [14:42<07:40, 10.08it/s]"
     ]
    },
    {
     "name": "stdout",
     "output_type": "stream",
     "text": [
      "num, save_index: 8800 - SAVED!\n",
      "1485\n"
     ]
    },
    {
     "name": "stderr",
     "output_type": "stream",
     "text": [
      " 67%|██████▋   | 9037/13575 [14:52<07:16, 10.40it/s]"
     ]
    },
    {
     "name": "stdout",
     "output_type": "stream",
     "text": [
      "num, save_index: 8900 - SAVED!\n",
      "1503\n"
     ]
    },
    {
     "name": "stderr",
     "output_type": "stream",
     "text": [
      " 67%|██████▋   | 9139/13575 [15:02<06:58, 10.59it/s]"
     ]
    },
    {
     "name": "stdout",
     "output_type": "stream",
     "text": [
      "num, save_index: 9000 - SAVED!\n",
      "1524\n"
     ]
    },
    {
     "name": "stderr",
     "output_type": "stream",
     "text": [
      " 68%|██████▊   | 9240/13575 [15:12<06:19, 11.42it/s]"
     ]
    },
    {
     "name": "stdout",
     "output_type": "stream",
     "text": [
      "num, save_index: 9100 - SAVED!\n",
      "1545\n"
     ]
    },
    {
     "name": "stderr",
     "output_type": "stream",
     "text": [
      " 69%|██████▉   | 9341/13575 [15:21<07:14,  9.75it/s]"
     ]
    },
    {
     "name": "stdout",
     "output_type": "stream",
     "text": [
      "num, save_index: 9200 - SAVED!\n",
      "1560\n"
     ]
    },
    {
     "name": "stderr",
     "output_type": "stream",
     "text": [
      " 70%|██████▉   | 9441/13575 [15:32<07:42,  8.93it/s]"
     ]
    },
    {
     "name": "stdout",
     "output_type": "stream",
     "text": [
      "num, save_index: 9300 - SAVED!\n",
      "1579\n"
     ]
    },
    {
     "name": "stderr",
     "output_type": "stream",
     "text": [
      " 70%|███████   | 9542/13575 [15:45<14:26,  4.65it/s]"
     ]
    },
    {
     "name": "stdout",
     "output_type": "stream",
     "text": [
      "num, save_index: 9400 - SAVED!\n",
      "1595\n"
     ]
    },
    {
     "name": "stderr",
     "output_type": "stream",
     "text": [
      " 71%|███████   | 9645/13575 [15:54<06:15, 10.45it/s]"
     ]
    },
    {
     "name": "stdout",
     "output_type": "stream",
     "text": [
      "num, save_index: 9500 - SAVED!\n",
      "1613\n"
     ]
    },
    {
     "name": "stderr",
     "output_type": "stream",
     "text": [
      " 72%|███████▏  | 9744/13575 [16:03<05:37, 11.37it/s]"
     ]
    },
    {
     "name": "stdout",
     "output_type": "stream",
     "text": [
      "num, save_index: 9600 - SAVED!\n",
      "1631\n"
     ]
    },
    {
     "name": "stderr",
     "output_type": "stream",
     "text": [
      " 73%|███████▎  | 9847/13575 [16:12<05:30, 11.28it/s]"
     ]
    },
    {
     "name": "stdout",
     "output_type": "stream",
     "text": [
      "num, save_index: 9700 - SAVED!\n",
      "1645\n"
     ]
    },
    {
     "name": "stderr",
     "output_type": "stream",
     "text": [
      " 73%|███████▎  | 9948/13575 [16:22<06:17,  9.61it/s]"
     ]
    },
    {
     "name": "stdout",
     "output_type": "stream",
     "text": [
      "num, save_index: 9800 - SAVED!\n",
      "1661\n"
     ]
    },
    {
     "name": "stderr",
     "output_type": "stream",
     "text": [
      " 74%|███████▍  | 10050/13575 [16:32<06:16,  9.37it/s]"
     ]
    },
    {
     "name": "stdout",
     "output_type": "stream",
     "text": [
      "num, save_index: 9900 - SAVED!\n",
      "1678\n"
     ]
    },
    {
     "name": "stderr",
     "output_type": "stream",
     "text": [
      " 75%|███████▍  | 10151/13575 [16:41<05:03, 11.27it/s]"
     ]
    },
    {
     "name": "stdout",
     "output_type": "stream",
     "text": [
      "num, save_index: 10000 - SAVED!\n",
      "1699\n"
     ]
    },
    {
     "name": "stderr",
     "output_type": "stream",
     "text": [
      " 76%|███████▌  | 10251/13575 [16:51<05:47,  9.56it/s]"
     ]
    },
    {
     "name": "stdout",
     "output_type": "stream",
     "text": [
      "num, save_index: 10100 - SAVED!\n",
      "1720\n"
     ]
    },
    {
     "name": "stderr",
     "output_type": "stream",
     "text": [
      " 76%|███████▋  | 10353/13575 [17:01<06:26,  8.34it/s]"
     ]
    },
    {
     "name": "stdout",
     "output_type": "stream",
     "text": [
      "num, save_index: 10200 - SAVED!\n",
      "1736\n"
     ]
    },
    {
     "name": "stderr",
     "output_type": "stream",
     "text": [
      " 77%|███████▋  | 10453/13575 [17:11<06:03,  8.60it/s]"
     ]
    },
    {
     "name": "stdout",
     "output_type": "stream",
     "text": [
      "num, save_index: 10300 - SAVED!\n",
      "1750\n"
     ]
    },
    {
     "name": "stderr",
     "output_type": "stream",
     "text": [
      " 78%|███████▊  | 10552/13575 [17:21<04:17, 11.73it/s]"
     ]
    },
    {
     "name": "stdout",
     "output_type": "stream",
     "text": [
      "num, save_index: 10400 - SAVED!\n",
      "1760\n"
     ]
    },
    {
     "name": "stderr",
     "output_type": "stream",
     "text": [
      " 78%|███████▊  | 10653/13575 [17:31<05:16,  9.23it/s]"
     ]
    },
    {
     "name": "stdout",
     "output_type": "stream",
     "text": [
      "num, save_index: 10500 - SAVED!\n",
      "1772\n"
     ]
    },
    {
     "name": "stderr",
     "output_type": "stream",
     "text": [
      " 79%|███████▉  | 10755/13575 [17:41<04:20, 10.83it/s]"
     ]
    },
    {
     "name": "stdout",
     "output_type": "stream",
     "text": [
      "num, save_index: 10600 - SAVED!\n",
      "1791\n"
     ]
    },
    {
     "name": "stderr",
     "output_type": "stream",
     "text": [
      " 80%|███████▉  | 10856/13575 [17:53<05:26,  8.33it/s]"
     ]
    },
    {
     "name": "stdout",
     "output_type": "stream",
     "text": [
      "num, save_index: 10700 - SAVED!\n",
      "1813\n"
     ]
    },
    {
     "name": "stderr",
     "output_type": "stream",
     "text": [
      " 81%|████████  | 10957/13575 [18:01<05:27,  7.99it/s]"
     ]
    },
    {
     "name": "stdout",
     "output_type": "stream",
     "text": [
      "num, save_index: 10800 - SAVED!\n",
      "1831\n"
     ]
    },
    {
     "name": "stderr",
     "output_type": "stream",
     "text": [
      " 81%|████████▏ | 11060/13575 [18:12<04:11, 10.02it/s]"
     ]
    },
    {
     "name": "stdout",
     "output_type": "stream",
     "text": [
      "num, save_index: 10900 - SAVED!\n",
      "1850\n"
     ]
    },
    {
     "name": "stderr",
     "output_type": "stream",
     "text": [
      " 82%|████████▏ | 11159/13575 [18:22<04:01, 10.00it/s]"
     ]
    },
    {
     "name": "stdout",
     "output_type": "stream",
     "text": [
      "num, save_index: 11000 - SAVED!\n",
      "1867\n"
     ]
    },
    {
     "name": "stderr",
     "output_type": "stream",
     "text": [
      " 83%|████████▎ | 11260/13575 [18:31<03:25, 11.28it/s]"
     ]
    },
    {
     "name": "stdout",
     "output_type": "stream",
     "text": [
      "num, save_index: 11100 - SAVED!\n",
      "1882\n"
     ]
    },
    {
     "name": "stderr",
     "output_type": "stream",
     "text": [
      " 84%|████████▎ | 11360/13575 [18:40<03:40, 10.06it/s]"
     ]
    },
    {
     "name": "stdout",
     "output_type": "stream",
     "text": [
      "num, save_index: 11200 - SAVED!\n",
      "1898\n"
     ]
    },
    {
     "name": "stderr",
     "output_type": "stream",
     "text": [
      " 84%|████████▍ | 11461/13575 [18:50<02:42, 13.01it/s]"
     ]
    },
    {
     "name": "stdout",
     "output_type": "stream",
     "text": [
      "num, save_index: 11300 - SAVED!\n",
      "1910\n"
     ]
    },
    {
     "name": "stderr",
     "output_type": "stream",
     "text": [
      " 85%|████████▌ | 11561/13575 [19:00<03:49,  8.79it/s]"
     ]
    },
    {
     "name": "stdout",
     "output_type": "stream",
     "text": [
      "num, save_index: 11400 - SAVED!\n",
      "1935\n"
     ]
    },
    {
     "name": "stderr",
     "output_type": "stream",
     "text": [
      " 86%|████████▌ | 11659/13575 [19:08<02:39, 12.04it/s]"
     ]
    },
    {
     "name": "stdout",
     "output_type": "stream",
     "text": [
      "num, save_index: 11500 - SAVED!\n",
      "1948\n"
     ]
    },
    {
     "name": "stderr",
     "output_type": "stream",
     "text": [
      " 87%|████████▋ | 11764/13575 [19:18<02:18, 13.04it/s]"
     ]
    },
    {
     "name": "stdout",
     "output_type": "stream",
     "text": [
      "num, save_index: 11600 - SAVED!\n",
      "1963\n"
     ]
    },
    {
     "name": "stderr",
     "output_type": "stream",
     "text": [
      " 87%|████████▋ | 11865/13575 [19:28<03:21,  8.49it/s]"
     ]
    },
    {
     "name": "stdout",
     "output_type": "stream",
     "text": [
      "num, save_index: 11700 - SAVED!\n",
      "1980\n"
     ]
    },
    {
     "name": "stderr",
     "output_type": "stream",
     "text": [
      " 88%|████████▊ | 11963/13575 [19:37<02:36, 10.28it/s]"
     ]
    },
    {
     "name": "stdout",
     "output_type": "stream",
     "text": [
      "num, save_index: 11800 - SAVED!\n",
      "1994\n"
     ]
    },
    {
     "name": "stderr",
     "output_type": "stream",
     "text": [
      " 89%|████████▉ | 12063/13575 [19:48<03:16,  7.70it/s]"
     ]
    },
    {
     "name": "stdout",
     "output_type": "stream",
     "text": [
      "num, save_index: 11900 - SAVED!\n",
      "2008\n"
     ]
    },
    {
     "name": "stderr",
     "output_type": "stream",
     "text": [
      " 90%|████████▉ | 12164/13575 [19:58<02:59,  7.85it/s]"
     ]
    },
    {
     "name": "stdout",
     "output_type": "stream",
     "text": [
      "num, save_index: 12000 - SAVED!\n",
      "2018\n"
     ]
    },
    {
     "name": "stderr",
     "output_type": "stream",
     "text": [
      " 90%|█████████ | 12265/13575 [20:08<02:11,  9.95it/s]"
     ]
    },
    {
     "name": "stdout",
     "output_type": "stream",
     "text": [
      "num, save_index: 12100 - SAVED!\n",
      "2035\n"
     ]
    },
    {
     "name": "stderr",
     "output_type": "stream",
     "text": [
      " 91%|█████████ | 12368/13575 [20:17<01:27, 13.73it/s]"
     ]
    },
    {
     "name": "stdout",
     "output_type": "stream",
     "text": [
      "num, save_index: 12200 - SAVED!\n",
      "2049\n"
     ]
    },
    {
     "name": "stderr",
     "output_type": "stream",
     "text": [
      " 92%|█████████▏| 12467/13575 [20:28<02:07,  8.70it/s]"
     ]
    },
    {
     "name": "stdout",
     "output_type": "stream",
     "text": [
      "num, save_index: 12300 - SAVED!\n",
      "2069\n"
     ]
    },
    {
     "name": "stderr",
     "output_type": "stream",
     "text": [
      " 93%|█████████▎| 12568/13575 [20:38<01:39, 10.14it/s]"
     ]
    },
    {
     "name": "stdout",
     "output_type": "stream",
     "text": [
      "num, save_index: 12400 - SAVED!\n",
      "2078\n"
     ]
    },
    {
     "name": "stderr",
     "output_type": "stream",
     "text": [
      " 93%|█████████▎| 12669/13575 [20:48<01:48,  8.32it/s]"
     ]
    },
    {
     "name": "stdout",
     "output_type": "stream",
     "text": [
      "num, save_index: 12500 - SAVED!\n",
      "2092\n"
     ]
    },
    {
     "name": "stderr",
     "output_type": "stream",
     "text": [
      " 94%|█████████▍| 12771/13575 [20:58<01:23,  9.59it/s]"
     ]
    },
    {
     "name": "stdout",
     "output_type": "stream",
     "text": [
      "num, save_index: 12600 - SAVED!\n",
      "2107\n"
     ]
    },
    {
     "name": "stderr",
     "output_type": "stream",
     "text": [
      " 95%|█████████▍| 12875/13575 [21:08<00:59, 11.78it/s]"
     ]
    },
    {
     "name": "stdout",
     "output_type": "stream",
     "text": [
      "num, save_index: 12700 - SAVED!\n",
      "2122\n"
     ]
    },
    {
     "name": "stderr",
     "output_type": "stream",
     "text": [
      " 96%|█████████▌| 12974/13575 [21:17<00:52, 11.38it/s]"
     ]
    },
    {
     "name": "stdout",
     "output_type": "stream",
     "text": [
      "num, save_index: 12800 - SAVED!\n",
      "2135\n"
     ]
    },
    {
     "name": "stderr",
     "output_type": "stream",
     "text": [
      " 96%|█████████▋| 13077/13575 [21:27<00:58,  8.53it/s]"
     ]
    },
    {
     "name": "stdout",
     "output_type": "stream",
     "text": [
      "num, save_index: 12900 - SAVED!\n",
      "2157\n"
     ]
    },
    {
     "name": "stderr",
     "output_type": "stream",
     "text": [
      " 97%|█████████▋| 13178/13575 [21:37<00:37, 10.62it/s]"
     ]
    },
    {
     "name": "stdout",
     "output_type": "stream",
     "text": [
      "num, save_index: 13000 - SAVED!\n",
      "2171\n"
     ]
    },
    {
     "name": "stderr",
     "output_type": "stream",
     "text": [
      " 98%|█████████▊| 13280/13575 [21:48<00:29, 10.10it/s]"
     ]
    },
    {
     "name": "stdout",
     "output_type": "stream",
     "text": [
      "num, save_index: 13100 - SAVED!\n",
      "2188\n"
     ]
    },
    {
     "name": "stderr",
     "output_type": "stream",
     "text": [
      " 99%|█████████▊| 13382/13575 [21:58<00:16, 11.57it/s]"
     ]
    },
    {
     "name": "stdout",
     "output_type": "stream",
     "text": [
      "num, save_index: 13200 - SAVED!\n",
      "2200\n"
     ]
    },
    {
     "name": "stderr",
     "output_type": "stream",
     "text": [
      " 99%|█████████▉| 13486/13575 [22:09<00:09,  9.54it/s]"
     ]
    },
    {
     "name": "stdout",
     "output_type": "stream",
     "text": [
      "num, save_index: 13300 - SAVED!\n",
      "2220\n"
     ]
    },
    {
     "name": "stderr",
     "output_type": "stream",
     "text": [
      "100%|██████████| 13575/13575 [22:18<00:00, 10.14it/s]\n"
     ]
    },
    {
     "name": "stdout",
     "output_type": "stream",
     "text": [
      "Corruption done and saved to: data/corruption_dict/num.pkl\n",
      "Total corruption_count = 2152\n",
      "Corruption: ent\n"
     ]
    },
    {
     "name": "stderr",
     "output_type": "stream",
     "text": [
      "  1%|          | 103/13575 [00:11<16:39, 13.48it/s]"
     ]
    },
    {
     "name": "stdout",
     "output_type": "stream",
     "text": [
      "ent, save_index: 100 - SAVED!\n",
      "55\n"
     ]
    },
    {
     "name": "stderr",
     "output_type": "stream",
     "text": [
      "  1%|▏         | 201/13575 [00:21<26:07,  8.53it/s]"
     ]
    },
    {
     "name": "stdout",
     "output_type": "stream",
     "text": [
      "ent, save_index: 200 - SAVED!\n",
      "110\n"
     ]
    },
    {
     "name": "stderr",
     "output_type": "stream",
     "text": [
      "  2%|▏         | 302/13575 [00:31<20:22, 10.86it/s]"
     ]
    },
    {
     "name": "stdout",
     "output_type": "stream",
     "text": [
      "ent, save_index: 300 - SAVED!\n",
      "166\n"
     ]
    },
    {
     "name": "stderr",
     "output_type": "stream",
     "text": [
      "  3%|▎         | 400/13575 [00:43<23:43,  9.26it/s]"
     ]
    },
    {
     "name": "stdout",
     "output_type": "stream",
     "text": [
      "ent, save_index: 400 - SAVED!\n",
      "230\n"
     ]
    },
    {
     "name": "stderr",
     "output_type": "stream",
     "text": [
      "  4%|▎         | 502/13575 [00:54<23:46,  9.16it/s]"
     ]
    },
    {
     "name": "stdout",
     "output_type": "stream",
     "text": [
      "ent, save_index: 500 - SAVED!\n",
      "279\n"
     ]
    },
    {
     "name": "stderr",
     "output_type": "stream",
     "text": [
      "  4%|▍         | 601/13575 [01:04<23:14,  9.30it/s]"
     ]
    },
    {
     "name": "stdout",
     "output_type": "stream",
     "text": [
      "ent, save_index: 600 - SAVED!\n",
      "328\n"
     ]
    },
    {
     "name": "stderr",
     "output_type": "stream",
     "text": [
      "  5%|▌         | 701/13575 [01:16<22:49,  9.40it/s]"
     ]
    },
    {
     "name": "stdout",
     "output_type": "stream",
     "text": [
      "ent, save_index: 700 - SAVED!\n",
      "384\n"
     ]
    },
    {
     "name": "stderr",
     "output_type": "stream",
     "text": [
      "  6%|▌         | 801/13575 [01:28<25:40,  8.29it/s]"
     ]
    },
    {
     "name": "stdout",
     "output_type": "stream",
     "text": [
      "ent, save_index: 800 - SAVED!\n",
      "439\n"
     ]
    },
    {
     "name": "stderr",
     "output_type": "stream",
     "text": [
      "  7%|▋         | 900/13575 [01:40<32:00,  6.60it/s]"
     ]
    },
    {
     "name": "stdout",
     "output_type": "stream",
     "text": [
      "ent, save_index: 900 - SAVED!\n",
      "489\n"
     ]
    },
    {
     "name": "stderr",
     "output_type": "stream",
     "text": [
      "  7%|▋         | 1000/13575 [01:50<19:03, 11.00it/s]"
     ]
    },
    {
     "name": "stdout",
     "output_type": "stream",
     "text": [
      "ent, save_index: 1000 - SAVED!\n",
      "547\n"
     ]
    },
    {
     "name": "stderr",
     "output_type": "stream",
     "text": [
      "  8%|▊         | 1100/13575 [02:01<24:19,  8.55it/s]"
     ]
    },
    {
     "name": "stdout",
     "output_type": "stream",
     "text": [
      "ent, save_index: 1100 - SAVED!\n",
      "601\n"
     ]
    },
    {
     "name": "stderr",
     "output_type": "stream",
     "text": [
      "  9%|▉         | 1200/13575 [02:12<23:46,  8.67it/s]"
     ]
    },
    {
     "name": "stdout",
     "output_type": "stream",
     "text": [
      "ent, save_index: 1200 - SAVED!\n",
      "659\n"
     ]
    },
    {
     "name": "stderr",
     "output_type": "stream",
     "text": [
      " 10%|▉         | 1300/13575 [02:24<22:10,  9.23it/s]"
     ]
    },
    {
     "name": "stdout",
     "output_type": "stream",
     "text": [
      "ent, save_index: 1300 - SAVED!\n",
      "718\n"
     ]
    },
    {
     "name": "stderr",
     "output_type": "stream",
     "text": [
      " 10%|█         | 1402/13575 [02:36<20:08, 10.07it/s]"
     ]
    },
    {
     "name": "stdout",
     "output_type": "stream",
     "text": [
      "ent, save_index: 1400 - SAVED!\n",
      "772\n"
     ]
    },
    {
     "name": "stderr",
     "output_type": "stream",
     "text": [
      " 11%|█         | 1501/13575 [02:47<24:16,  8.29it/s]"
     ]
    },
    {
     "name": "stdout",
     "output_type": "stream",
     "text": [
      "ent, save_index: 1500 - SAVED!\n",
      "827\n"
     ]
    },
    {
     "name": "stderr",
     "output_type": "stream",
     "text": [
      " 12%|█▏        | 1601/13575 [02:58<22:03,  9.05it/s]"
     ]
    },
    {
     "name": "stdout",
     "output_type": "stream",
     "text": [
      "ent, save_index: 1600 - SAVED!\n",
      "889\n"
     ]
    },
    {
     "name": "stderr",
     "output_type": "stream",
     "text": [
      " 13%|█▎        | 1699/13575 [03:09<19:03, 10.38it/s]"
     ]
    },
    {
     "name": "stdout",
     "output_type": "stream",
     "text": [
      "ent, save_index: 1700 - SAVED!\n",
      "935\n"
     ]
    },
    {
     "name": "stderr",
     "output_type": "stream",
     "text": [
      " 13%|█▎        | 1801/13575 [03:21<27:45,  7.07it/s]"
     ]
    },
    {
     "name": "stdout",
     "output_type": "stream",
     "text": [
      "ent, save_index: 1800 - SAVED!\n",
      "994\n"
     ]
    },
    {
     "name": "stderr",
     "output_type": "stream",
     "text": [
      " 14%|█▍        | 1902/13575 [03:32<22:14,  8.75it/s]"
     ]
    },
    {
     "name": "stdout",
     "output_type": "stream",
     "text": [
      "ent, save_index: 1900 - SAVED!\n",
      "1044\n"
     ]
    },
    {
     "name": "stderr",
     "output_type": "stream",
     "text": [
      " 15%|█▍        | 2000/13575 [03:43<23:04,  8.36it/s]"
     ]
    },
    {
     "name": "stdout",
     "output_type": "stream",
     "text": [
      "ent, save_index: 2000 - SAVED!\n",
      "1093\n"
     ]
    },
    {
     "name": "stderr",
     "output_type": "stream",
     "text": [
      " 15%|█▌        | 2101/13575 [03:55<23:33,  8.12it/s]"
     ]
    },
    {
     "name": "stdout",
     "output_type": "stream",
     "text": [
      "ent, save_index: 2100 - SAVED!\n",
      "1139\n"
     ]
    },
    {
     "name": "stderr",
     "output_type": "stream",
     "text": [
      " 16%|█▌        | 2202/13575 [04:05<18:00, 10.53it/s]"
     ]
    },
    {
     "name": "stdout",
     "output_type": "stream",
     "text": [
      "ent, save_index: 2200 - SAVED!\n",
      "1192\n"
     ]
    },
    {
     "name": "stderr",
     "output_type": "stream",
     "text": [
      " 17%|█▋        | 2301/13575 [04:16<25:35,  7.34it/s]"
     ]
    },
    {
     "name": "stdout",
     "output_type": "stream",
     "text": [
      "ent, save_index: 2300 - SAVED!\n",
      "1247\n"
     ]
    },
    {
     "name": "stderr",
     "output_type": "stream",
     "text": [
      " 18%|█▊        | 2401/13575 [04:27<22:05,  8.43it/s]"
     ]
    },
    {
     "name": "stdout",
     "output_type": "stream",
     "text": [
      "ent, save_index: 2400 - SAVED!\n",
      "1299\n"
     ]
    },
    {
     "name": "stderr",
     "output_type": "stream",
     "text": [
      " 18%|█▊        | 2501/13575 [04:38<27:27,  6.72it/s]"
     ]
    },
    {
     "name": "stdout",
     "output_type": "stream",
     "text": [
      "ent, save_index: 2500 - SAVED!\n",
      "1348\n"
     ]
    },
    {
     "name": "stderr",
     "output_type": "stream",
     "text": [
      " 19%|█▉        | 2600/13575 [04:49<21:09,  8.64it/s]"
     ]
    },
    {
     "name": "stdout",
     "output_type": "stream",
     "text": [
      "ent, save_index: 2600 - SAVED!\n",
      "1404\n"
     ]
    },
    {
     "name": "stderr",
     "output_type": "stream",
     "text": [
      " 20%|█▉        | 2699/13575 [05:00<21:22,  8.48it/s]"
     ]
    },
    {
     "name": "stdout",
     "output_type": "stream",
     "text": [
      "ent, save_index: 2700 - SAVED!\n",
      "1453\n"
     ]
    },
    {
     "name": "stderr",
     "output_type": "stream",
     "text": [
      " 21%|██        | 2801/13575 [05:11<21:47,  8.24it/s]"
     ]
    },
    {
     "name": "stdout",
     "output_type": "stream",
     "text": [
      "ent, save_index: 2800 - SAVED!\n",
      "1507\n"
     ]
    },
    {
     "name": "stderr",
     "output_type": "stream",
     "text": [
      " 21%|██▏       | 2900/13575 [05:22<19:47,  8.99it/s]"
     ]
    },
    {
     "name": "stdout",
     "output_type": "stream",
     "text": [
      "ent, save_index: 2900 - SAVED!\n",
      "1569\n"
     ]
    },
    {
     "name": "stderr",
     "output_type": "stream",
     "text": [
      " 22%|██▏       | 3002/13575 [05:33<14:30, 12.14it/s]"
     ]
    },
    {
     "name": "stdout",
     "output_type": "stream",
     "text": [
      "ent, save_index: 3000 - SAVED!\n",
      "1623\n"
     ]
    },
    {
     "name": "stderr",
     "output_type": "stream",
     "text": [
      " 23%|██▎       | 3101/13575 [05:44<22:05,  7.90it/s]"
     ]
    },
    {
     "name": "stdout",
     "output_type": "stream",
     "text": [
      "ent, save_index: 3100 - SAVED!\n",
      "1679\n"
     ]
    },
    {
     "name": "stderr",
     "output_type": "stream",
     "text": [
      " 24%|██▎       | 3200/13575 [05:55<26:41,  6.48it/s]"
     ]
    },
    {
     "name": "stdout",
     "output_type": "stream",
     "text": [
      "ent, save_index: 3200 - SAVED!\n",
      "1735\n"
     ]
    },
    {
     "name": "stderr",
     "output_type": "stream",
     "text": [
      " 24%|██▍       | 3300/13575 [06:05<18:47,  9.11it/s]"
     ]
    },
    {
     "name": "stdout",
     "output_type": "stream",
     "text": [
      "ent, save_index: 3300 - SAVED!\n",
      "1783\n"
     ]
    },
    {
     "name": "stderr",
     "output_type": "stream",
     "text": [
      " 25%|██▌       | 3401/13575 [06:16<18:47,  9.03it/s]"
     ]
    },
    {
     "name": "stdout",
     "output_type": "stream",
     "text": [
      "ent, save_index: 3400 - SAVED!\n",
      "1838\n"
     ]
    },
    {
     "name": "stderr",
     "output_type": "stream",
     "text": [
      " 26%|██▌       | 3501/13575 [06:28<18:03,  9.29it/s]"
     ]
    },
    {
     "name": "stdout",
     "output_type": "stream",
     "text": [
      "ent, save_index: 3500 - SAVED!\n",
      "1899\n"
     ]
    },
    {
     "name": "stderr",
     "output_type": "stream",
     "text": [
      " 27%|██▋       | 3600/13575 [06:40<22:07,  7.52it/s]"
     ]
    },
    {
     "name": "stdout",
     "output_type": "stream",
     "text": [
      "ent, save_index: 3600 - SAVED!\n",
      "1962\n"
     ]
    },
    {
     "name": "stderr",
     "output_type": "stream",
     "text": [
      " 27%|██▋       | 3700/13575 [06:50<15:37, 10.54it/s]"
     ]
    },
    {
     "name": "stdout",
     "output_type": "stream",
     "text": [
      "ent, save_index: 3700 - SAVED!\n",
      "2010\n"
     ]
    },
    {
     "name": "stderr",
     "output_type": "stream",
     "text": [
      " 28%|██▊       | 3801/13575 [07:01<16:38,  9.79it/s]"
     ]
    },
    {
     "name": "stdout",
     "output_type": "stream",
     "text": [
      "ent, save_index: 3800 - SAVED!\n",
      "2070\n"
     ]
    },
    {
     "name": "stderr",
     "output_type": "stream",
     "text": [
      " 29%|██▊       | 3900/13575 [07:13<21:03,  7.66it/s]"
     ]
    },
    {
     "name": "stdout",
     "output_type": "stream",
     "text": [
      "ent, save_index: 3900 - SAVED!\n",
      "2119\n"
     ]
    },
    {
     "name": "stderr",
     "output_type": "stream",
     "text": [
      " 29%|██▉       | 4001/13575 [07:24<20:16,  7.87it/s]"
     ]
    },
    {
     "name": "stdout",
     "output_type": "stream",
     "text": [
      "ent, save_index: 4000 - SAVED!\n",
      "2172\n"
     ]
    },
    {
     "name": "stderr",
     "output_type": "stream",
     "text": [
      " 30%|███       | 4101/13575 [07:35<18:03,  8.74it/s]"
     ]
    },
    {
     "name": "stdout",
     "output_type": "stream",
     "text": [
      "ent, save_index: 4100 - SAVED!\n",
      "2226\n"
     ]
    },
    {
     "name": "stderr",
     "output_type": "stream",
     "text": [
      " 31%|███       | 4200/13575 [07:45<12:55, 12.08it/s]"
     ]
    },
    {
     "name": "stdout",
     "output_type": "stream",
     "text": [
      "ent, save_index: 4200 - SAVED!\n",
      "2281\n"
     ]
    },
    {
     "name": "stderr",
     "output_type": "stream",
     "text": [
      " 32%|███▏      | 4301/13575 [07:57<17:37,  8.77it/s]"
     ]
    },
    {
     "name": "stdout",
     "output_type": "stream",
     "text": [
      "ent, save_index: 4300 - SAVED!\n",
      "2340\n"
     ]
    },
    {
     "name": "stderr",
     "output_type": "stream",
     "text": [
      " 32%|███▏      | 4402/13575 [08:08<15:18,  9.99it/s]"
     ]
    },
    {
     "name": "stdout",
     "output_type": "stream",
     "text": [
      "ent, save_index: 4400 - SAVED!\n",
      "2397\n"
     ]
    },
    {
     "name": "stderr",
     "output_type": "stream",
     "text": [
      " 33%|███▎      | 4499/13575 [08:18<14:40, 10.31it/s]"
     ]
    },
    {
     "name": "stdout",
     "output_type": "stream",
     "text": [
      "ent, save_index: 4500 - SAVED!\n",
      "2448\n"
     ]
    },
    {
     "name": "stderr",
     "output_type": "stream",
     "text": [
      " 34%|███▍      | 4600/13575 [08:30<15:46,  9.49it/s]"
     ]
    },
    {
     "name": "stdout",
     "output_type": "stream",
     "text": [
      "ent, save_index: 4600 - SAVED!\n",
      "2502\n"
     ]
    },
    {
     "name": "stderr",
     "output_type": "stream",
     "text": [
      " 35%|███▍      | 4702/13575 [08:42<16:47,  8.80it/s]"
     ]
    },
    {
     "name": "stdout",
     "output_type": "stream",
     "text": [
      "ent, save_index: 4700 - SAVED!\n",
      "2559\n"
     ]
    },
    {
     "name": "stderr",
     "output_type": "stream",
     "text": [
      " 35%|███▌      | 4801/13575 [08:53<17:54,  8.17it/s]"
     ]
    },
    {
     "name": "stdout",
     "output_type": "stream",
     "text": [
      "ent, save_index: 4800 - SAVED!\n",
      "2613\n"
     ]
    },
    {
     "name": "stderr",
     "output_type": "stream",
     "text": [
      " 36%|███▌      | 4901/13575 [09:04<13:19, 10.85it/s]"
     ]
    },
    {
     "name": "stdout",
     "output_type": "stream",
     "text": [
      "ent, save_index: 4900 - SAVED!\n",
      "2670\n"
     ]
    },
    {
     "name": "stderr",
     "output_type": "stream",
     "text": [
      " 37%|███▋      | 5002/13575 [09:17<14:14, 10.04it/s]"
     ]
    },
    {
     "name": "stdout",
     "output_type": "stream",
     "text": [
      "ent, save_index: 5000 - SAVED!\n",
      "2719\n"
     ]
    },
    {
     "name": "stderr",
     "output_type": "stream",
     "text": [
      " 38%|███▊      | 5101/13575 [09:27<13:07, 10.77it/s]"
     ]
    },
    {
     "name": "stdout",
     "output_type": "stream",
     "text": [
      "ent, save_index: 5100 - SAVED!\n",
      "2771\n"
     ]
    },
    {
     "name": "stderr",
     "output_type": "stream",
     "text": [
      " 38%|███▊      | 5200/13575 [09:39<16:07,  8.66it/s]"
     ]
    },
    {
     "name": "stdout",
     "output_type": "stream",
     "text": [
      "ent, save_index: 5200 - SAVED!\n",
      "2828\n"
     ]
    },
    {
     "name": "stderr",
     "output_type": "stream",
     "text": [
      " 39%|███▉      | 5300/13575 [09:50<16:02,  8.60it/s]"
     ]
    },
    {
     "name": "stdout",
     "output_type": "stream",
     "text": [
      "ent, save_index: 5300 - SAVED!\n",
      "2882\n"
     ]
    },
    {
     "name": "stderr",
     "output_type": "stream",
     "text": [
      " 40%|███▉      | 5401/13575 [10:02<17:19,  7.86it/s]"
     ]
    },
    {
     "name": "stdout",
     "output_type": "stream",
     "text": [
      "ent, save_index: 5400 - SAVED!\n",
      "2938\n"
     ]
    },
    {
     "name": "stderr",
     "output_type": "stream",
     "text": [
      " 41%|████      | 5501/13575 [10:13<11:57, 11.25it/s]"
     ]
    },
    {
     "name": "stdout",
     "output_type": "stream",
     "text": [
      "ent, save_index: 5500 - SAVED!\n",
      "2996\n"
     ]
    },
    {
     "name": "stderr",
     "output_type": "stream",
     "text": [
      " 41%|████▏     | 5600/13575 [10:25<22:30,  5.91it/s]"
     ]
    },
    {
     "name": "stdout",
     "output_type": "stream",
     "text": [
      "ent, save_index: 5600 - SAVED!\n",
      "3047\n"
     ]
    },
    {
     "name": "stderr",
     "output_type": "stream",
     "text": [
      " 42%|████▏     | 5700/13575 [10:35<14:52,  8.82it/s]"
     ]
    },
    {
     "name": "stdout",
     "output_type": "stream",
     "text": [
      "ent, save_index: 5700 - SAVED!\n",
      "3102\n"
     ]
    },
    {
     "name": "stderr",
     "output_type": "stream",
     "text": [
      " 43%|████▎     | 5800/13575 [10:47<14:30,  8.93it/s]"
     ]
    },
    {
     "name": "stdout",
     "output_type": "stream",
     "text": [
      "ent, save_index: 5800 - SAVED!\n",
      "3155\n"
     ]
    },
    {
     "name": "stderr",
     "output_type": "stream",
     "text": [
      " 43%|████▎     | 5900/13575 [10:58<14:32,  8.79it/s]"
     ]
    },
    {
     "name": "stdout",
     "output_type": "stream",
     "text": [
      "ent, save_index: 5900 - SAVED!\n",
      "3207\n"
     ]
    },
    {
     "name": "stderr",
     "output_type": "stream",
     "text": [
      " 44%|████▍     | 6001/13575 [11:10<13:54,  9.07it/s]"
     ]
    },
    {
     "name": "stdout",
     "output_type": "stream",
     "text": [
      "ent, save_index: 6000 - SAVED!\n",
      "3251\n"
     ]
    },
    {
     "name": "stderr",
     "output_type": "stream",
     "text": [
      " 45%|████▍     | 6100/13575 [11:20<18:47,  6.63it/s]"
     ]
    },
    {
     "name": "stdout",
     "output_type": "stream",
     "text": [
      "ent, save_index: 6100 - SAVED!\n",
      "3309\n"
     ]
    },
    {
     "name": "stderr",
     "output_type": "stream",
     "text": [
      " 46%|████▌     | 6200/13575 [11:31<12:52,  9.54it/s]"
     ]
    },
    {
     "name": "stdout",
     "output_type": "stream",
     "text": [
      "ent, save_index: 6200 - SAVED!\n",
      "3354\n"
     ]
    },
    {
     "name": "stderr",
     "output_type": "stream",
     "text": [
      " 46%|████▋     | 6300/13575 [11:42<15:24,  7.87it/s]"
     ]
    },
    {
     "name": "stdout",
     "output_type": "stream",
     "text": [
      "ent, save_index: 6300 - SAVED!\n",
      "3408\n"
     ]
    },
    {
     "name": "stderr",
     "output_type": "stream",
     "text": [
      " 47%|████▋     | 6401/13575 [11:54<14:34,  8.20it/s]"
     ]
    },
    {
     "name": "stdout",
     "output_type": "stream",
     "text": [
      "ent, save_index: 6400 - SAVED!\n",
      "3460\n"
     ]
    },
    {
     "name": "stderr",
     "output_type": "stream",
     "text": [
      " 48%|████▊     | 6501/13575 [12:06<16:53,  6.98it/s]"
     ]
    },
    {
     "name": "stdout",
     "output_type": "stream",
     "text": [
      "ent, save_index: 6500 - SAVED!\n",
      "3518\n"
     ]
    },
    {
     "name": "stderr",
     "output_type": "stream",
     "text": [
      " 49%|████▊     | 6601/13575 [12:17<13:43,  8.47it/s]"
     ]
    },
    {
     "name": "stdout",
     "output_type": "stream",
     "text": [
      "ent, save_index: 6600 - SAVED!\n",
      "3574\n"
     ]
    },
    {
     "name": "stderr",
     "output_type": "stream",
     "text": [
      " 49%|████▉     | 6700/13575 [12:28<13:16,  8.63it/s]"
     ]
    },
    {
     "name": "stdout",
     "output_type": "stream",
     "text": [
      "ent, save_index: 6700 - SAVED!\n",
      "3625\n"
     ]
    },
    {
     "name": "stderr",
     "output_type": "stream",
     "text": [
      " 50%|█████     | 6801/13575 [12:39<16:29,  6.85it/s]"
     ]
    },
    {
     "name": "stdout",
     "output_type": "stream",
     "text": [
      "ent, save_index: 6800 - SAVED!\n",
      "3680\n"
     ]
    },
    {
     "name": "stderr",
     "output_type": "stream",
     "text": [
      " 51%|█████     | 6900/13575 [12:51<12:37,  8.81it/s]"
     ]
    },
    {
     "name": "stdout",
     "output_type": "stream",
     "text": [
      "ent, save_index: 6900 - SAVED!\n",
      "3731\n"
     ]
    },
    {
     "name": "stderr",
     "output_type": "stream",
     "text": [
      " 52%|█████▏    | 7000/13575 [13:03<14:49,  7.39it/s]"
     ]
    },
    {
     "name": "stdout",
     "output_type": "stream",
     "text": [
      "ent, save_index: 7000 - SAVED!\n",
      "3787\n"
     ]
    },
    {
     "name": "stderr",
     "output_type": "stream",
     "text": [
      " 52%|█████▏    | 7100/13575 [13:15<14:49,  7.28it/s]"
     ]
    },
    {
     "name": "stdout",
     "output_type": "stream",
     "text": [
      "ent, save_index: 7100 - SAVED!\n",
      "3847\n"
     ]
    },
    {
     "name": "stderr",
     "output_type": "stream",
     "text": [
      " 53%|█████▎    | 7200/13575 [13:27<13:26,  7.90it/s]"
     ]
    },
    {
     "name": "stdout",
     "output_type": "stream",
     "text": [
      "ent, save_index: 7200 - SAVED!\n",
      "3898\n"
     ]
    },
    {
     "name": "stderr",
     "output_type": "stream",
     "text": [
      " 54%|█████▍    | 7300/13575 [13:39<20:09,  5.19it/s]"
     ]
    },
    {
     "name": "stdout",
     "output_type": "stream",
     "text": [
      "ent, save_index: 7300 - SAVED!\n",
      "3962\n"
     ]
    },
    {
     "name": "stderr",
     "output_type": "stream",
     "text": [
      " 55%|█████▍    | 7401/13575 [13:50<14:20,  7.17it/s]"
     ]
    },
    {
     "name": "stdout",
     "output_type": "stream",
     "text": [
      "ent, save_index: 7400 - SAVED!\n",
      "4017\n"
     ]
    },
    {
     "name": "stderr",
     "output_type": "stream",
     "text": [
      " 55%|█████▌    | 7500/13575 [14:02<14:13,  7.12it/s]"
     ]
    },
    {
     "name": "stdout",
     "output_type": "stream",
     "text": [
      "ent, save_index: 7500 - SAVED!\n",
      "4072\n"
     ]
    },
    {
     "name": "stderr",
     "output_type": "stream",
     "text": [
      " 56%|█████▌    | 7602/13575 [14:14<09:46, 10.18it/s]"
     ]
    },
    {
     "name": "stdout",
     "output_type": "stream",
     "text": [
      "ent, save_index: 7600 - SAVED!\n",
      "4130\n"
     ]
    },
    {
     "name": "stderr",
     "output_type": "stream",
     "text": [
      " 57%|█████▋    | 7699/13575 [14:24<08:06, 12.07it/s]"
     ]
    },
    {
     "name": "stdout",
     "output_type": "stream",
     "text": [
      "ent, save_index: 7700 - SAVED!\n",
      "4189\n"
     ]
    },
    {
     "name": "stderr",
     "output_type": "stream",
     "text": [
      " 57%|█████▋    | 7800/13575 [14:36<11:20,  8.48it/s]"
     ]
    },
    {
     "name": "stdout",
     "output_type": "stream",
     "text": [
      "ent, save_index: 7800 - SAVED!\n",
      "4238\n"
     ]
    },
    {
     "name": "stderr",
     "output_type": "stream",
     "text": [
      " 58%|█████▊    | 7900/13575 [14:47<09:31,  9.93it/s]"
     ]
    },
    {
     "name": "stdout",
     "output_type": "stream",
     "text": [
      "ent, save_index: 7900 - SAVED!\n",
      "4286\n"
     ]
    },
    {
     "name": "stderr",
     "output_type": "stream",
     "text": [
      " 59%|█████▉    | 8002/13575 [15:00<09:05, 10.21it/s]"
     ]
    },
    {
     "name": "stdout",
     "output_type": "stream",
     "text": [
      "ent, save_index: 8000 - SAVED!\n",
      "4344\n"
     ]
    },
    {
     "name": "stderr",
     "output_type": "stream",
     "text": [
      " 60%|█████▉    | 8101/13575 [15:11<10:00,  9.12it/s]"
     ]
    },
    {
     "name": "stdout",
     "output_type": "stream",
     "text": [
      "ent, save_index: 8100 - SAVED!\n",
      "4396\n"
     ]
    },
    {
     "name": "stderr",
     "output_type": "stream",
     "text": [
      " 60%|██████    | 8202/13575 [15:22<10:00,  8.95it/s]"
     ]
    },
    {
     "name": "stdout",
     "output_type": "stream",
     "text": [
      "ent, save_index: 8200 - SAVED!\n",
      "4445\n"
     ]
    },
    {
     "name": "stderr",
     "output_type": "stream",
     "text": [
      " 61%|██████    | 8300/13575 [15:32<12:14,  7.18it/s]"
     ]
    },
    {
     "name": "stdout",
     "output_type": "stream",
     "text": [
      "ent, save_index: 8300 - SAVED!\n",
      "4499\n"
     ]
    },
    {
     "name": "stderr",
     "output_type": "stream",
     "text": [
      " 62%|██████▏   | 8402/13575 [15:44<08:29, 10.15it/s]"
     ]
    },
    {
     "name": "stdout",
     "output_type": "stream",
     "text": [
      "ent, save_index: 8400 - SAVED!\n",
      "4554\n"
     ]
    },
    {
     "name": "stderr",
     "output_type": "stream",
     "text": [
      " 63%|██████▎   | 8500/13575 [15:55<10:44,  7.87it/s]"
     ]
    },
    {
     "name": "stdout",
     "output_type": "stream",
     "text": [
      "ent, save_index: 8500 - SAVED!\n",
      "4613\n"
     ]
    },
    {
     "name": "stderr",
     "output_type": "stream",
     "text": [
      " 63%|██████▎   | 8602/13575 [16:07<11:17,  7.34it/s]"
     ]
    },
    {
     "name": "stdout",
     "output_type": "stream",
     "text": [
      "ent, save_index: 8600 - SAVED!\n",
      "4668\n"
     ]
    },
    {
     "name": "stderr",
     "output_type": "stream",
     "text": [
      " 64%|██████▍   | 8701/13575 [16:18<09:08,  8.88it/s]"
     ]
    },
    {
     "name": "stdout",
     "output_type": "stream",
     "text": [
      "ent, save_index: 8700 - SAVED!\n",
      "4718\n"
     ]
    },
    {
     "name": "stderr",
     "output_type": "stream",
     "text": [
      " 65%|██████▍   | 8800/13575 [16:29<07:45, 10.26it/s]"
     ]
    },
    {
     "name": "stdout",
     "output_type": "stream",
     "text": [
      "ent, save_index: 8800 - SAVED!\n",
      "4763\n"
     ]
    },
    {
     "name": "stderr",
     "output_type": "stream",
     "text": [
      " 66%|██████▌   | 8900/13575 [16:41<10:54,  7.15it/s]"
     ]
    },
    {
     "name": "stdout",
     "output_type": "stream",
     "text": [
      "ent, save_index: 8900 - SAVED!\n",
      "4822\n"
     ]
    },
    {
     "name": "stderr",
     "output_type": "stream",
     "text": [
      " 66%|██████▋   | 9000/13575 [16:52<07:53,  9.66it/s]"
     ]
    },
    {
     "name": "stdout",
     "output_type": "stream",
     "text": [
      "ent, save_index: 9000 - SAVED!\n",
      "4875\n"
     ]
    },
    {
     "name": "stderr",
     "output_type": "stream",
     "text": [
      " 67%|██████▋   | 9100/13575 [17:03<10:22,  7.18it/s]"
     ]
    },
    {
     "name": "stdout",
     "output_type": "stream",
     "text": [
      "ent, save_index: 9100 - SAVED!\n",
      "4928\n"
     ]
    },
    {
     "name": "stderr",
     "output_type": "stream",
     "text": [
      " 68%|██████▊   | 9200/13575 [17:14<09:46,  7.46it/s]"
     ]
    },
    {
     "name": "stdout",
     "output_type": "stream",
     "text": [
      "ent, save_index: 9200 - SAVED!\n",
      "4983\n"
     ]
    },
    {
     "name": "stderr",
     "output_type": "stream",
     "text": [
      " 69%|██████▊   | 9301/13575 [17:25<10:41,  6.66it/s]"
     ]
    },
    {
     "name": "stdout",
     "output_type": "stream",
     "text": [
      "ent, save_index: 9300 - SAVED!\n",
      "5033\n"
     ]
    },
    {
     "name": "stderr",
     "output_type": "stream",
     "text": [
      " 69%|██████▉   | 9399/13575 [17:35<06:18, 11.05it/s]"
     ]
    },
    {
     "name": "stdout",
     "output_type": "stream",
     "text": [
      "ent, save_index: 9400 - SAVED!\n",
      "5088\n"
     ]
    },
    {
     "name": "stderr",
     "output_type": "stream",
     "text": [
      " 70%|██████▉   | 9501/13575 [17:48<08:38,  7.86it/s]"
     ]
    },
    {
     "name": "stdout",
     "output_type": "stream",
     "text": [
      "ent, save_index: 9500 - SAVED!\n",
      "5139\n"
     ]
    },
    {
     "name": "stderr",
     "output_type": "stream",
     "text": [
      " 71%|███████   | 9599/13575 [17:58<06:18, 10.49it/s]"
     ]
    },
    {
     "name": "stdout",
     "output_type": "stream",
     "text": [
      "ent, save_index: 9600 - SAVED!\n",
      "5193\n"
     ]
    },
    {
     "name": "stderr",
     "output_type": "stream",
     "text": [
      " 71%|███████▏  | 9702/13575 [18:08<06:32,  9.86it/s]"
     ]
    },
    {
     "name": "stdout",
     "output_type": "stream",
     "text": [
      "ent, save_index: 9700 - SAVED!\n",
      "5247\n"
     ]
    },
    {
     "name": "stderr",
     "output_type": "stream",
     "text": [
      " 72%|███████▏  | 9800/13575 [18:20<07:20,  8.57it/s]"
     ]
    },
    {
     "name": "stdout",
     "output_type": "stream",
     "text": [
      "ent, save_index: 9800 - SAVED!\n",
      "5310\n"
     ]
    },
    {
     "name": "stderr",
     "output_type": "stream",
     "text": [
      " 73%|███████▎  | 9901/13575 [18:31<06:40,  9.18it/s]"
     ]
    },
    {
     "name": "stdout",
     "output_type": "stream",
     "text": [
      "ent, save_index: 9900 - SAVED!\n",
      "5369\n"
     ]
    },
    {
     "name": "stderr",
     "output_type": "stream",
     "text": [
      " 74%|███████▎  | 10000/13575 [18:43<06:11,  9.61it/s]"
     ]
    },
    {
     "name": "stdout",
     "output_type": "stream",
     "text": [
      "ent, save_index: 10000 - SAVED!\n",
      "5423\n"
     ]
    },
    {
     "name": "stderr",
     "output_type": "stream",
     "text": [
      " 74%|███████▍  | 10101/13575 [18:54<07:15,  7.97it/s]"
     ]
    },
    {
     "name": "stdout",
     "output_type": "stream",
     "text": [
      "ent, save_index: 10100 - SAVED!\n",
      "5482\n"
     ]
    },
    {
     "name": "stderr",
     "output_type": "stream",
     "text": [
      " 75%|███████▌  | 10200/13575 [19:05<05:18, 10.59it/s]"
     ]
    },
    {
     "name": "stdout",
     "output_type": "stream",
     "text": [
      "ent, save_index: 10200 - SAVED!\n",
      "5534\n"
     ]
    },
    {
     "name": "stderr",
     "output_type": "stream",
     "text": [
      " 76%|███████▌  | 10301/13575 [19:16<06:12,  8.78it/s]"
     ]
    },
    {
     "name": "stdout",
     "output_type": "stream",
     "text": [
      "ent, save_index: 10300 - SAVED!\n",
      "5590\n"
     ]
    },
    {
     "name": "stderr",
     "output_type": "stream",
     "text": [
      " 77%|███████▋  | 10401/13575 [19:26<04:40, 11.31it/s]"
     ]
    },
    {
     "name": "stdout",
     "output_type": "stream",
     "text": [
      "ent, save_index: 10400 - SAVED!\n",
      "5640\n"
     ]
    },
    {
     "name": "stderr",
     "output_type": "stream",
     "text": [
      " 77%|███████▋  | 10500/13575 [19:37<05:34,  9.19it/s]"
     ]
    },
    {
     "name": "stdout",
     "output_type": "stream",
     "text": [
      "ent, save_index: 10500 - SAVED!\n",
      "5697\n"
     ]
    },
    {
     "name": "stderr",
     "output_type": "stream",
     "text": [
      " 78%|███████▊  | 10600/13575 [19:48<06:51,  7.23it/s]"
     ]
    },
    {
     "name": "stdout",
     "output_type": "stream",
     "text": [
      "ent, save_index: 10600 - SAVED!\n",
      "5747\n"
     ]
    },
    {
     "name": "stderr",
     "output_type": "stream",
     "text": [
      " 79%|███████▉  | 10701/13575 [20:00<07:23,  6.48it/s]"
     ]
    },
    {
     "name": "stdout",
     "output_type": "stream",
     "text": [
      "ent, save_index: 10700 - SAVED!\n",
      "5810\n"
     ]
    },
    {
     "name": "stderr",
     "output_type": "stream",
     "text": [
      " 80%|███████▉  | 10800/13575 [20:12<05:28,  8.45it/s]"
     ]
    },
    {
     "name": "stdout",
     "output_type": "stream",
     "text": [
      "ent, save_index: 10800 - SAVED!\n",
      "5864\n"
     ]
    },
    {
     "name": "stderr",
     "output_type": "stream",
     "text": [
      " 80%|████████  | 10900/13575 [20:24<04:49,  9.24it/s]"
     ]
    },
    {
     "name": "stdout",
     "output_type": "stream",
     "text": [
      "ent, save_index: 10900 - SAVED!\n",
      "5920\n"
     ]
    },
    {
     "name": "stderr",
     "output_type": "stream",
     "text": [
      " 81%|████████  | 11000/13575 [20:34<04:17, 10.02it/s]"
     ]
    },
    {
     "name": "stdout",
     "output_type": "stream",
     "text": [
      "ent, save_index: 11000 - SAVED!\n",
      "5975\n"
     ]
    },
    {
     "name": "stderr",
     "output_type": "stream",
     "text": [
      " 82%|████████▏ | 11102/13575 [20:45<04:25,  9.32it/s]"
     ]
    },
    {
     "name": "stdout",
     "output_type": "stream",
     "text": [
      "ent, save_index: 11100 - SAVED!\n",
      "6025\n"
     ]
    },
    {
     "name": "stderr",
     "output_type": "stream",
     "text": [
      " 82%|████████▏ | 11199/13575 [20:55<03:42, 10.70it/s]"
     ]
    },
    {
     "name": "stdout",
     "output_type": "stream",
     "text": [
      "ent, save_index: 11200 - SAVED!\n",
      "6072\n"
     ]
    },
    {
     "name": "stderr",
     "output_type": "stream",
     "text": [
      " 83%|████████▎ | 11300/13575 [21:07<04:45,  7.97it/s]"
     ]
    },
    {
     "name": "stdout",
     "output_type": "stream",
     "text": [
      "ent, save_index: 11300 - SAVED!\n",
      "6124\n"
     ]
    },
    {
     "name": "stderr",
     "output_type": "stream",
     "text": [
      " 84%|████████▍ | 11401/13575 [21:19<04:20,  8.33it/s]"
     ]
    },
    {
     "name": "stdout",
     "output_type": "stream",
     "text": [
      "ent, save_index: 11400 - SAVED!\n",
      "6180\n"
     ]
    },
    {
     "name": "stderr",
     "output_type": "stream",
     "text": [
      " 85%|████████▍ | 11500/13575 [21:30<04:02,  8.57it/s]"
     ]
    },
    {
     "name": "stdout",
     "output_type": "stream",
     "text": [
      "ent, save_index: 11500 - SAVED!\n",
      "6233\n"
     ]
    },
    {
     "name": "stderr",
     "output_type": "stream",
     "text": [
      " 85%|████████▌ | 11601/13575 [21:42<04:57,  6.64it/s]"
     ]
    },
    {
     "name": "stdout",
     "output_type": "stream",
     "text": [
      "ent, save_index: 11600 - SAVED!\n",
      "6287\n"
     ]
    },
    {
     "name": "stderr",
     "output_type": "stream",
     "text": [
      " 86%|████████▌ | 11701/13575 [21:53<02:56, 10.63it/s]"
     ]
    },
    {
     "name": "stdout",
     "output_type": "stream",
     "text": [
      "ent, save_index: 11700 - SAVED!\n",
      "6334\n"
     ]
    },
    {
     "name": "stderr",
     "output_type": "stream",
     "text": [
      " 87%|████████▋ | 11800/13575 [22:05<04:37,  6.41it/s]"
     ]
    },
    {
     "name": "stdout",
     "output_type": "stream",
     "text": [
      "ent, save_index: 11800 - SAVED!\n",
      "6380\n"
     ]
    },
    {
     "name": "stderr",
     "output_type": "stream",
     "text": [
      " 88%|████████▊ | 11903/13575 [22:16<02:10, 12.83it/s]"
     ]
    },
    {
     "name": "stdout",
     "output_type": "stream",
     "text": [
      "ent, save_index: 11900 - SAVED!\n",
      "6437\n"
     ]
    },
    {
     "name": "stderr",
     "output_type": "stream",
     "text": [
      " 88%|████████▊ | 11999/13575 [22:27<02:42,  9.71it/s]"
     ]
    },
    {
     "name": "stdout",
     "output_type": "stream",
     "text": [
      "ent, save_index: 12000 - SAVED!\n",
      "6491\n"
     ]
    },
    {
     "name": "stderr",
     "output_type": "stream",
     "text": [
      " 89%|████████▉ | 12100/13575 [22:39<02:55,  8.40it/s]"
     ]
    },
    {
     "name": "stdout",
     "output_type": "stream",
     "text": [
      "ent, save_index: 12100 - SAVED!\n",
      "6548\n"
     ]
    },
    {
     "name": "stderr",
     "output_type": "stream",
     "text": [
      " 90%|████████▉ | 12200/13575 [22:50<02:40,  8.59it/s]"
     ]
    },
    {
     "name": "stdout",
     "output_type": "stream",
     "text": [
      "ent, save_index: 12200 - SAVED!\n",
      "6599\n"
     ]
    },
    {
     "name": "stderr",
     "output_type": "stream",
     "text": [
      " 91%|█████████ | 12301/13575 [23:02<02:56,  7.23it/s]"
     ]
    },
    {
     "name": "stdout",
     "output_type": "stream",
     "text": [
      "ent, save_index: 12300 - SAVED!\n",
      "6649\n"
     ]
    },
    {
     "name": "stderr",
     "output_type": "stream",
     "text": [
      " 91%|█████████▏| 12400/13575 [23:13<02:49,  6.94it/s]"
     ]
    },
    {
     "name": "stdout",
     "output_type": "stream",
     "text": [
      "ent, save_index: 12400 - SAVED!\n",
      "6705\n"
     ]
    },
    {
     "name": "stderr",
     "output_type": "stream",
     "text": [
      " 92%|█████████▏| 12500/13575 [23:23<02:14,  8.01it/s]"
     ]
    },
    {
     "name": "stdout",
     "output_type": "stream",
     "text": [
      "ent, save_index: 12500 - SAVED!\n",
      "6756\n"
     ]
    },
    {
     "name": "stderr",
     "output_type": "stream",
     "text": [
      " 93%|█████████▎| 12600/13575 [23:34<02:44,  5.94it/s]"
     ]
    },
    {
     "name": "stdout",
     "output_type": "stream",
     "text": [
      "ent, save_index: 12600 - SAVED!\n",
      "6803\n"
     ]
    },
    {
     "name": "stderr",
     "output_type": "stream",
     "text": [
      " 94%|█████████▎| 12699/13575 [23:46<01:23, 10.55it/s]"
     ]
    },
    {
     "name": "stdout",
     "output_type": "stream",
     "text": [
      "ent, save_index: 12700 - SAVED!\n",
      "6859\n"
     ]
    },
    {
     "name": "stderr",
     "output_type": "stream",
     "text": [
      " 94%|█████████▍| 12800/13575 [24:01<01:51,  6.94it/s]"
     ]
    },
    {
     "name": "stdout",
     "output_type": "stream",
     "text": [
      "ent, save_index: 12800 - SAVED!\n",
      "6907\n"
     ]
    },
    {
     "name": "stderr",
     "output_type": "stream",
     "text": [
      " 95%|█████████▌| 12900/13575 [24:12<01:10,  9.62it/s]"
     ]
    },
    {
     "name": "stdout",
     "output_type": "stream",
     "text": [
      "ent, save_index: 12900 - SAVED!\n",
      "6948\n"
     ]
    },
    {
     "name": "stderr",
     "output_type": "stream",
     "text": [
      " 96%|█████████▌| 13000/13575 [24:25<01:02,  9.17it/s]"
     ]
    },
    {
     "name": "stdout",
     "output_type": "stream",
     "text": [
      "ent, save_index: 13000 - SAVED!\n",
      "7001\n"
     ]
    },
    {
     "name": "stderr",
     "output_type": "stream",
     "text": [
      " 97%|█████████▋| 13101/13575 [24:36<00:53,  8.91it/s]"
     ]
    },
    {
     "name": "stdout",
     "output_type": "stream",
     "text": [
      "ent, save_index: 13100 - SAVED!\n",
      "7058\n"
     ]
    },
    {
     "name": "stderr",
     "output_type": "stream",
     "text": [
      " 97%|█████████▋| 13201/13575 [24:47<00:39,  9.43it/s]"
     ]
    },
    {
     "name": "stdout",
     "output_type": "stream",
     "text": [
      "ent, save_index: 13200 - SAVED!\n",
      "7108\n"
     ]
    },
    {
     "name": "stderr",
     "output_type": "stream",
     "text": [
      " 98%|█████████▊| 13302/13575 [24:59<00:26, 10.18it/s]"
     ]
    },
    {
     "name": "stdout",
     "output_type": "stream",
     "text": [
      "ent, save_index: 13300 - SAVED!\n",
      "7154\n"
     ]
    },
    {
     "name": "stderr",
     "output_type": "stream",
     "text": [
      " 99%|█████████▊| 13401/13575 [25:09<00:17, 10.06it/s]"
     ]
    },
    {
     "name": "stdout",
     "output_type": "stream",
     "text": [
      "ent, save_index: 13400 - SAVED!\n",
      "7199\n"
     ]
    },
    {
     "name": "stderr",
     "output_type": "stream",
     "text": [
      " 99%|█████████▉| 13500/13575 [25:20<00:10,  7.46it/s]"
     ]
    },
    {
     "name": "stdout",
     "output_type": "stream",
     "text": [
      "ent, save_index: 13500 - SAVED!\n",
      "7247\n"
     ]
    },
    {
     "name": "stderr",
     "output_type": "stream",
     "text": [
      "100%|██████████| 13575/13575 [25:28<00:00,  8.88it/s]\n"
     ]
    },
    {
     "name": "stdout",
     "output_type": "stream",
     "text": [
      "Corruption done and saved to: data/corruption_dict/ent.pkl\n",
      "Total corruption_count = 7528\n",
      "Corruption: neg\n"
     ]
    },
    {
     "name": "stderr",
     "output_type": "stream",
     "text": [
      "  1%|          | 101/13575 [00:10<28:41,  7.83it/s]"
     ]
    },
    {
     "name": "stdout",
     "output_type": "stream",
     "text": [
      "neg, save_index: 100 - SAVED!\n",
      "58\n"
     ]
    },
    {
     "name": "stderr",
     "output_type": "stream",
     "text": [
      "  1%|▏         | 201/13575 [00:22<26:42,  8.34it/s]"
     ]
    },
    {
     "name": "stdout",
     "output_type": "stream",
     "text": [
      "neg, save_index: 200 - SAVED!\n",
      "118\n"
     ]
    },
    {
     "name": "stderr",
     "output_type": "stream",
     "text": [
      "  2%|▏         | 301/13575 [00:33<24:35,  8.99it/s]"
     ]
    },
    {
     "name": "stdout",
     "output_type": "stream",
     "text": [
      "neg, save_index: 300 - SAVED!\n",
      "177\n"
     ]
    },
    {
     "name": "stderr",
     "output_type": "stream",
     "text": [
      "  3%|▎         | 400/13575 [00:45<23:25,  9.38it/s]"
     ]
    },
    {
     "name": "stdout",
     "output_type": "stream",
     "text": [
      "neg, save_index: 400 - SAVED!\n",
      "243\n"
     ]
    },
    {
     "name": "stderr",
     "output_type": "stream",
     "text": [
      "  4%|▎         | 499/13575 [00:55<23:32,  9.25it/s]"
     ]
    },
    {
     "name": "stdout",
     "output_type": "stream",
     "text": [
      "neg, save_index: 500 - SAVED!\n",
      "306\n"
     ]
    },
    {
     "name": "stderr",
     "output_type": "stream",
     "text": [
      "  4%|▍         | 601/13575 [01:08<28:41,  7.54it/s]"
     ]
    },
    {
     "name": "stdout",
     "output_type": "stream",
     "text": [
      "neg, save_index: 600 - SAVED!\n",
      "368\n"
     ]
    },
    {
     "name": "stderr",
     "output_type": "stream",
     "text": [
      "  5%|▌         | 701/13575 [01:19<30:23,  7.06it/s]"
     ]
    },
    {
     "name": "stdout",
     "output_type": "stream",
     "text": [
      "neg, save_index: 700 - SAVED!\n",
      "424\n"
     ]
    },
    {
     "name": "stderr",
     "output_type": "stream",
     "text": [
      "  6%|▌         | 802/13575 [01:31<23:16,  9.15it/s]"
     ]
    },
    {
     "name": "stdout",
     "output_type": "stream",
     "text": [
      "neg, save_index: 800 - SAVED!\n",
      "486\n"
     ]
    },
    {
     "name": "stderr",
     "output_type": "stream",
     "text": [
      "  7%|▋         | 901/13575 [01:43<23:20,  9.05it/s]"
     ]
    },
    {
     "name": "stdout",
     "output_type": "stream",
     "text": [
      "neg, save_index: 900 - SAVED!\n",
      "537\n"
     ]
    },
    {
     "name": "stderr",
     "output_type": "stream",
     "text": [
      "  7%|▋         | 1001/13575 [01:56<24:56,  8.40it/s] "
     ]
    },
    {
     "name": "stdout",
     "output_type": "stream",
     "text": [
      "neg, save_index: 1000 - SAVED!\n",
      "593\n"
     ]
    },
    {
     "name": "stderr",
     "output_type": "stream",
     "text": [
      "  8%|▊         | 1100/13575 [02:08<28:01,  7.42it/s]"
     ]
    },
    {
     "name": "stdout",
     "output_type": "stream",
     "text": [
      "neg, save_index: 1100 - SAVED!\n",
      "652\n"
     ]
    },
    {
     "name": "stderr",
     "output_type": "stream",
     "text": [
      "  9%|▉         | 1201/13575 [02:19<23:05,  8.93it/s]"
     ]
    },
    {
     "name": "stdout",
     "output_type": "stream",
     "text": [
      "neg, save_index: 1200 - SAVED!\n",
      "715\n"
     ]
    },
    {
     "name": "stderr",
     "output_type": "stream",
     "text": [
      " 10%|▉         | 1300/13575 [02:31<27:09,  7.53it/s]"
     ]
    },
    {
     "name": "stdout",
     "output_type": "stream",
     "text": [
      "neg, save_index: 1300 - SAVED!\n",
      "765\n"
     ]
    },
    {
     "name": "stderr",
     "output_type": "stream",
     "text": [
      " 10%|█         | 1402/13575 [02:44<29:09,  6.96it/s]  "
     ]
    },
    {
     "name": "stdout",
     "output_type": "stream",
     "text": [
      "neg, save_index: 1400 - SAVED!\n",
      "817\n"
     ]
    },
    {
     "name": "stderr",
     "output_type": "stream",
     "text": [
      " 11%|█         | 1501/13575 [02:55<22:41,  8.87it/s]"
     ]
    },
    {
     "name": "stdout",
     "output_type": "stream",
     "text": [
      "neg, save_index: 1500 - SAVED!\n",
      "876\n"
     ]
    },
    {
     "name": "stderr",
     "output_type": "stream",
     "text": [
      " 12%|█▏        | 1600/13575 [03:06<22:32,  8.86it/s]"
     ]
    },
    {
     "name": "stdout",
     "output_type": "stream",
     "text": [
      "neg, save_index: 1600 - SAVED!\n",
      "939\n"
     ]
    },
    {
     "name": "stderr",
     "output_type": "stream",
     "text": [
      " 13%|█▎        | 1700/13575 [03:16<20:40,  9.57it/s]"
     ]
    },
    {
     "name": "stdout",
     "output_type": "stream",
     "text": [
      "neg, save_index: 1700 - SAVED!\n",
      "995\n"
     ]
    },
    {
     "name": "stderr",
     "output_type": "stream",
     "text": [
      " 13%|█▎        | 1800/13575 [03:27<19:04, 10.29it/s]"
     ]
    },
    {
     "name": "stdout",
     "output_type": "stream",
     "text": [
      "neg, save_index: 1800 - SAVED!\n",
      "1052\n"
     ]
    },
    {
     "name": "stderr",
     "output_type": "stream",
     "text": [
      " 14%|█▍        | 1900/13575 [03:39<22:21,  8.70it/s]"
     ]
    },
    {
     "name": "stdout",
     "output_type": "stream",
     "text": [
      "neg, save_index: 1900 - SAVED!\n",
      "1107\n"
     ]
    },
    {
     "name": "stderr",
     "output_type": "stream",
     "text": [
      " 15%|█▍        | 2000/13575 [03:50<19:55,  9.68it/s]"
     ]
    },
    {
     "name": "stdout",
     "output_type": "stream",
     "text": [
      "neg, save_index: 2000 - SAVED!\n",
      "1161\n"
     ]
    },
    {
     "name": "stderr",
     "output_type": "stream",
     "text": [
      " 15%|█▌        | 2101/13575 [04:02<22:04,  8.66it/s]"
     ]
    },
    {
     "name": "stdout",
     "output_type": "stream",
     "text": [
      "neg, save_index: 2100 - SAVED!\n",
      "1215\n"
     ]
    },
    {
     "name": "stderr",
     "output_type": "stream",
     "text": [
      " 16%|█▌        | 2200/13575 [04:14<20:40,  9.17it/s]"
     ]
    },
    {
     "name": "stdout",
     "output_type": "stream",
     "text": [
      "neg, save_index: 2200 - SAVED!\n",
      "1273\n"
     ]
    },
    {
     "name": "stderr",
     "output_type": "stream",
     "text": [
      " 17%|█▋        | 2300/13575 [04:24<24:42,  7.61it/s]"
     ]
    },
    {
     "name": "stdout",
     "output_type": "stream",
     "text": [
      "neg, save_index: 2300 - SAVED!\n",
      "1324\n"
     ]
    },
    {
     "name": "stderr",
     "output_type": "stream",
     "text": [
      " 18%|█▊        | 2402/13575 [04:35<20:34,  9.05it/s]"
     ]
    },
    {
     "name": "stdout",
     "output_type": "stream",
     "text": [
      "neg, save_index: 2400 - SAVED!\n",
      "1386\n"
     ]
    },
    {
     "name": "stderr",
     "output_type": "stream",
     "text": [
      " 18%|█▊        | 2500/13575 [04:46<17:34, 10.50it/s]"
     ]
    },
    {
     "name": "stdout",
     "output_type": "stream",
     "text": [
      "neg, save_index: 2500 - SAVED!\n",
      "1441\n"
     ]
    },
    {
     "name": "stderr",
     "output_type": "stream",
     "text": [
      " 19%|█▉        | 2600/13575 [04:57<25:25,  7.19it/s]"
     ]
    },
    {
     "name": "stdout",
     "output_type": "stream",
     "text": [
      "neg, save_index: 2600 - SAVED!\n",
      "1501\n"
     ]
    },
    {
     "name": "stderr",
     "output_type": "stream",
     "text": [
      " 20%|█▉        | 2700/13575 [05:09<20:04,  9.03it/s]"
     ]
    },
    {
     "name": "stdout",
     "output_type": "stream",
     "text": [
      "neg, save_index: 2700 - SAVED!\n",
      "1558\n"
     ]
    },
    {
     "name": "stderr",
     "output_type": "stream",
     "text": [
      " 21%|██        | 2800/13575 [05:20<20:28,  8.77it/s]"
     ]
    },
    {
     "name": "stdout",
     "output_type": "stream",
     "text": [
      "neg, save_index: 2800 - SAVED!\n",
      "1616\n"
     ]
    },
    {
     "name": "stderr",
     "output_type": "stream",
     "text": [
      " 21%|██▏       | 2900/13575 [05:32<20:23,  8.72it/s]"
     ]
    },
    {
     "name": "stdout",
     "output_type": "stream",
     "text": [
      "neg, save_index: 2900 - SAVED!\n",
      "1679\n"
     ]
    },
    {
     "name": "stderr",
     "output_type": "stream",
     "text": [
      " 22%|██▏       | 3000/13575 [05:43<18:57,  9.29it/s]"
     ]
    },
    {
     "name": "stdout",
     "output_type": "stream",
     "text": [
      "neg, save_index: 3000 - SAVED!\n",
      "1744\n"
     ]
    },
    {
     "name": "stderr",
     "output_type": "stream",
     "text": [
      " 23%|██▎       | 3100/13575 [05:55<25:12,  6.92it/s]"
     ]
    },
    {
     "name": "stdout",
     "output_type": "stream",
     "text": [
      "neg, save_index: 3100 - SAVED!\n",
      "1809\n"
     ]
    },
    {
     "name": "stderr",
     "output_type": "stream",
     "text": [
      " 24%|██▎       | 3201/13575 [06:06<17:29,  9.89it/s]"
     ]
    },
    {
     "name": "stdout",
     "output_type": "stream",
     "text": [
      "neg, save_index: 3200 - SAVED!\n",
      "1863\n"
     ]
    },
    {
     "name": "stderr",
     "output_type": "stream",
     "text": [
      " 24%|██▍       | 3300/13575 [06:19<20:19,  8.43it/s]  "
     ]
    },
    {
     "name": "stdout",
     "output_type": "stream",
     "text": [
      "neg, save_index: 3300 - SAVED!\n",
      "1928\n"
     ]
    },
    {
     "name": "stderr",
     "output_type": "stream",
     "text": [
      " 25%|██▌       | 3400/13575 [06:30<26:00,  6.52it/s]"
     ]
    },
    {
     "name": "stdout",
     "output_type": "stream",
     "text": [
      "neg, save_index: 3400 - SAVED!\n",
      "1982\n"
     ]
    },
    {
     "name": "stderr",
     "output_type": "stream",
     "text": [
      " 26%|██▌       | 3501/13575 [06:43<26:39,  6.30it/s]  "
     ]
    },
    {
     "name": "stdout",
     "output_type": "stream",
     "text": [
      "neg, save_index: 3500 - SAVED!\n",
      "2037\n"
     ]
    },
    {
     "name": "stderr",
     "output_type": "stream",
     "text": [
      " 27%|██▋       | 3600/13575 [06:54<16:26, 10.12it/s]"
     ]
    },
    {
     "name": "stdout",
     "output_type": "stream",
     "text": [
      "neg, save_index: 3600 - SAVED!\n",
      "2097\n"
     ]
    },
    {
     "name": "stderr",
     "output_type": "stream",
     "text": [
      " 27%|██▋       | 3699/13575 [07:05<18:11,  9.05it/s]"
     ]
    },
    {
     "name": "stdout",
     "output_type": "stream",
     "text": [
      "neg, save_index: 3700 - SAVED!\n",
      "2153\n"
     ]
    },
    {
     "name": "stderr",
     "output_type": "stream",
     "text": [
      " 28%|██▊       | 3801/13575 [07:17<15:25, 10.56it/s]"
     ]
    },
    {
     "name": "stdout",
     "output_type": "stream",
     "text": [
      "neg, save_index: 3800 - SAVED!\n",
      "2209\n"
     ]
    },
    {
     "name": "stderr",
     "output_type": "stream",
     "text": [
      " 29%|██▊       | 3901/13575 [07:29<20:55,  7.71it/s]"
     ]
    },
    {
     "name": "stdout",
     "output_type": "stream",
     "text": [
      "neg, save_index: 3900 - SAVED!\n",
      "2263\n"
     ]
    },
    {
     "name": "stderr",
     "output_type": "stream",
     "text": [
      " 29%|██▉       | 4001/13575 [07:40<15:01, 10.62it/s]"
     ]
    },
    {
     "name": "stdout",
     "output_type": "stream",
     "text": [
      "neg, save_index: 4000 - SAVED!\n",
      "2319\n"
     ]
    },
    {
     "name": "stderr",
     "output_type": "stream",
     "text": [
      " 30%|███       | 4100/13575 [07:51<18:03,  8.74it/s]"
     ]
    },
    {
     "name": "stdout",
     "output_type": "stream",
     "text": [
      "neg, save_index: 4100 - SAVED!\n",
      "2373\n"
     ]
    },
    {
     "name": "stderr",
     "output_type": "stream",
     "text": [
      " 31%|███       | 4200/13575 [08:02<24:44,  6.31it/s]"
     ]
    },
    {
     "name": "stdout",
     "output_type": "stream",
     "text": [
      "neg, save_index: 4200 - SAVED!\n",
      "2427\n"
     ]
    },
    {
     "name": "stderr",
     "output_type": "stream",
     "text": [
      " 32%|███▏      | 4301/13575 [08:13<19:04,  8.10it/s]"
     ]
    },
    {
     "name": "stdout",
     "output_type": "stream",
     "text": [
      "neg, save_index: 4300 - SAVED!\n",
      "2483\n"
     ]
    },
    {
     "name": "stderr",
     "output_type": "stream",
     "text": [
      " 32%|███▏      | 4400/13575 [08:24<21:32,  7.10it/s]"
     ]
    },
    {
     "name": "stdout",
     "output_type": "stream",
     "text": [
      "neg, save_index: 4400 - SAVED!\n",
      "2539\n"
     ]
    },
    {
     "name": "stderr",
     "output_type": "stream",
     "text": [
      " 33%|███▎      | 4501/13575 [08:36<17:17,  8.75it/s]"
     ]
    },
    {
     "name": "stdout",
     "output_type": "stream",
     "text": [
      "neg, save_index: 4500 - SAVED!\n",
      "2593\n"
     ]
    },
    {
     "name": "stderr",
     "output_type": "stream",
     "text": [
      " 34%|███▍      | 4599/13575 [08:47<12:32, 11.93it/s]"
     ]
    },
    {
     "name": "stdout",
     "output_type": "stream",
     "text": [
      "neg, save_index: 4600 - SAVED!\n",
      "2659\n"
     ]
    },
    {
     "name": "stderr",
     "output_type": "stream",
     "text": [
      " 35%|███▍      | 4699/13575 [08:59<15:57,  9.27it/s]"
     ]
    },
    {
     "name": "stdout",
     "output_type": "stream",
     "text": [
      "neg, save_index: 4700 - SAVED!\n",
      "2716\n"
     ]
    },
    {
     "name": "stderr",
     "output_type": "stream",
     "text": [
      " 35%|███▌      | 4801/13575 [09:10<13:35, 10.76it/s]"
     ]
    },
    {
     "name": "stdout",
     "output_type": "stream",
     "text": [
      "neg, save_index: 4800 - SAVED!\n",
      "2776\n"
     ]
    },
    {
     "name": "stderr",
     "output_type": "stream",
     "text": [
      " 36%|███▌      | 4901/13575 [09:20<15:12,  9.51it/s]"
     ]
    },
    {
     "name": "stdout",
     "output_type": "stream",
     "text": [
      "neg, save_index: 4900 - SAVED!\n",
      "2832\n"
     ]
    },
    {
     "name": "stderr",
     "output_type": "stream",
     "text": [
      " 37%|███▋      | 5000/13575 [09:32<16:23,  8.71it/s]"
     ]
    },
    {
     "name": "stdout",
     "output_type": "stream",
     "text": [
      "neg, save_index: 5000 - SAVED!\n",
      "2885\n"
     ]
    },
    {
     "name": "stderr",
     "output_type": "stream",
     "text": [
      " 38%|███▊      | 5100/13575 [09:43<13:06, 10.77it/s]"
     ]
    },
    {
     "name": "stdout",
     "output_type": "stream",
     "text": [
      "neg, save_index: 5100 - SAVED!\n",
      "2940\n"
     ]
    },
    {
     "name": "stderr",
     "output_type": "stream",
     "text": [
      " 38%|███▊      | 5201/13575 [09:55<16:17,  8.56it/s]"
     ]
    },
    {
     "name": "stdout",
     "output_type": "stream",
     "text": [
      "neg, save_index: 5200 - SAVED!\n",
      "3004\n"
     ]
    },
    {
     "name": "stderr",
     "output_type": "stream",
     "text": [
      " 39%|███▉      | 5301/13575 [10:07<17:30,  7.87it/s]"
     ]
    },
    {
     "name": "stdout",
     "output_type": "stream",
     "text": [
      "neg, save_index: 5300 - SAVED!\n",
      "3064\n"
     ]
    },
    {
     "name": "stderr",
     "output_type": "stream",
     "text": [
      " 40%|███▉      | 5401/13575 [10:19<17:32,  7.76it/s]"
     ]
    },
    {
     "name": "stdout",
     "output_type": "stream",
     "text": [
      "neg, save_index: 5400 - SAVED!\n",
      "3122\n"
     ]
    },
    {
     "name": "stderr",
     "output_type": "stream",
     "text": [
      " 41%|████      | 5500/13575 [10:31<19:37,  6.86it/s]"
     ]
    },
    {
     "name": "stdout",
     "output_type": "stream",
     "text": [
      "neg, save_index: 5500 - SAVED!\n",
      "3183\n"
     ]
    },
    {
     "name": "stderr",
     "output_type": "stream",
     "text": [
      " 41%|████▏     | 5600/13575 [10:43<20:15,  6.56it/s]"
     ]
    },
    {
     "name": "stdout",
     "output_type": "stream",
     "text": [
      "neg, save_index: 5600 - SAVED!\n",
      "3239\n"
     ]
    },
    {
     "name": "stderr",
     "output_type": "stream",
     "text": [
      " 42%|████▏     | 5701/13575 [10:54<19:46,  6.64it/s]"
     ]
    },
    {
     "name": "stdout",
     "output_type": "stream",
     "text": [
      "neg, save_index: 5700 - SAVED!\n",
      "3298\n"
     ]
    },
    {
     "name": "stderr",
     "output_type": "stream",
     "text": [
      " 43%|████▎     | 5800/13575 [11:05<15:49,  8.19it/s]"
     ]
    },
    {
     "name": "stdout",
     "output_type": "stream",
     "text": [
      "neg, save_index: 5800 - SAVED!\n",
      "3356\n"
     ]
    },
    {
     "name": "stderr",
     "output_type": "stream",
     "text": [
      " 43%|████▎     | 5900/13575 [11:17<14:18,  8.94it/s]"
     ]
    },
    {
     "name": "stdout",
     "output_type": "stream",
     "text": [
      "neg, save_index: 5900 - SAVED!\n",
      "3405\n"
     ]
    },
    {
     "name": "stderr",
     "output_type": "stream",
     "text": [
      " 44%|████▍     | 5999/13575 [11:28<11:14, 11.24it/s]"
     ]
    },
    {
     "name": "stdout",
     "output_type": "stream",
     "text": [
      "neg, save_index: 6000 - SAVED!\n",
      "3464\n"
     ]
    },
    {
     "name": "stderr",
     "output_type": "stream",
     "text": [
      " 45%|████▍     | 6101/13575 [11:40<12:40,  9.82it/s]"
     ]
    },
    {
     "name": "stdout",
     "output_type": "stream",
     "text": [
      "neg, save_index: 6100 - SAVED!\n",
      "3521\n"
     ]
    },
    {
     "name": "stderr",
     "output_type": "stream",
     "text": [
      " 46%|████▌     | 6200/13575 [11:51<16:01,  7.67it/s]"
     ]
    },
    {
     "name": "stdout",
     "output_type": "stream",
     "text": [
      "neg, save_index: 6200 - SAVED!\n",
      "3575\n"
     ]
    },
    {
     "name": "stderr",
     "output_type": "stream",
     "text": [
      " 46%|████▋     | 6301/13575 [12:01<13:15,  9.14it/s]"
     ]
    },
    {
     "name": "stdout",
     "output_type": "stream",
     "text": [
      "neg, save_index: 6300 - SAVED!\n",
      "3633\n"
     ]
    },
    {
     "name": "stderr",
     "output_type": "stream",
     "text": [
      " 47%|████▋     | 6400/13575 [12:12<11:33, 10.35it/s]"
     ]
    },
    {
     "name": "stdout",
     "output_type": "stream",
     "text": [
      "neg, save_index: 6400 - SAVED!\n",
      "3689\n"
     ]
    },
    {
     "name": "stderr",
     "output_type": "stream",
     "text": [
      " 48%|████▊     | 6500/13575 [12:23<15:30,  7.60it/s]"
     ]
    },
    {
     "name": "stdout",
     "output_type": "stream",
     "text": [
      "neg, save_index: 6500 - SAVED!\n",
      "3750\n"
     ]
    },
    {
     "name": "stderr",
     "output_type": "stream",
     "text": [
      " 49%|████▊     | 6601/13575 [12:36<13:55,  8.35it/s]"
     ]
    },
    {
     "name": "stdout",
     "output_type": "stream",
     "text": [
      "neg, save_index: 6600 - SAVED!\n",
      "3808\n"
     ]
    },
    {
     "name": "stderr",
     "output_type": "stream",
     "text": [
      " 49%|████▉     | 6700/13575 [12:48<22:00,  5.21it/s]"
     ]
    },
    {
     "name": "stdout",
     "output_type": "stream",
     "text": [
      "neg, save_index: 6700 - SAVED!\n",
      "3865\n"
     ]
    },
    {
     "name": "stderr",
     "output_type": "stream",
     "text": [
      " 50%|█████     | 6800/13575 [12:59<11:36,  9.73it/s]"
     ]
    },
    {
     "name": "stdout",
     "output_type": "stream",
     "text": [
      "neg, save_index: 6800 - SAVED!\n",
      "3931\n"
     ]
    },
    {
     "name": "stderr",
     "output_type": "stream",
     "text": [
      " 51%|█████     | 6901/13575 [13:10<13:27,  8.27it/s]"
     ]
    },
    {
     "name": "stdout",
     "output_type": "stream",
     "text": [
      "neg, save_index: 6900 - SAVED!\n",
      "3988\n"
     ]
    },
    {
     "name": "stderr",
     "output_type": "stream",
     "text": [
      " 52%|█████▏    | 7000/13575 [13:22<14:22,  7.63it/s]"
     ]
    },
    {
     "name": "stdout",
     "output_type": "stream",
     "text": [
      "neg, save_index: 7000 - SAVED!\n",
      "4046\n"
     ]
    },
    {
     "name": "stderr",
     "output_type": "stream",
     "text": [
      " 52%|█████▏    | 7101/13575 [13:35<13:17,  8.12it/s]"
     ]
    },
    {
     "name": "stdout",
     "output_type": "stream",
     "text": [
      "neg, save_index: 7100 - SAVED!\n",
      "4102\n"
     ]
    },
    {
     "name": "stderr",
     "output_type": "stream",
     "text": [
      " 53%|█████▎    | 7201/13575 [13:47<10:00, 10.61it/s]"
     ]
    },
    {
     "name": "stdout",
     "output_type": "stream",
     "text": [
      "neg, save_index: 7200 - SAVED!\n",
      "4161\n"
     ]
    },
    {
     "name": "stderr",
     "output_type": "stream",
     "text": [
      " 54%|█████▍    | 7300/13575 [13:57<11:48,  8.86it/s]"
     ]
    },
    {
     "name": "stdout",
     "output_type": "stream",
     "text": [
      "neg, save_index: 7300 - SAVED!\n",
      "4213\n"
     ]
    },
    {
     "name": "stderr",
     "output_type": "stream",
     "text": [
      " 55%|█████▍    | 7401/13575 [14:08<10:08, 10.15it/s]"
     ]
    },
    {
     "name": "stdout",
     "output_type": "stream",
     "text": [
      "neg, save_index: 7400 - SAVED!\n",
      "4259\n"
     ]
    },
    {
     "name": "stderr",
     "output_type": "stream",
     "text": [
      " 55%|█████▌    | 7502/13575 [14:19<09:29, 10.67it/s]"
     ]
    },
    {
     "name": "stdout",
     "output_type": "stream",
     "text": [
      "neg, save_index: 7500 - SAVED!\n",
      "4317\n"
     ]
    },
    {
     "name": "stderr",
     "output_type": "stream",
     "text": [
      " 56%|█████▌    | 7601/13575 [14:30<10:01,  9.94it/s]"
     ]
    },
    {
     "name": "stdout",
     "output_type": "stream",
     "text": [
      "neg, save_index: 7600 - SAVED!\n",
      "4379\n"
     ]
    },
    {
     "name": "stderr",
     "output_type": "stream",
     "text": [
      " 57%|█████▋    | 7700/13575 [14:41<12:15,  7.99it/s]"
     ]
    },
    {
     "name": "stdout",
     "output_type": "stream",
     "text": [
      "neg, save_index: 7700 - SAVED!\n",
      "4432\n"
     ]
    },
    {
     "name": "stderr",
     "output_type": "stream",
     "text": [
      " 57%|█████▋    | 7800/13575 [14:52<15:21,  6.26it/s]"
     ]
    },
    {
     "name": "stdout",
     "output_type": "stream",
     "text": [
      "neg, save_index: 7800 - SAVED!\n",
      "4487\n"
     ]
    },
    {
     "name": "stderr",
     "output_type": "stream",
     "text": [
      " 58%|█████▊    | 7901/13575 [15:03<11:34,  8.17it/s]"
     ]
    },
    {
     "name": "stdout",
     "output_type": "stream",
     "text": [
      "neg, save_index: 7900 - SAVED!\n",
      "4547\n"
     ]
    },
    {
     "name": "stderr",
     "output_type": "stream",
     "text": [
      " 59%|█████▉    | 8000/13575 [15:14<09:16, 10.01it/s]"
     ]
    },
    {
     "name": "stdout",
     "output_type": "stream",
     "text": [
      "neg, save_index: 8000 - SAVED!\n",
      "4602\n"
     ]
    },
    {
     "name": "stderr",
     "output_type": "stream",
     "text": [
      " 60%|█████▉    | 8100/13575 [15:25<10:00,  9.12it/s]"
     ]
    },
    {
     "name": "stdout",
     "output_type": "stream",
     "text": [
      "neg, save_index: 8100 - SAVED!\n",
      "4661\n"
     ]
    },
    {
     "name": "stderr",
     "output_type": "stream",
     "text": [
      " 60%|██████    | 8200/13575 [15:36<10:48,  8.28it/s]"
     ]
    },
    {
     "name": "stdout",
     "output_type": "stream",
     "text": [
      "neg, save_index: 8200 - SAVED!\n",
      "4720\n"
     ]
    },
    {
     "name": "stderr",
     "output_type": "stream",
     "text": [
      " 61%|██████    | 8302/13575 [15:48<09:24,  9.34it/s]"
     ]
    },
    {
     "name": "stdout",
     "output_type": "stream",
     "text": [
      "neg, save_index: 8300 - SAVED!\n",
      "4773\n"
     ]
    },
    {
     "name": "stderr",
     "output_type": "stream",
     "text": [
      " 62%|██████▏   | 8400/13575 [15:59<10:11,  8.46it/s]"
     ]
    },
    {
     "name": "stdout",
     "output_type": "stream",
     "text": [
      "neg, save_index: 8400 - SAVED!\n",
      "4842\n"
     ]
    },
    {
     "name": "stderr",
     "output_type": "stream",
     "text": [
      " 63%|██████▎   | 8499/13575 [16:10<07:23, 11.43it/s]"
     ]
    },
    {
     "name": "stdout",
     "output_type": "stream",
     "text": [
      "neg, save_index: 8500 - SAVED!\n",
      "4907\n"
     ]
    },
    {
     "name": "stderr",
     "output_type": "stream",
     "text": [
      " 63%|██████▎   | 8599/13575 [16:22<08:00, 10.35it/s]"
     ]
    },
    {
     "name": "stdout",
     "output_type": "stream",
     "text": [
      "neg, save_index: 8600 - SAVED!\n",
      "4963\n"
     ]
    },
    {
     "name": "stderr",
     "output_type": "stream",
     "text": [
      " 64%|██████▍   | 8701/13575 [16:34<10:36,  7.65it/s]"
     ]
    },
    {
     "name": "stdout",
     "output_type": "stream",
     "text": [
      "neg, save_index: 8700 - SAVED!\n",
      "5020\n"
     ]
    },
    {
     "name": "stderr",
     "output_type": "stream",
     "text": [
      " 65%|██████▍   | 8800/13575 [16:45<09:33,  8.33it/s]"
     ]
    },
    {
     "name": "stdout",
     "output_type": "stream",
     "text": [
      "neg, save_index: 8800 - SAVED!\n",
      "5074\n"
     ]
    },
    {
     "name": "stderr",
     "output_type": "stream",
     "text": [
      " 66%|██████▌   | 8901/13575 [16:58<10:53,  7.15it/s]"
     ]
    },
    {
     "name": "stdout",
     "output_type": "stream",
     "text": [
      "neg, save_index: 8900 - SAVED!\n",
      "5130\n"
     ]
    },
    {
     "name": "stderr",
     "output_type": "stream",
     "text": [
      " 66%|██████▋   | 9000/13575 [17:10<08:48,  8.66it/s]"
     ]
    },
    {
     "name": "stdout",
     "output_type": "stream",
     "text": [
      "neg, save_index: 9000 - SAVED!\n",
      "5178\n"
     ]
    },
    {
     "name": "stderr",
     "output_type": "stream",
     "text": [
      " 67%|██████▋   | 9101/13575 [17:20<09:21,  7.97it/s]"
     ]
    },
    {
     "name": "stdout",
     "output_type": "stream",
     "text": [
      "neg, save_index: 9100 - SAVED!\n",
      "5234\n"
     ]
    },
    {
     "name": "stderr",
     "output_type": "stream",
     "text": [
      " 68%|██████▊   | 9201/13575 [17:31<08:31,  8.55it/s]"
     ]
    },
    {
     "name": "stdout",
     "output_type": "stream",
     "text": [
      "neg, save_index: 9200 - SAVED!\n",
      "5293\n"
     ]
    },
    {
     "name": "stderr",
     "output_type": "stream",
     "text": [
      " 69%|██████▊   | 9300/13575 [17:43<07:07, 10.00it/s]"
     ]
    },
    {
     "name": "stdout",
     "output_type": "stream",
     "text": [
      "neg, save_index: 9300 - SAVED!\n",
      "5347\n"
     ]
    },
    {
     "name": "stderr",
     "output_type": "stream",
     "text": [
      " 69%|██████▉   | 9400/13575 [17:54<08:18,  8.38it/s]"
     ]
    },
    {
     "name": "stdout",
     "output_type": "stream",
     "text": [
      "neg, save_index: 9400 - SAVED!\n",
      "5405\n"
     ]
    },
    {
     "name": "stderr",
     "output_type": "stream",
     "text": [
      " 70%|██████▉   | 9500/13575 [18:05<09:36,  7.07it/s]"
     ]
    },
    {
     "name": "stdout",
     "output_type": "stream",
     "text": [
      "neg, save_index: 9500 - SAVED!\n",
      "5461\n"
     ]
    },
    {
     "name": "stderr",
     "output_type": "stream",
     "text": [
      " 71%|███████   | 9601/13575 [18:17<08:39,  7.66it/s]"
     ]
    },
    {
     "name": "stdout",
     "output_type": "stream",
     "text": [
      "neg, save_index: 9600 - SAVED!\n",
      "5515\n"
     ]
    },
    {
     "name": "stderr",
     "output_type": "stream",
     "text": [
      " 71%|███████▏  | 9701/13575 [18:29<10:17,  6.27it/s]"
     ]
    },
    {
     "name": "stdout",
     "output_type": "stream",
     "text": [
      "neg, save_index: 9700 - SAVED!\n",
      "5572\n"
     ]
    },
    {
     "name": "stderr",
     "output_type": "stream",
     "text": [
      " 72%|███████▏  | 9801/13575 [18:40<06:56,  9.06it/s]"
     ]
    },
    {
     "name": "stdout",
     "output_type": "stream",
     "text": [
      "neg, save_index: 9800 - SAVED!\n",
      "5619\n"
     ]
    },
    {
     "name": "stderr",
     "output_type": "stream",
     "text": [
      " 73%|███████▎  | 9900/13575 [18:52<07:28,  8.20it/s]"
     ]
    },
    {
     "name": "stdout",
     "output_type": "stream",
     "text": [
      "neg, save_index: 9900 - SAVED!\n",
      "5672\n"
     ]
    },
    {
     "name": "stderr",
     "output_type": "stream",
     "text": [
      " 74%|███████▎  | 10001/13575 [19:03<06:06,  9.75it/s]"
     ]
    },
    {
     "name": "stdout",
     "output_type": "stream",
     "text": [
      "neg, save_index: 10000 - SAVED!\n",
      "5722\n"
     ]
    },
    {
     "name": "stderr",
     "output_type": "stream",
     "text": [
      " 74%|███████▍  | 10100/13575 [19:14<05:31, 10.47it/s]"
     ]
    },
    {
     "name": "stdout",
     "output_type": "stream",
     "text": [
      "neg, save_index: 10100 - SAVED!\n",
      "5780\n"
     ]
    },
    {
     "name": "stderr",
     "output_type": "stream",
     "text": [
      " 75%|███████▌  | 10200/13575 [19:25<06:47,  8.29it/s]"
     ]
    },
    {
     "name": "stdout",
     "output_type": "stream",
     "text": [
      "neg, save_index: 10200 - SAVED!\n",
      "5838\n"
     ]
    },
    {
     "name": "stderr",
     "output_type": "stream",
     "text": [
      " 76%|███████▌  | 10301/13575 [19:37<06:35,  8.27it/s]"
     ]
    },
    {
     "name": "stdout",
     "output_type": "stream",
     "text": [
      "neg, save_index: 10300 - SAVED!\n",
      "5899\n"
     ]
    },
    {
     "name": "stderr",
     "output_type": "stream",
     "text": [
      " 77%|███████▋  | 10401/13575 [19:48<06:08,  8.61it/s]"
     ]
    },
    {
     "name": "stdout",
     "output_type": "stream",
     "text": [
      "neg, save_index: 10400 - SAVED!\n",
      "5962\n"
     ]
    },
    {
     "name": "stderr",
     "output_type": "stream",
     "text": [
      " 77%|███████▋  | 10502/13575 [20:00<04:55, 10.38it/s]"
     ]
    },
    {
     "name": "stdout",
     "output_type": "stream",
     "text": [
      "neg, save_index: 10500 - SAVED!\n",
      "6029\n"
     ]
    },
    {
     "name": "stderr",
     "output_type": "stream",
     "text": [
      " 78%|███████▊  | 10601/13575 [20:10<05:16,  9.39it/s]"
     ]
    },
    {
     "name": "stdout",
     "output_type": "stream",
     "text": [
      "neg, save_index: 10600 - SAVED!\n",
      "6094\n"
     ]
    },
    {
     "name": "stderr",
     "output_type": "stream",
     "text": [
      " 79%|███████▉  | 10700/13575 [20:21<04:43, 10.14it/s]"
     ]
    },
    {
     "name": "stdout",
     "output_type": "stream",
     "text": [
      "neg, save_index: 10700 - SAVED!\n",
      "6157\n"
     ]
    },
    {
     "name": "stderr",
     "output_type": "stream",
     "text": [
      " 80%|███████▉  | 10800/13575 [20:33<06:50,  6.75it/s]"
     ]
    },
    {
     "name": "stdout",
     "output_type": "stream",
     "text": [
      "neg, save_index: 10800 - SAVED!\n",
      "6210\n"
     ]
    },
    {
     "name": "stderr",
     "output_type": "stream",
     "text": [
      " 80%|████████  | 10902/13575 [20:46<04:07, 10.82it/s]"
     ]
    },
    {
     "name": "stdout",
     "output_type": "stream",
     "text": [
      "neg, save_index: 10900 - SAVED!\n",
      "6266\n"
     ]
    },
    {
     "name": "stderr",
     "output_type": "stream",
     "text": [
      " 81%|████████  | 11000/13575 [20:57<06:48,  6.30it/s]"
     ]
    },
    {
     "name": "stdout",
     "output_type": "stream",
     "text": [
      "neg, save_index: 11000 - SAVED!\n",
      "6328\n"
     ]
    },
    {
     "name": "stderr",
     "output_type": "stream",
     "text": [
      " 82%|████████▏ | 11100/13575 [21:09<04:18,  9.57it/s]"
     ]
    },
    {
     "name": "stdout",
     "output_type": "stream",
     "text": [
      "neg, save_index: 11100 - SAVED!\n",
      "6379\n"
     ]
    },
    {
     "name": "stderr",
     "output_type": "stream",
     "text": [
      " 83%|████████▎ | 11201/13575 [21:20<04:19,  9.14it/s]"
     ]
    },
    {
     "name": "stdout",
     "output_type": "stream",
     "text": [
      "neg, save_index: 11200 - SAVED!\n",
      "6426\n"
     ]
    },
    {
     "name": "stderr",
     "output_type": "stream",
     "text": [
      " 83%|████████▎ | 11300/13575 [21:32<05:17,  7.17it/s]"
     ]
    },
    {
     "name": "stdout",
     "output_type": "stream",
     "text": [
      "neg, save_index: 11300 - SAVED!\n",
      "6485\n"
     ]
    },
    {
     "name": "stderr",
     "output_type": "stream",
     "text": [
      " 84%|████████▍ | 11400/13575 [21:44<05:02,  7.19it/s]"
     ]
    },
    {
     "name": "stdout",
     "output_type": "stream",
     "text": [
      "neg, save_index: 11400 - SAVED!\n",
      "6545\n"
     ]
    },
    {
     "name": "stderr",
     "output_type": "stream",
     "text": [
      " 85%|████████▍ | 11501/13575 [21:56<03:51,  8.95it/s]"
     ]
    },
    {
     "name": "stdout",
     "output_type": "stream",
     "text": [
      "neg, save_index: 11500 - SAVED!\n",
      "6601\n"
     ]
    },
    {
     "name": "stderr",
     "output_type": "stream",
     "text": [
      " 85%|████████▌ | 11601/13575 [22:07<04:52,  6.75it/s]"
     ]
    },
    {
     "name": "stdout",
     "output_type": "stream",
     "text": [
      "neg, save_index: 11600 - SAVED!\n",
      "6651\n"
     ]
    },
    {
     "name": "stderr",
     "output_type": "stream",
     "text": [
      " 86%|████████▌ | 11700/13575 [22:19<03:43,  8.40it/s]"
     ]
    },
    {
     "name": "stdout",
     "output_type": "stream",
     "text": [
      "neg, save_index: 11700 - SAVED!\n",
      "6705\n"
     ]
    },
    {
     "name": "stderr",
     "output_type": "stream",
     "text": [
      " 87%|████████▋ | 11802/13575 [22:31<03:11,  9.23it/s]"
     ]
    },
    {
     "name": "stdout",
     "output_type": "stream",
     "text": [
      "neg, save_index: 11800 - SAVED!\n",
      "6764\n"
     ]
    },
    {
     "name": "stderr",
     "output_type": "stream",
     "text": [
      " 88%|████████▊ | 11899/13575 [22:42<02:39, 10.50it/s]"
     ]
    },
    {
     "name": "stdout",
     "output_type": "stream",
     "text": [
      "neg, save_index: 11900 - SAVED!\n",
      "6824\n"
     ]
    },
    {
     "name": "stderr",
     "output_type": "stream",
     "text": [
      " 88%|████████▊ | 12000/13575 [22:53<03:05,  8.50it/s]"
     ]
    },
    {
     "name": "stdout",
     "output_type": "stream",
     "text": [
      "neg, save_index: 12000 - SAVED!\n",
      "6885\n"
     ]
    },
    {
     "name": "stderr",
     "output_type": "stream",
     "text": [
      " 89%|████████▉ | 12100/13575 [23:05<02:55,  8.39it/s]"
     ]
    },
    {
     "name": "stdout",
     "output_type": "stream",
     "text": [
      "neg, save_index: 12100 - SAVED!\n",
      "6944\n"
     ]
    },
    {
     "name": "stderr",
     "output_type": "stream",
     "text": [
      " 90%|████████▉ | 12201/13575 [23:15<02:49,  8.10it/s]"
     ]
    },
    {
     "name": "stdout",
     "output_type": "stream",
     "text": [
      "neg, save_index: 12200 - SAVED!\n",
      "6994\n"
     ]
    },
    {
     "name": "stderr",
     "output_type": "stream",
     "text": [
      " 91%|█████████ | 12299/13575 [23:26<02:07, 10.03it/s]"
     ]
    },
    {
     "name": "stdout",
     "output_type": "stream",
     "text": [
      "neg, save_index: 12300 - SAVED!\n",
      "7044\n"
     ]
    },
    {
     "name": "stderr",
     "output_type": "stream",
     "text": [
      " 91%|█████████▏| 12400/13575 [23:38<02:07,  9.21it/s]"
     ]
    },
    {
     "name": "stdout",
     "output_type": "stream",
     "text": [
      "neg, save_index: 12400 - SAVED!\n",
      "7100\n"
     ]
    },
    {
     "name": "stderr",
     "output_type": "stream",
     "text": [
      " 92%|█████████▏| 12500/13575 [23:50<02:34,  6.94it/s]"
     ]
    },
    {
     "name": "stdout",
     "output_type": "stream",
     "text": [
      "neg, save_index: 12500 - SAVED!\n",
      "7159\n"
     ]
    },
    {
     "name": "stderr",
     "output_type": "stream",
     "text": [
      " 93%|█████████▎| 12600/13575 [24:01<02:04,  7.82it/s]"
     ]
    },
    {
     "name": "stdout",
     "output_type": "stream",
     "text": [
      "neg, save_index: 12600 - SAVED!\n",
      "7204\n"
     ]
    },
    {
     "name": "stderr",
     "output_type": "stream",
     "text": [
      " 94%|█████████▎| 12700/13575 [24:13<01:47,  8.11it/s]"
     ]
    },
    {
     "name": "stdout",
     "output_type": "stream",
     "text": [
      "neg, save_index: 12700 - SAVED!\n",
      "7266\n"
     ]
    },
    {
     "name": "stderr",
     "output_type": "stream",
     "text": [
      " 94%|█████████▍| 12800/13575 [24:24<01:40,  7.69it/s]"
     ]
    },
    {
     "name": "stdout",
     "output_type": "stream",
     "text": [
      "neg, save_index: 12800 - SAVED!\n",
      "7326\n"
     ]
    },
    {
     "name": "stderr",
     "output_type": "stream",
     "text": [
      " 95%|█████████▌| 12900/13575 [24:36<01:29,  7.54it/s]"
     ]
    },
    {
     "name": "stdout",
     "output_type": "stream",
     "text": [
      "neg, save_index: 12900 - SAVED!\n",
      "7376\n"
     ]
    },
    {
     "name": "stderr",
     "output_type": "stream",
     "text": [
      " 96%|█████████▌| 13000/13575 [24:51<01:48,  5.29it/s]"
     ]
    },
    {
     "name": "stdout",
     "output_type": "stream",
     "text": [
      "neg, save_index: 13000 - SAVED!\n",
      "7430\n"
     ]
    },
    {
     "name": "stderr",
     "output_type": "stream",
     "text": [
      " 97%|█████████▋| 13100/13575 [25:02<00:43, 10.80it/s]"
     ]
    },
    {
     "name": "stdout",
     "output_type": "stream",
     "text": [
      "neg, save_index: 13100 - SAVED!\n",
      "7484\n"
     ]
    },
    {
     "name": "stderr",
     "output_type": "stream",
     "text": [
      " 97%|█████████▋| 13201/13575 [25:13<00:46,  8.10it/s]"
     ]
    },
    {
     "name": "stdout",
     "output_type": "stream",
     "text": [
      "neg, save_index: 13200 - SAVED!\n",
      "7537\n"
     ]
    },
    {
     "name": "stderr",
     "output_type": "stream",
     "text": [
      " 98%|█████████▊| 13301/13575 [25:25<00:29,  9.17it/s]"
     ]
    },
    {
     "name": "stdout",
     "output_type": "stream",
     "text": [
      "neg, save_index: 13300 - SAVED!\n",
      "7596\n"
     ]
    },
    {
     "name": "stderr",
     "output_type": "stream",
     "text": [
      " 99%|█████████▊| 13401/13575 [25:36<00:19,  8.82it/s]"
     ]
    },
    {
     "name": "stdout",
     "output_type": "stream",
     "text": [
      "neg, save_index: 13400 - SAVED!\n",
      "7651\n"
     ]
    },
    {
     "name": "stderr",
     "output_type": "stream",
     "text": [
      " 99%|█████████▉| 13500/13575 [25:46<00:09,  7.90it/s]"
     ]
    },
    {
     "name": "stdout",
     "output_type": "stream",
     "text": [
      "neg, save_index: 13500 - SAVED!\n",
      "7717\n"
     ]
    },
    {
     "name": "stderr",
     "output_type": "stream",
     "text": [
      "100%|██████████| 13575/13575 [25:55<00:00,  8.73it/s]"
     ]
    },
    {
     "name": "stdout",
     "output_type": "stream",
     "text": [
      "Corruption done and saved to: data/corruption_dict/neg.pkl\n",
      "Total corruption_count = 8049\n"
     ]
    },
    {
     "name": "stderr",
     "output_type": "stream",
     "text": [
      "\n"
     ]
    }
   ],
   "source": [
    "import pickle\n",
    "perturbations = [\n",
    "    \"predicate\",\n",
    "    \"smart\",\n",
    "    \"s_o\", \n",
    "#     \"bt\", \n",
    "    \"prn\", \n",
    "    \"dat\", \n",
    "    \"num\", \n",
    "    \"ent\", \n",
    "    \"neg\"\n",
    "]\n",
    "\n",
    "corrupt_percent = 0.8\n",
    "np.random.seed(2021)\n",
    "corrupt_indicies = np.random.choice(range(len(xsum_corrupted_train)), size=int(corrupt_percent*len(xsum_corrupted_train)))\n",
    "corruption_groups = np.array_split(corrupt_indicies, len(perturbations))\n",
    "\n",
    "total_corruption_count = 0\n",
    "iteration = 0\n",
    "\n",
    "spacy = nlp\n",
    "\n",
    "client = CoreNLPClient(timeout=150000000, be_quiet=True, annotators=['openie'], \n",
    "endpoint='http://localhost:9003')\n",
    "client.start()\n",
    "\n",
    "\n",
    "os.makedirs(f'data/corruption_dict_{corrupt_percent}/', exist_ok=True)\n",
    "\n",
    "for pert_type, indicies in zip(perturbations, corruption_groups):\n",
    "#     if pert_type == 'smart':\n",
    "#         continue\n",
    "    corrupted_summaries = {}\n",
    "    already_done_tracker = []\n",
    "    total_corruption_count = 0\n",
    "    iteration = 0\n",
    "    if os.path.exists(f'data/corruption_dict_{corrupt_percent}/{pert_type}.pkl'):\n",
    "        print('loaded previous file')\n",
    "        with open(f'data/corruption_dict_{corrupt_percent}/{pert_type}.pkl', 'rb') as f:\n",
    "            \n",
    "            corrupted_summaries = pickle.load(f)\n",
    "            already_done_tracker = corrupted_summaries.keys()\n",
    "            \n",
    "    print('Corruption: ' + pert_type)\n",
    "    \n",
    "    for index in tqdm.tqdm(indicies):\n",
    "\n",
    "        doc = xsum_corrupted_train[int(index)]\n",
    "        docid = doc['id']\n",
    "        \n",
    "        if docid in already_done_tracker:\n",
    "            continue\n",
    "            \n",
    "        summary = nlp(doc['summary'])\n",
    "        article = nlp(doc['document'])\n",
    "        \n",
    "        if pert_type == \"s_o\":\n",
    "            try:\n",
    "                new_summary, ags = s_o_swap(summary)\n",
    "            except Exception as e:\n",
    "                print(e)\n",
    "                new_summary = None\n",
    "                \n",
    "        elif pert_type == \"predicate\":\n",
    "                new_summary, ags = predicateswap(summary)\n",
    "        elif pert_type == \"smart\":\n",
    "            try:\n",
    "                new_summary, ags = smartswap(summary)\n",
    "            except Exception as e:\n",
    "                print(e)\n",
    "                new_summary = None\n",
    "        elif pert_type == \"bt\":\n",
    "            try:\n",
    "                new_summary, ags = backtranslate(summary)\n",
    "            except Exception as e:\n",
    "                print(e)\n",
    "                new_summary = None\n",
    "                \n",
    "        elif pert_type == \"prn\":\n",
    "            new_summary, ags = pronounswap(summary)\n",
    "        elif pert_type == \"dat\":\n",
    "            new_summary, ags = dateswap(summary, article)\n",
    "        elif pert_type == \"num\":\n",
    "            new_summary, ags = numberswap(summary, article)\n",
    "        elif pert_type == \"ent\":\n",
    "            new_summary, ags = entityswap(summary, article)\n",
    "        elif pert_type == \"neg\":\n",
    "            new_summary, ags = negation(summary)\n",
    "\n",
    "        if new_summary and pert_type != 'bt':\n",
    "            new_summary = addnoise(new_summary, ags)\n",
    "\n",
    "        if new_summary:\n",
    "            if new_summary.text != summary.text:\n",
    "              corrupted_summaries[docid] = new_summary.text\n",
    "              total_corruption_count += 1\n",
    "                \n",
    "        iteration +=1\n",
    "        if iteration % 100 == 0:\n",
    "          print(f\"{pert_type}, save_index: {iteration} - SAVED!\")\n",
    "          print(f\"{len(corrupted_summaries)}\")\n",
    "          with open(f'data/corruption_dict_{corrupt_percent}/{pert_type}.pkl', 'wb') as f:\n",
    "            pickle.dump(corrupted_summaries, f)\n",
    "    \n",
    "    \n",
    "    print('Corruption done and saved to: ' + 'data/corruption_dict/'+pert_type+'.pkl')\n",
    "    print('Total corruption_count = ' + str(total_corruption_count))\n",
    "    \n",
    "# client.stop()"
   ]
  },
  {
   "cell_type": "code",
   "execution_count": null,
   "metadata": {},
   "outputs": [],
   "source": [
    "# xsum_corrupted_train = xsum_corrupted_train.add_column('corrupted_summary', corrupted_summaries)\n",
    "# xsum_corrupted_train.save_to_disk(\"data/xsum_new_corrupted/train\")"
   ]
  },
  {
   "cell_type": "code",
   "execution_count": null,
   "metadata": {},
   "outputs": [],
   "source": []
  }
 ],
 "metadata": {
  "instance_type": "ml.t3.xlarge",
  "kernelspec": {
   "display_name": "Python 3 (Data Science)",
   "language": "python",
   "name": "python3__SAGEMAKER_INTERNAL__arn:aws:sagemaker:us-east-2:429704687514:image/datascience-1.0"
  },
  "language_info": {
   "codemirror_mode": {
    "name": "ipython",
    "version": 3
   },
   "file_extension": ".py",
   "mimetype": "text/x-python",
   "name": "python",
   "nbconvert_exporter": "python",
   "pygments_lexer": "ipython3",
   "version": "3.7.10"
  }
 },
 "nbformat": 4,
 "nbformat_minor": 4
}
